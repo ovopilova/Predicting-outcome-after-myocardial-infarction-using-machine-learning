{
 "cells": [
  {
   "cell_type": "code",
   "execution_count": 1,
   "metadata": {},
   "outputs": [],
   "source": [
    "import os\n",
    "from sklearn.datasets import fetch_covtype\n",
    "import random\n",
    "import numpy as np\n",
    "import pandas as pd\n",
    "import lightgbm as lgb\n",
    "from sklearn.metrics import accuracy_score, f1_score\n",
    "%load_ext autoreload\n",
    "%autoreload 2"
   ]
  },
  {
   "cell_type": "code",
   "execution_count": 2,
   "metadata": {},
   "outputs": [
    {
     "name": "stdout",
     "output_type": "stream",
     "text": [
      "The autoreload extension is already loaded. To reload it, use:\n",
      "  %reload_ext autoreload\n"
     ]
    }
   ],
   "source": [
    "from sklearn.datasets import make_classification\n",
    "from sklearn.model_selection import train_test_split\n",
    "import random\n",
    "import numpy as np\n",
    "import pandas as pd\n",
    "import lightgbm as lgb\n",
    "from sklearn.metrics import accuracy_score, f1_score\n",
    "import os\n",
    "%load_ext autoreload\n",
    "%autoreload 2"
   ]
  },
  {
   "cell_type": "code",
   "execution_count": 3,
   "metadata": {},
   "outputs": [],
   "source": [
    "def print_metrics(y_true, y_pred, tag):\n",
    "    if isinstance(y_true, pd.DataFrame) or isinstance(y_true, pd.Series):\n",
    "        y_true = y_true.values\n",
    "    if isinstance(y_pred, pd.DataFrame) or isinstance(y_pred, pd.Series):\n",
    "        y_pred = y_pred.values\n",
    "    if y_true.ndim>1:\n",
    "        y_true=y_true.ravel()\n",
    "    if y_pred.ndim>1:\n",
    "        y_pred=y_pred.ravel()\n",
    "    val_acc = accuracy_score(y_true, y_pred)\n",
    "    val_f1 = f1_score(y_true, y_pred)\n",
    "    print(f\"{tag} Acc: {val_acc} | {tag} F1: {val_f1}\")"
   ]
  },
  {
   "cell_type": "code",
   "execution_count": 4,
   "metadata": {},
   "outputs": [],
   "source": [
    "def print_metrics(y_true, y_pred, tag):\n",
    "    if isinstance(y_true, pd.DataFrame) or isinstance(y_true, pd.Series):\n",
    "        y_true = y_true.values\n",
    "    if isinstance(y_pred, pd.DataFrame) or isinstance(y_pred, pd.Series):\n",
    "        y_pred = y_pred.values\n",
    "    if y_true.ndim>1:\n",
    "        y_true=y_true.ravel()\n",
    "    if y_pred.ndim>1:\n",
    "        y_pred=y_pred.ravel()\n",
    "    val_acc = accuracy_score(y_true, y_pred)\n",
    "    val_f1 = f1_score(y_true, y_pred)\n",
    "    print(f\"{tag} Acc: {val_acc} | {tag} F1: {val_f1}\")"
   ]
  },
  {
   "cell_type": "code",
   "execution_count": 5,
   "metadata": {},
   "outputs": [],
   "source": [
    "X_train = pd.read_csv('X_train_undersample.csv', index_col = ['Unnamed: 0'])\n",
    "y_train = pd.read_csv('y_train_undersample.csv', index_col = ['Unnamed: 0'])\n",
    "X_test = pd.read_csv('X_test_undersample.csv', index_col = ['Unnamed: 0'])\n",
    "y_test = pd.read_csv('y_test_undersample.csv', index_col = ['Unnamed: 0'])"
   ]
  },
  {
   "cell_type": "code",
   "execution_count": 6,
   "metadata": {},
   "outputs": [],
   "source": [
    "cat_col_names = ['Килип1', 'Килип4', 'Тромболит3', 'ГБ6', 'АКШ', 'Килип3', 'Килип2', 'Кл.вар.ИМ1', 'Хр.оч.инф2']\n",
    "num_col_names = ['Creatin', 'ФУ1', 'ИндНор1', 'Возраст', 'Pсрлао(Адср)1', 'ПИ', 'Рла1']"
   ]
  },
  {
   "cell_type": "code",
   "execution_count": 7,
   "metadata": {},
   "outputs": [],
   "source": [
    "from pytorch_tabular import TabularModel\n",
    "from pytorch_tabular.models import CategoryEmbeddingModelConfig, NodeConfig, TabNetModelConfig\n",
    "from pytorch_tabular.config import DataConfig, OptimizerConfig, TrainerConfig, ExperimentConfig"
   ]
  },
  {
   "cell_type": "code",
   "execution_count": 14,
   "metadata": {},
   "outputs": [],
   "source": [
    "data_config = DataConfig(\n",
    "    target=['target'],\n",
    "    continuous_cols=num_col_names,\n",
    "    categorical_cols=cat_col_names,\n",
    "    continuous_feature_transform = \"quantile_normal\"\n",
    ")\n",
    "\n",
    "trainer_config = TrainerConfig(\n",
    "    auto_lr_find = False,\n",
    "    batch_size = 16,\n",
    "    max_epochs = 10,\n",
    "    gpus = 0,\n",
    "    gradient_clip_val = 10,\n",
    "    load_best = True\n",
    ")\n",
    "\n",
    "model_config = NodeConfig(\n",
    "    task = \"classification\",\n",
    "    num_layers = 2,\n",
    "    num_trees = 1024,\n",
    "    learning_rate = 0.1,\n",
    "    embed_categorical = False,\n",
    "    metrics = [\"accuracy\"],\n",
    ")\n",
    "\n",
    "tabular_model = TabularModel(\n",
    "    data_config = data_config,\n",
    "    model_config = model_config,\n",
    "    optimizer_config = OptimizerConfig(),\n",
    "    trainer_config = trainer_config,\n",
    ")"
   ]
  },
  {
   "cell_type": "code",
   "execution_count": 15,
   "metadata": {},
   "outputs": [],
   "source": [
    "X_train['target'] = y_train\n",
    "X_test['target'] = y_test"
   ]
  },
  {
   "cell_type": "code",
   "execution_count": 16,
   "metadata": {},
   "outputs": [
    {
     "name": "stderr",
     "output_type": "stream",
     "text": [
      "C:\\Users\\olyav\\AppData\\Roaming\\Python\\Python38\\site-packages\\category_encoders\\utils.py:21: FutureWarning: is_categorical is deprecated and will be removed in a future version.  Use is_categorical_dtype instead\n",
      "  elif pd.api.types.is_categorical(cols):\n",
      "C:\\Users\\olyav\\AppData\\Roaming\\Python\\Python38\\site-packages\\sklearn\\preprocessing\\_data.py:2367: UserWarning: n_quantiles (1000) is greater than the total number of samples (140). n_quantiles is set to n_samples.\n",
      "  warnings.warn(\"n_quantiles (%s) is greater than the total number \"\n",
      "C:\\Users\\olyav\\AppData\\Roaming\\Python\\Python38\\site-packages\\pytorch_tabular\\models\\node\\odst.py:152: UserWarning: Data-aware initialization is performed on less than 1000 data points. This may cause instability.To avoid potential problems, run this model on a data batch with at least 1000 data samples.You can do so manually before training. Use with torch.no_grad() for memory efficiency.\n",
      "  warn(\n",
      "C:\\ProgramData\\Anaconda3\\lib\\site-packages\\pytorch_lightning\\utilities\\distributed.py:45: UserWarning: Checkpoint directory saved_models exists and is not empty. With save_top_k=1, all files in this directory will be deleted when a checkpoint is saved!\n",
      "  warnings.warn(*args, **kwargs)\n",
      "GPU available: False, used: False\n",
      "TPU available: False, using: 0 TPU cores\n",
      "GPU available: False, used: False\n",
      "TPU available: False, using: 0 TPU cores\n",
      "\n",
      "  | Name            | Type             | Params\n",
      "-----------------------------------------------------\n",
      "0 | backbone        | NODEBackbone     | 32.3 M\n",
      "1 | output_response | Lambda           | 0     \n",
      "2 | loss            | CrossEntropyLoss | 0     \n"
     ]
    },
    {
     "data": {
      "application/vnd.jupyter.widget-view+json": {
       "model_id": "",
       "version_major": 2,
       "version_minor": 0
      },
      "text/plain": [
       "HBox(children=(HTML(value='Validation sanity check'), FloatProgress(value=1.0, bar_style='info', layout=Layout…"
      ]
     },
     "metadata": {},
     "output_type": "display_data"
    },
    {
     "data": {
      "application/vnd.jupyter.widget-view+json": {
       "model_id": "597acb9ba1294ce48fc4ceedeb21d268",
       "version_major": 2,
       "version_minor": 0
      },
      "text/plain": [
       "HBox(children=(HTML(value='Training'), FloatProgress(value=1.0, bar_style='info', layout=Layout(flex='2'), max…"
      ]
     },
     "metadata": {},
     "output_type": "display_data"
    },
    {
     "data": {
      "application/vnd.jupyter.widget-view+json": {
       "model_id": "",
       "version_major": 2,
       "version_minor": 0
      },
      "text/plain": [
       "HBox(children=(HTML(value='Validating'), FloatProgress(value=1.0, bar_style='info', layout=Layout(flex='2'), m…"
      ]
     },
     "metadata": {},
     "output_type": "display_data"
    },
    {
     "data": {
      "application/vnd.jupyter.widget-view+json": {
       "model_id": "",
       "version_major": 2,
       "version_minor": 0
      },
      "text/plain": [
       "HBox(children=(HTML(value='Validating'), FloatProgress(value=1.0, bar_style='info', layout=Layout(flex='2'), m…"
      ]
     },
     "metadata": {},
     "output_type": "display_data"
    },
    {
     "data": {
      "application/vnd.jupyter.widget-view+json": {
       "model_id": "",
       "version_major": 2,
       "version_minor": 0
      },
      "text/plain": [
       "HBox(children=(HTML(value='Validating'), FloatProgress(value=1.0, bar_style='info', layout=Layout(flex='2'), m…"
      ]
     },
     "metadata": {},
     "output_type": "display_data"
    },
    {
     "data": {
      "application/vnd.jupyter.widget-view+json": {
       "model_id": "",
       "version_major": 2,
       "version_minor": 0
      },
      "text/plain": [
       "HBox(children=(HTML(value='Validating'), FloatProgress(value=1.0, bar_style='info', layout=Layout(flex='2'), m…"
      ]
     },
     "metadata": {},
     "output_type": "display_data"
    },
    {
     "data": {
      "application/vnd.jupyter.widget-view+json": {
       "model_id": "",
       "version_major": 2,
       "version_minor": 0
      },
      "text/plain": [
       "HBox(children=(HTML(value='Validating'), FloatProgress(value=1.0, bar_style='info', layout=Layout(flex='2'), m…"
      ]
     },
     "metadata": {},
     "output_type": "display_data"
    },
    {
     "name": "stdout",
     "output_type": "stream",
     "text": [
      "\n"
     ]
    }
   ],
   "source": [
    "tabular_model.fit(train = X_train, test = X_test)"
   ]
  },
  {
   "cell_type": "code",
   "execution_count": 17,
   "metadata": {},
   "outputs": [
    {
     "data": {
      "application/vnd.jupyter.widget-view+json": {
       "model_id": "3a97f1ad0d32451abf3f4af28bd22a8f",
       "version_major": 2,
       "version_minor": 0
      },
      "text/plain": [
       "HBox(children=(HTML(value='Generating Predictions...'), FloatProgress(value=0.0, max=3.0), HTML(value='')))"
      ]
     },
     "metadata": {},
     "output_type": "display_data"
    },
    {
     "name": "stdout",
     "output_type": "stream",
     "text": [
      "\n"
     ]
    },
    {
     "data": {
      "text/html": [
       "<div>\n",
       "<style scoped>\n",
       "    .dataframe tbody tr th:only-of-type {\n",
       "        vertical-align: middle;\n",
       "    }\n",
       "\n",
       "    .dataframe tbody tr th {\n",
       "        vertical-align: top;\n",
       "    }\n",
       "\n",
       "    .dataframe thead th {\n",
       "        text-align: right;\n",
       "    }\n",
       "</style>\n",
       "<table border=\"1\" class=\"dataframe\">\n",
       "  <thead>\n",
       "    <tr style=\"text-align: right;\">\n",
       "      <th></th>\n",
       "      <th>Килип1</th>\n",
       "      <th>ИндНор1</th>\n",
       "      <th>Creatin</th>\n",
       "      <th>Тромболит3</th>\n",
       "      <th>Килип4</th>\n",
       "      <th>ФУ1</th>\n",
       "      <th>ГБ6</th>\n",
       "      <th>АКШ</th>\n",
       "      <th>Возраст</th>\n",
       "      <th>Килип3</th>\n",
       "      <th>Рла1</th>\n",
       "      <th>Килип2</th>\n",
       "      <th>Кл.вар.ИМ1</th>\n",
       "      <th>Хр.оч.инф2</th>\n",
       "      <th>Pсрлао(Адср)1</th>\n",
       "      <th>ПИ</th>\n",
       "      <th>target</th>\n",
       "      <th>0_probability</th>\n",
       "      <th>1_probability</th>\n",
       "      <th>prediction</th>\n",
       "    </tr>\n",
       "  </thead>\n",
       "  <tbody>\n",
       "    <tr>\n",
       "      <th>66</th>\n",
       "      <td>1.0</td>\n",
       "      <td>0.621190</td>\n",
       "      <td>1.695150</td>\n",
       "      <td>0.0</td>\n",
       "      <td>0.0</td>\n",
       "      <td>0.253860</td>\n",
       "      <td>0.0</td>\n",
       "      <td>0.0</td>\n",
       "      <td>1.448225</td>\n",
       "      <td>0.0</td>\n",
       "      <td>-0.232216</td>\n",
       "      <td>0.0</td>\n",
       "      <td>0.0</td>\n",
       "      <td>1.0</td>\n",
       "      <td>-0.347211</td>\n",
       "      <td>0.228140</td>\n",
       "      <td>0</td>\n",
       "      <td>0.238171</td>\n",
       "      <td>0.761829</td>\n",
       "      <td>1</td>\n",
       "    </tr>\n",
       "    <tr>\n",
       "      <th>490</th>\n",
       "      <td>0.0</td>\n",
       "      <td>0.671115</td>\n",
       "      <td>0.279454</td>\n",
       "      <td>0.0</td>\n",
       "      <td>0.0</td>\n",
       "      <td>-1.672989</td>\n",
       "      <td>0.0</td>\n",
       "      <td>0.0</td>\n",
       "      <td>1.371050</td>\n",
       "      <td>1.0</td>\n",
       "      <td>1.201122</td>\n",
       "      <td>0.0</td>\n",
       "      <td>1.0</td>\n",
       "      <td>0.0</td>\n",
       "      <td>0.038337</td>\n",
       "      <td>-0.282568</td>\n",
       "      <td>1</td>\n",
       "      <td>0.247625</td>\n",
       "      <td>0.752375</td>\n",
       "      <td>1</td>\n",
       "    </tr>\n",
       "    <tr>\n",
       "      <th>493</th>\n",
       "      <td>0.0</td>\n",
       "      <td>1.536485</td>\n",
       "      <td>1.412011</td>\n",
       "      <td>0.0</td>\n",
       "      <td>0.0</td>\n",
       "      <td>-1.458895</td>\n",
       "      <td>1.0</td>\n",
       "      <td>0.0</td>\n",
       "      <td>1.834102</td>\n",
       "      <td>1.0</td>\n",
       "      <td>-0.815108</td>\n",
       "      <td>0.0</td>\n",
       "      <td>0.0</td>\n",
       "      <td>0.0</td>\n",
       "      <td>0.963654</td>\n",
       "      <td>-0.282568</td>\n",
       "      <td>1</td>\n",
       "      <td>0.175707</td>\n",
       "      <td>0.824293</td>\n",
       "      <td>1</td>\n",
       "    </tr>\n",
       "    <tr>\n",
       "      <th>890</th>\n",
       "      <td>0.0</td>\n",
       "      <td>-0.796131</td>\n",
       "      <td>1.165575</td>\n",
       "      <td>1.0</td>\n",
       "      <td>0.0</td>\n",
       "      <td>-0.830675</td>\n",
       "      <td>0.0</td>\n",
       "      <td>1.0</td>\n",
       "      <td>-0.867036</td>\n",
       "      <td>1.0</td>\n",
       "      <td>0.621597</td>\n",
       "      <td>0.0</td>\n",
       "      <td>1.0</td>\n",
       "      <td>0.0</td>\n",
       "      <td>-0.733607</td>\n",
       "      <td>-0.282568</td>\n",
       "      <td>1</td>\n",
       "      <td>0.311030</td>\n",
       "      <td>0.688969</td>\n",
       "      <td>1</td>\n",
       "    </tr>\n",
       "    <tr>\n",
       "      <th>611</th>\n",
       "      <td>0.0</td>\n",
       "      <td>0.332733</td>\n",
       "      <td>-0.165048</td>\n",
       "      <td>0.0</td>\n",
       "      <td>0.0</td>\n",
       "      <td>0.117626</td>\n",
       "      <td>0.0</td>\n",
       "      <td>0.0</td>\n",
       "      <td>-1.638789</td>\n",
       "      <td>0.0</td>\n",
       "      <td>-0.502773</td>\n",
       "      <td>1.0</td>\n",
       "      <td>0.0</td>\n",
       "      <td>1.0</td>\n",
       "      <td>-1.041199</td>\n",
       "      <td>0.040012</td>\n",
       "      <td>0</td>\n",
       "      <td>0.796515</td>\n",
       "      <td>0.203485</td>\n",
       "      <td>0</td>\n",
       "    </tr>\n",
       "  </tbody>\n",
       "</table>\n",
       "</div>"
      ],
      "text/plain": [
       "     Килип1   ИндНор1   Creatin  Тромболит3  Килип4       ФУ1  ГБ6  АКШ  \\\n",
       "66      1.0  0.621190  1.695150         0.0     0.0  0.253860  0.0  0.0   \n",
       "490     0.0  0.671115  0.279454         0.0     0.0 -1.672989  0.0  0.0   \n",
       "493     0.0  1.536485  1.412011         0.0     0.0 -1.458895  1.0  0.0   \n",
       "890     0.0 -0.796131  1.165575         1.0     0.0 -0.830675  0.0  1.0   \n",
       "611     0.0  0.332733 -0.165048         0.0     0.0  0.117626  0.0  0.0   \n",
       "\n",
       "      Возраст  Килип3      Рла1  Килип2  Кл.вар.ИМ1  Хр.оч.инф2  \\\n",
       "66   1.448225     0.0 -0.232216     0.0         0.0         1.0   \n",
       "490  1.371050     1.0  1.201122     0.0         1.0         0.0   \n",
       "493  1.834102     1.0 -0.815108     0.0         0.0         0.0   \n",
       "890 -0.867036     1.0  0.621597     0.0         1.0         0.0   \n",
       "611 -1.638789     0.0 -0.502773     1.0         0.0         1.0   \n",
       "\n",
       "     Pсрлао(Адср)1        ПИ  target  0_probability  1_probability  prediction  \n",
       "66       -0.347211  0.228140       0       0.238171       0.761829           1  \n",
       "490       0.038337 -0.282568       1       0.247625       0.752375           1  \n",
       "493       0.963654 -0.282568       1       0.175707       0.824293           1  \n",
       "890      -0.733607 -0.282568       1       0.311030       0.688969           1  \n",
       "611      -1.041199  0.040012       0       0.796515       0.203485           0  "
      ]
     },
     "execution_count": 17,
     "metadata": {},
     "output_type": "execute_result"
    }
   ],
   "source": [
    "pred_df = tabular_model.predict(X_test)\n",
    "pred_df.head()"
   ]
  },
  {
   "cell_type": "code",
   "execution_count": 18,
   "metadata": {},
   "outputs": [
    {
     "name": "stdout",
     "output_type": "stream",
     "text": [
      "Holdout Acc: 0.8636363636363636 | Holdout F1: 0.888888888888889\n"
     ]
    }
   ],
   "source": [
    "print_metrics(X_test['target'], pred_df[\"prediction\"], tag=\"Holdout\")"
   ]
  },
  {
   "cell_type": "code",
   "execution_count": 19,
   "metadata": {},
   "outputs": [],
   "source": [
    "X_val = pd.read_csv('X_val.csv', index_col = 'Unnamed: 0')\n",
    "y_val = pd.read_csv('y_val.csv', index_col = 'Unnamed: 0')"
   ]
  },
  {
   "cell_type": "code",
   "execution_count": 20,
   "metadata": {},
   "outputs": [],
   "source": [
    "X_val['target'] = y_val"
   ]
  },
  {
   "cell_type": "code",
   "execution_count": 21,
   "metadata": {},
   "outputs": [
    {
     "data": {
      "application/vnd.jupyter.widget-view+json": {
       "model_id": "a624a4b68eb147d7b5dd59c52562b771",
       "version_major": 2,
       "version_minor": 0
      },
      "text/plain": [
       "HBox(children=(HTML(value='Generating Predictions...'), FloatProgress(value=0.0, max=3.0), HTML(value='')))"
      ]
     },
     "metadata": {},
     "output_type": "display_data"
    },
    {
     "name": "stdout",
     "output_type": "stream",
     "text": [
      "\n"
     ]
    },
    {
     "data": {
      "text/html": [
       "<div>\n",
       "<style scoped>\n",
       "    .dataframe tbody tr th:only-of-type {\n",
       "        vertical-align: middle;\n",
       "    }\n",
       "\n",
       "    .dataframe tbody tr th {\n",
       "        vertical-align: top;\n",
       "    }\n",
       "\n",
       "    .dataframe thead th {\n",
       "        text-align: right;\n",
       "    }\n",
       "</style>\n",
       "<table border=\"1\" class=\"dataframe\">\n",
       "  <thead>\n",
       "    <tr style=\"text-align: right;\">\n",
       "      <th></th>\n",
       "      <th>Килип1</th>\n",
       "      <th>ИндНор1</th>\n",
       "      <th>Creatin</th>\n",
       "      <th>Тромболит3</th>\n",
       "      <th>Килип4</th>\n",
       "      <th>ФУ1</th>\n",
       "      <th>ГБ6</th>\n",
       "      <th>АКШ</th>\n",
       "      <th>Возраст</th>\n",
       "      <th>Килип3</th>\n",
       "      <th>Рла1</th>\n",
       "      <th>Килип2</th>\n",
       "      <th>Кл.вар.ИМ1</th>\n",
       "      <th>Хр.оч.инф2</th>\n",
       "      <th>Pсрлао(Адср)1</th>\n",
       "      <th>ПИ</th>\n",
       "      <th>target</th>\n",
       "      <th>0_probability</th>\n",
       "      <th>1_probability</th>\n",
       "      <th>prediction</th>\n",
       "    </tr>\n",
       "  </thead>\n",
       "  <tbody>\n",
       "    <tr>\n",
       "      <th>877</th>\n",
       "      <td>0.0</td>\n",
       "      <td>-1.264873</td>\n",
       "      <td>1.165575</td>\n",
       "      <td>1.0</td>\n",
       "      <td>1.0</td>\n",
       "      <td>-0.830675</td>\n",
       "      <td>0.0</td>\n",
       "      <td>1.0</td>\n",
       "      <td>-0.635509</td>\n",
       "      <td>0.0</td>\n",
       "      <td>0.621597</td>\n",
       "      <td>0.0</td>\n",
       "      <td>0.0</td>\n",
       "      <td>0.0</td>\n",
       "      <td>-0.733607</td>\n",
       "      <td>-0.282568</td>\n",
       "      <td>1</td>\n",
       "      <td>0.365595</td>\n",
       "      <td>0.634405</td>\n",
       "      <td>1</td>\n",
       "    </tr>\n",
       "    <tr>\n",
       "      <th>873</th>\n",
       "      <td>0.0</td>\n",
       "      <td>2.645934</td>\n",
       "      <td>-0.286824</td>\n",
       "      <td>0.0</td>\n",
       "      <td>1.0</td>\n",
       "      <td>-0.816612</td>\n",
       "      <td>1.0</td>\n",
       "      <td>0.0</td>\n",
       "      <td>1.448225</td>\n",
       "      <td>0.0</td>\n",
       "      <td>3.241676</td>\n",
       "      <td>0.0</td>\n",
       "      <td>0.0</td>\n",
       "      <td>0.0</td>\n",
       "      <td>-2.429174</td>\n",
       "      <td>-1.636425</td>\n",
       "      <td>1</td>\n",
       "      <td>0.298937</td>\n",
       "      <td>0.701063</td>\n",
       "      <td>1</td>\n",
       "    </tr>\n",
       "    <tr>\n",
       "      <th>247</th>\n",
       "      <td>0.0</td>\n",
       "      <td>2.690312</td>\n",
       "      <td>1.165575</td>\n",
       "      <td>0.0</td>\n",
       "      <td>1.0</td>\n",
       "      <td>-1.565942</td>\n",
       "      <td>0.0</td>\n",
       "      <td>0.0</td>\n",
       "      <td>1.525401</td>\n",
       "      <td>0.0</td>\n",
       "      <td>-0.940781</td>\n",
       "      <td>0.0</td>\n",
       "      <td>0.0</td>\n",
       "      <td>0.0</td>\n",
       "      <td>-2.429174</td>\n",
       "      <td>-0.282568</td>\n",
       "      <td>1</td>\n",
       "      <td>0.173569</td>\n",
       "      <td>0.826431</td>\n",
       "      <td>1</td>\n",
       "    </tr>\n",
       "    <tr>\n",
       "      <th>850</th>\n",
       "      <td>0.0</td>\n",
       "      <td>0.343828</td>\n",
       "      <td>-0.286824</td>\n",
       "      <td>0.0</td>\n",
       "      <td>0.0</td>\n",
       "      <td>-0.816612</td>\n",
       "      <td>0.0</td>\n",
       "      <td>0.0</td>\n",
       "      <td>-0.867036</td>\n",
       "      <td>1.0</td>\n",
       "      <td>-0.699190</td>\n",
       "      <td>0.0</td>\n",
       "      <td>1.0</td>\n",
       "      <td>0.0</td>\n",
       "      <td>0.963654</td>\n",
       "      <td>-0.600556</td>\n",
       "      <td>0</td>\n",
       "      <td>0.823948</td>\n",
       "      <td>0.176052</td>\n",
       "      <td>0</td>\n",
       "    </tr>\n",
       "    <tr>\n",
       "      <th>210</th>\n",
       "      <td>0.0</td>\n",
       "      <td>0.471414</td>\n",
       "      <td>-0.165048</td>\n",
       "      <td>0.0</td>\n",
       "      <td>0.0</td>\n",
       "      <td>-0.923659</td>\n",
       "      <td>0.0</td>\n",
       "      <td>0.0</td>\n",
       "      <td>0.136244</td>\n",
       "      <td>0.0</td>\n",
       "      <td>-0.492234</td>\n",
       "      <td>1.0</td>\n",
       "      <td>0.0</td>\n",
       "      <td>0.0</td>\n",
       "      <td>0.809435</td>\n",
       "      <td>0.435314</td>\n",
       "      <td>0</td>\n",
       "      <td>0.741067</td>\n",
       "      <td>0.258933</td>\n",
       "      <td>0</td>\n",
       "    </tr>\n",
       "  </tbody>\n",
       "</table>\n",
       "</div>"
      ],
      "text/plain": [
       "     Килип1   ИндНор1   Creatin  Тромболит3  Килип4       ФУ1  ГБ6  АКШ  \\\n",
       "877     0.0 -1.264873  1.165575         1.0     1.0 -0.830675  0.0  1.0   \n",
       "873     0.0  2.645934 -0.286824         0.0     1.0 -0.816612  1.0  0.0   \n",
       "247     0.0  2.690312  1.165575         0.0     1.0 -1.565942  0.0  0.0   \n",
       "850     0.0  0.343828 -0.286824         0.0     0.0 -0.816612  0.0  0.0   \n",
       "210     0.0  0.471414 -0.165048         0.0     0.0 -0.923659  0.0  0.0   \n",
       "\n",
       "      Возраст  Килип3      Рла1  Килип2  Кл.вар.ИМ1  Хр.оч.инф2  \\\n",
       "877 -0.635509     0.0  0.621597     0.0         0.0         0.0   \n",
       "873  1.448225     0.0  3.241676     0.0         0.0         0.0   \n",
       "247  1.525401     0.0 -0.940781     0.0         0.0         0.0   \n",
       "850 -0.867036     1.0 -0.699190     0.0         1.0         0.0   \n",
       "210  0.136244     0.0 -0.492234     1.0         0.0         0.0   \n",
       "\n",
       "     Pсрлао(Адср)1        ПИ  target  0_probability  1_probability  prediction  \n",
       "877      -0.733607 -0.282568       1       0.365595       0.634405           1  \n",
       "873      -2.429174 -1.636425       1       0.298937       0.701063           1  \n",
       "247      -2.429174 -0.282568       1       0.173569       0.826431           1  \n",
       "850       0.963654 -0.600556       0       0.823948       0.176052           0  \n",
       "210       0.809435  0.435314       0       0.741067       0.258933           0  "
      ]
     },
     "execution_count": 21,
     "metadata": {},
     "output_type": "execute_result"
    }
   ],
   "source": [
    "pred_df = tabular_model.predict(X_val)\n",
    "pred_df.head()"
   ]
  },
  {
   "cell_type": "code",
   "execution_count": 22,
   "metadata": {},
   "outputs": [
    {
     "name": "stdout",
     "output_type": "stream",
     "text": [
      "Holdout Acc: 0.85 | Holdout F1: 0.8571428571428572\n"
     ]
    }
   ],
   "source": [
    "print_metrics(X_val['target'], pred_df[\"prediction\"], tag=\"Holdout\")"
   ]
  },
  {
   "cell_type": "code",
   "execution_count": 24,
   "metadata": {},
   "outputs": [],
   "source": [
    "data_config = DataConfig(\n",
    "    target=['target'],\n",
    "    continuous_cols=num_col_names,\n",
    "    categorical_cols=cat_col_names,\n",
    "    continuous_feature_transform = \"quantile_normal\"\n",
    ")\n",
    "\n",
    "trainer_config = TrainerConfig(\n",
    "    auto_lr_find = False,\n",
    "    batch_size = 16,\n",
    "    max_epochs = 10,\n",
    "    gpus = 0,\n",
    "    gradient_clip_val = 10,\n",
    "    load_best = True\n",
    ")\n",
    "\n",
    "model_config = NodeConfig(\n",
    "    task = \"classification\",\n",
    "    num_layers = 3,\n",
    "    num_trees = 1024,\n",
    "    learning_rate = 0.1,\n",
    "    embed_categorical = False,\n",
    "    metrics = [\"accuracy\"],\n",
    ")\n",
    "\n",
    "tabular_model2 = TabularModel(\n",
    "    data_config = data_config,\n",
    "    model_config = model_config,\n",
    "    optimizer_config = OptimizerConfig(),\n",
    "    trainer_config = trainer_config,\n",
    ")"
   ]
  },
  {
   "cell_type": "code",
   "execution_count": 25,
   "metadata": {},
   "outputs": [
    {
     "name": "stderr",
     "output_type": "stream",
     "text": [
      "C:\\Users\\olyav\\AppData\\Roaming\\Python\\Python38\\site-packages\\category_encoders\\utils.py:21: FutureWarning: is_categorical is deprecated and will be removed in a future version.  Use is_categorical_dtype instead\n",
      "  elif pd.api.types.is_categorical(cols):\n",
      "C:\\Users\\olyav\\AppData\\Roaming\\Python\\Python38\\site-packages\\sklearn\\preprocessing\\_data.py:2367: UserWarning: n_quantiles (1000) is greater than the total number of samples (140). n_quantiles is set to n_samples.\n",
      "  warnings.warn(\"n_quantiles (%s) is greater than the total number \"\n",
      "C:\\Users\\olyav\\AppData\\Roaming\\Python\\Python38\\site-packages\\pytorch_tabular\\models\\node\\odst.py:152: UserWarning: Data-aware initialization is performed on less than 1000 data points. This may cause instability.To avoid potential problems, run this model on a data batch with at least 1000 data samples.You can do so manually before training. Use with torch.no_grad() for memory efficiency.\n",
      "  warn(\n",
      "C:\\ProgramData\\Anaconda3\\lib\\site-packages\\pytorch_lightning\\utilities\\distributed.py:45: UserWarning: Checkpoint directory saved_models exists and is not empty. With save_top_k=1, all files in this directory will be deleted when a checkpoint is saved!\n",
      "  warnings.warn(*args, **kwargs)\n",
      "GPU available: False, used: False\n",
      "TPU available: False, using: 0 TPU cores\n",
      "GPU available: False, used: False\n",
      "TPU available: False, using: 0 TPU cores\n",
      "\n",
      "  | Name            | Type             | Params\n",
      "-----------------------------------------------------\n",
      "0 | backbone        | NODEBackbone     | 95.7 M\n",
      "1 | output_response | Lambda           | 0     \n",
      "2 | loss            | CrossEntropyLoss | 0     \n"
     ]
    },
    {
     "data": {
      "application/vnd.jupyter.widget-view+json": {
       "model_id": "",
       "version_major": 2,
       "version_minor": 0
      },
      "text/plain": [
       "HBox(children=(HTML(value='Validation sanity check'), FloatProgress(value=1.0, bar_style='info', layout=Layout…"
      ]
     },
     "metadata": {},
     "output_type": "display_data"
    },
    {
     "data": {
      "application/vnd.jupyter.widget-view+json": {
       "model_id": "c569afae208846eab3cdb4c92c010e59",
       "version_major": 2,
       "version_minor": 0
      },
      "text/plain": [
       "HBox(children=(HTML(value='Training'), FloatProgress(value=1.0, bar_style='info', layout=Layout(flex='2'), max…"
      ]
     },
     "metadata": {},
     "output_type": "display_data"
    },
    {
     "data": {
      "application/vnd.jupyter.widget-view+json": {
       "model_id": "",
       "version_major": 2,
       "version_minor": 0
      },
      "text/plain": [
       "HBox(children=(HTML(value='Validating'), FloatProgress(value=1.0, bar_style='info', layout=Layout(flex='2'), m…"
      ]
     },
     "metadata": {},
     "output_type": "display_data"
    },
    {
     "data": {
      "application/vnd.jupyter.widget-view+json": {
       "model_id": "",
       "version_major": 2,
       "version_minor": 0
      },
      "text/plain": [
       "HBox(children=(HTML(value='Validating'), FloatProgress(value=1.0, bar_style='info', layout=Layout(flex='2'), m…"
      ]
     },
     "metadata": {},
     "output_type": "display_data"
    },
    {
     "data": {
      "application/vnd.jupyter.widget-view+json": {
       "model_id": "",
       "version_major": 2,
       "version_minor": 0
      },
      "text/plain": [
       "HBox(children=(HTML(value='Validating'), FloatProgress(value=1.0, bar_style='info', layout=Layout(flex='2'), m…"
      ]
     },
     "metadata": {},
     "output_type": "display_data"
    },
    {
     "data": {
      "application/vnd.jupyter.widget-view+json": {
       "model_id": "",
       "version_major": 2,
       "version_minor": 0
      },
      "text/plain": [
       "HBox(children=(HTML(value='Validating'), FloatProgress(value=1.0, bar_style='info', layout=Layout(flex='2'), m…"
      ]
     },
     "metadata": {},
     "output_type": "display_data"
    },
    {
     "data": {
      "application/vnd.jupyter.widget-view+json": {
       "model_id": "",
       "version_major": 2,
       "version_minor": 0
      },
      "text/plain": [
       "HBox(children=(HTML(value='Validating'), FloatProgress(value=1.0, bar_style='info', layout=Layout(flex='2'), m…"
      ]
     },
     "metadata": {},
     "output_type": "display_data"
    },
    {
     "name": "stdout",
     "output_type": "stream",
     "text": [
      "\n"
     ]
    }
   ],
   "source": [
    "tabular_model2.fit(train = X_train, test = X_test)"
   ]
  },
  {
   "cell_type": "code",
   "execution_count": 26,
   "metadata": {},
   "outputs": [
    {
     "data": {
      "application/vnd.jupyter.widget-view+json": {
       "model_id": "c161b3fabaf04f7592c82fa230d0c63c",
       "version_major": 2,
       "version_minor": 0
      },
      "text/plain": [
       "HBox(children=(HTML(value='Generating Predictions...'), FloatProgress(value=0.0, max=3.0), HTML(value='')))"
      ]
     },
     "metadata": {},
     "output_type": "display_data"
    },
    {
     "name": "stdout",
     "output_type": "stream",
     "text": [
      "\n"
     ]
    },
    {
     "data": {
      "text/html": [
       "<div>\n",
       "<style scoped>\n",
       "    .dataframe tbody tr th:only-of-type {\n",
       "        vertical-align: middle;\n",
       "    }\n",
       "\n",
       "    .dataframe tbody tr th {\n",
       "        vertical-align: top;\n",
       "    }\n",
       "\n",
       "    .dataframe thead th {\n",
       "        text-align: right;\n",
       "    }\n",
       "</style>\n",
       "<table border=\"1\" class=\"dataframe\">\n",
       "  <thead>\n",
       "    <tr style=\"text-align: right;\">\n",
       "      <th></th>\n",
       "      <th>Килип1</th>\n",
       "      <th>ИндНор1</th>\n",
       "      <th>Creatin</th>\n",
       "      <th>Тромболит3</th>\n",
       "      <th>Килип4</th>\n",
       "      <th>ФУ1</th>\n",
       "      <th>ГБ6</th>\n",
       "      <th>АКШ</th>\n",
       "      <th>Возраст</th>\n",
       "      <th>Килип3</th>\n",
       "      <th>Рла1</th>\n",
       "      <th>Килип2</th>\n",
       "      <th>Кл.вар.ИМ1</th>\n",
       "      <th>Хр.оч.инф2</th>\n",
       "      <th>Pсрлао(Адср)1</th>\n",
       "      <th>ПИ</th>\n",
       "      <th>target</th>\n",
       "      <th>0_probability</th>\n",
       "      <th>1_probability</th>\n",
       "      <th>prediction</th>\n",
       "    </tr>\n",
       "  </thead>\n",
       "  <tbody>\n",
       "    <tr>\n",
       "      <th>66</th>\n",
       "      <td>1.0</td>\n",
       "      <td>0.621190</td>\n",
       "      <td>1.695150</td>\n",
       "      <td>0.0</td>\n",
       "      <td>0.0</td>\n",
       "      <td>0.253860</td>\n",
       "      <td>0.0</td>\n",
       "      <td>0.0</td>\n",
       "      <td>1.448225</td>\n",
       "      <td>0.0</td>\n",
       "      <td>-0.232216</td>\n",
       "      <td>0.0</td>\n",
       "      <td>0.0</td>\n",
       "      <td>1.0</td>\n",
       "      <td>-0.347211</td>\n",
       "      <td>0.228140</td>\n",
       "      <td>0</td>\n",
       "      <td>0.356844</td>\n",
       "      <td>0.643156</td>\n",
       "      <td>1</td>\n",
       "    </tr>\n",
       "    <tr>\n",
       "      <th>490</th>\n",
       "      <td>0.0</td>\n",
       "      <td>0.671115</td>\n",
       "      <td>0.279454</td>\n",
       "      <td>0.0</td>\n",
       "      <td>0.0</td>\n",
       "      <td>-1.672989</td>\n",
       "      <td>0.0</td>\n",
       "      <td>0.0</td>\n",
       "      <td>1.371050</td>\n",
       "      <td>1.0</td>\n",
       "      <td>1.201122</td>\n",
       "      <td>0.0</td>\n",
       "      <td>1.0</td>\n",
       "      <td>0.0</td>\n",
       "      <td>0.038337</td>\n",
       "      <td>-0.282568</td>\n",
       "      <td>1</td>\n",
       "      <td>0.358984</td>\n",
       "      <td>0.641016</td>\n",
       "      <td>1</td>\n",
       "    </tr>\n",
       "    <tr>\n",
       "      <th>493</th>\n",
       "      <td>0.0</td>\n",
       "      <td>1.536485</td>\n",
       "      <td>1.412011</td>\n",
       "      <td>0.0</td>\n",
       "      <td>0.0</td>\n",
       "      <td>-1.458895</td>\n",
       "      <td>1.0</td>\n",
       "      <td>0.0</td>\n",
       "      <td>1.834102</td>\n",
       "      <td>1.0</td>\n",
       "      <td>-0.815108</td>\n",
       "      <td>0.0</td>\n",
       "      <td>0.0</td>\n",
       "      <td>0.0</td>\n",
       "      <td>0.963654</td>\n",
       "      <td>-0.282568</td>\n",
       "      <td>1</td>\n",
       "      <td>0.252499</td>\n",
       "      <td>0.747501</td>\n",
       "      <td>1</td>\n",
       "    </tr>\n",
       "    <tr>\n",
       "      <th>890</th>\n",
       "      <td>0.0</td>\n",
       "      <td>-0.796131</td>\n",
       "      <td>1.165575</td>\n",
       "      <td>1.0</td>\n",
       "      <td>0.0</td>\n",
       "      <td>-0.830675</td>\n",
       "      <td>0.0</td>\n",
       "      <td>1.0</td>\n",
       "      <td>-0.867036</td>\n",
       "      <td>1.0</td>\n",
       "      <td>0.621597</td>\n",
       "      <td>0.0</td>\n",
       "      <td>1.0</td>\n",
       "      <td>0.0</td>\n",
       "      <td>-0.733607</td>\n",
       "      <td>-0.282568</td>\n",
       "      <td>1</td>\n",
       "      <td>0.418081</td>\n",
       "      <td>0.581919</td>\n",
       "      <td>1</td>\n",
       "    </tr>\n",
       "    <tr>\n",
       "      <th>611</th>\n",
       "      <td>0.0</td>\n",
       "      <td>0.332733</td>\n",
       "      <td>-0.165048</td>\n",
       "      <td>0.0</td>\n",
       "      <td>0.0</td>\n",
       "      <td>0.117626</td>\n",
       "      <td>0.0</td>\n",
       "      <td>0.0</td>\n",
       "      <td>-1.638789</td>\n",
       "      <td>0.0</td>\n",
       "      <td>-0.502773</td>\n",
       "      <td>1.0</td>\n",
       "      <td>0.0</td>\n",
       "      <td>1.0</td>\n",
       "      <td>-1.041199</td>\n",
       "      <td>0.040012</td>\n",
       "      <td>0</td>\n",
       "      <td>0.792943</td>\n",
       "      <td>0.207057</td>\n",
       "      <td>0</td>\n",
       "    </tr>\n",
       "  </tbody>\n",
       "</table>\n",
       "</div>"
      ],
      "text/plain": [
       "     Килип1   ИндНор1   Creatin  Тромболит3  Килип4       ФУ1  ГБ6  АКШ  \\\n",
       "66      1.0  0.621190  1.695150         0.0     0.0  0.253860  0.0  0.0   \n",
       "490     0.0  0.671115  0.279454         0.0     0.0 -1.672989  0.0  0.0   \n",
       "493     0.0  1.536485  1.412011         0.0     0.0 -1.458895  1.0  0.0   \n",
       "890     0.0 -0.796131  1.165575         1.0     0.0 -0.830675  0.0  1.0   \n",
       "611     0.0  0.332733 -0.165048         0.0     0.0  0.117626  0.0  0.0   \n",
       "\n",
       "      Возраст  Килип3      Рла1  Килип2  Кл.вар.ИМ1  Хр.оч.инф2  \\\n",
       "66   1.448225     0.0 -0.232216     0.0         0.0         1.0   \n",
       "490  1.371050     1.0  1.201122     0.0         1.0         0.0   \n",
       "493  1.834102     1.0 -0.815108     0.0         0.0         0.0   \n",
       "890 -0.867036     1.0  0.621597     0.0         1.0         0.0   \n",
       "611 -1.638789     0.0 -0.502773     1.0         0.0         1.0   \n",
       "\n",
       "     Pсрлао(Адср)1        ПИ  target  0_probability  1_probability  prediction  \n",
       "66       -0.347211  0.228140       0       0.356844       0.643156           1  \n",
       "490       0.038337 -0.282568       1       0.358984       0.641016           1  \n",
       "493       0.963654 -0.282568       1       0.252499       0.747501           1  \n",
       "890      -0.733607 -0.282568       1       0.418081       0.581919           1  \n",
       "611      -1.041199  0.040012       0       0.792943       0.207057           0  "
      ]
     },
     "execution_count": 26,
     "metadata": {},
     "output_type": "execute_result"
    }
   ],
   "source": [
    "pred_df = tabular_model2.predict(X_test)\n",
    "pred_df.head()"
   ]
  },
  {
   "cell_type": "code",
   "execution_count": 27,
   "metadata": {},
   "outputs": [
    {
     "name": "stdout",
     "output_type": "stream",
     "text": [
      "Holdout Acc: 0.9090909090909091 | Holdout F1: 0.9230769230769231\n"
     ]
    }
   ],
   "source": [
    "print_metrics(X_test['target'], pred_df[\"prediction\"], tag=\"Holdout\")"
   ]
  },
  {
   "cell_type": "code",
   "execution_count": 34,
   "metadata": {},
   "outputs": [],
   "source": [
    "X_val = pd.read_csv('X_val.csv', index_col = 'Unnamed: 0')\n",
    "y_val = pd.read_csv('y_val.csv', index_col = 'Unnamed: 0')"
   ]
  },
  {
   "cell_type": "code",
   "execution_count": 35,
   "metadata": {},
   "outputs": [],
   "source": [
    "X_val['target'] = y_val"
   ]
  },
  {
   "cell_type": "code",
   "execution_count": 36,
   "metadata": {},
   "outputs": [
    {
     "data": {
      "application/vnd.jupyter.widget-view+json": {
       "model_id": "ecce3a1b88f6494c9e1bce7fbada5d35",
       "version_major": 2,
       "version_minor": 0
      },
      "text/plain": [
       "HBox(children=(HTML(value='Generating Predictions...'), FloatProgress(value=0.0, max=3.0), HTML(value='')))"
      ]
     },
     "metadata": {},
     "output_type": "display_data"
    },
    {
     "name": "stdout",
     "output_type": "stream",
     "text": [
      "\n"
     ]
    }
   ],
   "source": [
    "pred_df = tabular_model2.predict(X_val)"
   ]
  },
  {
   "cell_type": "code",
   "execution_count": 37,
   "metadata": {},
   "outputs": [
    {
     "name": "stdout",
     "output_type": "stream",
     "text": [
      "Holdout Acc: 0.8947368421052632 | Holdout F1: 0.9\n"
     ]
    }
   ],
   "source": [
    "print_metrics(X_val['target'], pred_df[\"prediction\"], tag=\"Holdout\")"
   ]
  },
  {
   "cell_type": "code",
   "execution_count": null,
   "metadata": {},
   "outputs": [],
   "source": []
  }
 ],
 "metadata": {
  "kernelspec": {
   "display_name": "Python 3",
   "language": "python",
   "name": "python3"
  },
  "language_info": {
   "codemirror_mode": {
    "name": "ipython",
    "version": 3
   },
   "file_extension": ".py",
   "mimetype": "text/x-python",
   "name": "python",
   "nbconvert_exporter": "python",
   "pygments_lexer": "ipython3",
   "version": "3.8.5"
  }
 },
 "nbformat": 4,
 "nbformat_minor": 4
}
