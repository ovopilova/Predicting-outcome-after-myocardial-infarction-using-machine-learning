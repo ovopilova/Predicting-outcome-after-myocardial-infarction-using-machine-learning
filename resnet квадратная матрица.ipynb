{
 "cells": [
  {
   "cell_type": "code",
   "execution_count": 58,
   "metadata": {
    "colab": {
     "base_uri": "https://localhost:8080/"
    },
    "id": "vsYgcRW4AY_D",
    "outputId": "ebb21c52-9d07-406e-9c14-4082da56b825"
   },
   "outputs": [
    {
     "name": "stdout",
     "output_type": "stream",
     "text": [
      "The autoreload extension is already loaded. To reload it, use:\n",
      "  %reload_ext autoreload\n"
     ]
    }
   ],
   "source": [
    "import warnings\n",
    "import numpy as np\n",
    "import matplotlib.pyplot as plt\n",
    "\n",
    "from sklearn.model_selection import train_test_split\n",
    "\n",
    "import torch\n",
    "import torch.nn as nn\n",
    "import torch.optim as optim\n",
    "from torch.utils.data import DataLoader, TensorDataset\n",
    "\n",
    "\n",
    "torch.backends.cudnn.enabled = False\n",
    "device = torch.device('cuda' if torch.cuda.is_available() else 'cpu')\n",
    "\n",
    "%load_ext autoreload\n",
    "%autoreload 2\n",
    "%matplotlib inline\n",
    "warnings.filterwarnings(\"ignore\")\n",
    "%config InlineBackend.figure_format = 'retina'"
   ]
  },
  {
   "cell_type": "code",
   "execution_count": 59,
   "metadata": {
    "id": "kzTSnrppAdvZ"
   },
   "outputs": [],
   "source": [
    "import copy\n",
    "import time\n",
    "import torch.nn.functional as F\n",
    "import torch\n",
    "\n",
    "def train_model(model, dataloaders, dataset_sizes, criterion, optimizer, device, epochs=20):\n",
    "    start = time.time()\n",
    "    \n",
    "    best_model_weights = copy.deepcopy(model.state_dict())\n",
    "    best_acc = 0.0\n",
    "    \n",
    "    for epoch in range(epochs):\n",
    "        print(\"EPOCH {} / {}: \".format(epoch+1, epochs))\n",
    "        print(\"-\" * 10)\n",
    "        \n",
    "        for phase in ['train', 'val']:\n",
    "            if phase == 'train':\n",
    "                model.train()\n",
    "            else:\n",
    "                model.eval()\n",
    "            \n",
    "            batch_loss = 0.0\n",
    "            batch_corrects = 0\n",
    "            \n",
    "            for inputs, labels in dataloaders[phase]:\n",
    "                inputs = inputs.to(device)\n",
    "                labels = labels.to(device)\n",
    "                \n",
    "                optimizer.zero_grad()\n",
    "                \n",
    "                with torch.set_grad_enabled(phase =='train'):\n",
    "                    outputs = model(inputs)\n",
    "                    _, preds = torch.max(outputs, 1)\n",
    "                    loss = criterion(outputs, labels)\n",
    "                    #preds = torch.sigmoid(outputs)\n",
    "                    if phase == 'train':\n",
    "                        loss.backward()\n",
    "                        optimizer.step()\n",
    "                batch_loss += loss.item() * inputs.size(0)\n",
    "                batch_corrects += torch.sum(preds == labels.data)\n",
    "        \n",
    "        epoch_loss = batch_loss / dataset_sizes[phase]\n",
    "        epoch_acc = batch_corrects.double() / dataset_sizes[phase]\n",
    "        \n",
    "        print(\"{} Loss: {:.4f} Acc: {: .4f}\".format(phase, epoch_loss, epoch_acc))\n",
    "        \n",
    "        if phase == 'val' and epoch_acc > best_acc:\n",
    "            best_acc = epoch_acc\n",
    "            best_model_weights = copy.deepcopy(model.state_dict())\n",
    "            \n",
    "    end = time.time()\n",
    "    elapsed_time = end - start\n",
    "    print(\"Training COMPLETED: {:.0f}m {:.0f}s\".format(elapsed_time // 60, elapsed_time % 60))\n",
    "    print(\"BEST VALIDATION ACCURACY: {:4f}\".format(best_acc))\n",
    "    \n",
    "    model.load_state_dict(best_model_weights)\n",
    "    return model"
   ]
  },
  {
   "cell_type": "code",
   "execution_count": 60,
   "metadata": {
    "id": "uBPhp4r-Jg_b"
   },
   "outputs": [],
   "source": [
    "import pandas as pd\n",
    "X_train_oversample = pd.read_csv('X_train_oversample.csv', index_col = 'Unnamed: 0')\n",
    "X_test_oversample = pd.read_csv('X_test_oversample.csv', index_col = 'Unnamed: 0')\n",
    "y_train_oversample = pd.read_csv('y_train_oversample.csv', index_col = 'Unnamed: 0')\n",
    "y_test_oversample = pd.read_csv('y_test_oversample.csv', index_col = 'Unnamed: 0')"
   ]
  },
  {
   "cell_type": "code",
   "execution_count": 61,
   "metadata": {
    "colab": {
     "base_uri": "https://localhost:8080/",
     "height": 439
    },
    "id": "kFsqNIuhUs5S",
    "outputId": "1116c592-a259-4b64-cf5c-c17dc3ca1202"
   },
   "outputs": [
    {
     "data": {
      "text/html": [
       "<div>\n",
       "<style scoped>\n",
       "    .dataframe tbody tr th:only-of-type {\n",
       "        vertical-align: middle;\n",
       "    }\n",
       "\n",
       "    .dataframe tbody tr th {\n",
       "        vertical-align: top;\n",
       "    }\n",
       "\n",
       "    .dataframe thead th {\n",
       "        text-align: right;\n",
       "    }\n",
       "</style>\n",
       "<table border=\"1\" class=\"dataframe\">\n",
       "  <thead>\n",
       "    <tr style=\"text-align: right;\">\n",
       "      <th></th>\n",
       "      <th>Килип1</th>\n",
       "      <th>ИндНор1</th>\n",
       "      <th>Creatin</th>\n",
       "      <th>Тромболит3</th>\n",
       "      <th>Килип4</th>\n",
       "      <th>ФУ1</th>\n",
       "      <th>ГБ6</th>\n",
       "      <th>АКШ</th>\n",
       "      <th>Возраст</th>\n",
       "      <th>Килип3</th>\n",
       "      <th>Рла1</th>\n",
       "      <th>Килип2</th>\n",
       "      <th>Кл.вар.ИМ1</th>\n",
       "      <th>Хр.оч.инф2</th>\n",
       "      <th>Pсрлао(Адср)1</th>\n",
       "      <th>ПИ</th>\n",
       "    </tr>\n",
       "  </thead>\n",
       "  <tbody>\n",
       "    <tr>\n",
       "      <th>288</th>\n",
       "      <td>1.0</td>\n",
       "      <td>-0.260822</td>\n",
       "      <td>-0.165048</td>\n",
       "      <td>0.0</td>\n",
       "      <td>0.0</td>\n",
       "      <td>0.117626</td>\n",
       "      <td>0.0</td>\n",
       "      <td>0.0</td>\n",
       "      <td>-0.789860</td>\n",
       "      <td>0.0</td>\n",
       "      <td>-0.088020</td>\n",
       "      <td>0.0</td>\n",
       "      <td>1.0</td>\n",
       "      <td>1.0</td>\n",
       "      <td>0.103881</td>\n",
       "      <td>0.040012</td>\n",
       "    </tr>\n",
       "    <tr>\n",
       "      <th>104</th>\n",
       "      <td>0.0</td>\n",
       "      <td>-0.571467</td>\n",
       "      <td>-0.165048</td>\n",
       "      <td>0.0</td>\n",
       "      <td>0.0</td>\n",
       "      <td>-0.730974</td>\n",
       "      <td>0.0</td>\n",
       "      <td>0.0</td>\n",
       "      <td>-0.172457</td>\n",
       "      <td>0.0</td>\n",
       "      <td>-0.092465</td>\n",
       "      <td>1.0</td>\n",
       "      <td>1.0</td>\n",
       "      <td>0.0</td>\n",
       "      <td>0.192557</td>\n",
       "      <td>0.040012</td>\n",
       "    </tr>\n",
       "    <tr>\n",
       "      <th>236</th>\n",
       "      <td>0.0</td>\n",
       "      <td>0.687757</td>\n",
       "      <td>-0.165048</td>\n",
       "      <td>0.0</td>\n",
       "      <td>0.0</td>\n",
       "      <td>0.146813</td>\n",
       "      <td>0.0</td>\n",
       "      <td>0.0</td>\n",
       "      <td>0.522121</td>\n",
       "      <td>1.0</td>\n",
       "      <td>0.481789</td>\n",
       "      <td>0.0</td>\n",
       "      <td>0.0</td>\n",
       "      <td>0.0</td>\n",
       "      <td>0.192557</td>\n",
       "      <td>0.020966</td>\n",
       "    </tr>\n",
       "    <tr>\n",
       "      <th>1545</th>\n",
       "      <td>0.0</td>\n",
       "      <td>0.581559</td>\n",
       "      <td>0.376523</td>\n",
       "      <td>0.0</td>\n",
       "      <td>0.0</td>\n",
       "      <td>0.505264</td>\n",
       "      <td>0.0</td>\n",
       "      <td>0.0</td>\n",
       "      <td>0.804804</td>\n",
       "      <td>1.0</td>\n",
       "      <td>-0.499022</td>\n",
       "      <td>0.0</td>\n",
       "      <td>0.0</td>\n",
       "      <td>0.0</td>\n",
       "      <td>-1.090116</td>\n",
       "      <td>1.811555</td>\n",
       "    </tr>\n",
       "    <tr>\n",
       "      <th>623</th>\n",
       "      <td>0.0</td>\n",
       "      <td>1.081611</td>\n",
       "      <td>-0.286824</td>\n",
       "      <td>0.0</td>\n",
       "      <td>1.0</td>\n",
       "      <td>-1.672989</td>\n",
       "      <td>0.0</td>\n",
       "      <td>0.0</td>\n",
       "      <td>-0.172457</td>\n",
       "      <td>0.0</td>\n",
       "      <td>1.064745</td>\n",
       "      <td>0.0</td>\n",
       "      <td>1.0</td>\n",
       "      <td>0.0</td>\n",
       "      <td>0.192557</td>\n",
       "      <td>0.040012</td>\n",
       "    </tr>\n",
       "    <tr>\n",
       "      <th>...</th>\n",
       "      <td>...</td>\n",
       "      <td>...</td>\n",
       "      <td>...</td>\n",
       "      <td>...</td>\n",
       "      <td>...</td>\n",
       "      <td>...</td>\n",
       "      <td>...</td>\n",
       "      <td>...</td>\n",
       "      <td>...</td>\n",
       "      <td>...</td>\n",
       "      <td>...</td>\n",
       "      <td>...</td>\n",
       "      <td>...</td>\n",
       "      <td>...</td>\n",
       "      <td>...</td>\n",
       "      <td>...</td>\n",
       "    </tr>\n",
       "    <tr>\n",
       "      <th>715</th>\n",
       "      <td>1.0</td>\n",
       "      <td>-0.260822</td>\n",
       "      <td>-0.165048</td>\n",
       "      <td>0.0</td>\n",
       "      <td>0.0</td>\n",
       "      <td>-0.388423</td>\n",
       "      <td>0.0</td>\n",
       "      <td>0.0</td>\n",
       "      <td>-0.172457</td>\n",
       "      <td>0.0</td>\n",
       "      <td>-0.660211</td>\n",
       "      <td>0.0</td>\n",
       "      <td>1.0</td>\n",
       "      <td>0.0</td>\n",
       "      <td>0.500996</td>\n",
       "      <td>0.040012</td>\n",
       "    </tr>\n",
       "    <tr>\n",
       "      <th>905</th>\n",
       "      <td>0.0</td>\n",
       "      <td>3.860780</td>\n",
       "      <td>1.165575</td>\n",
       "      <td>0.0</td>\n",
       "      <td>1.0</td>\n",
       "      <td>-1.458895</td>\n",
       "      <td>1.0</td>\n",
       "      <td>0.0</td>\n",
       "      <td>0.753647</td>\n",
       "      <td>0.0</td>\n",
       "      <td>-1.017734</td>\n",
       "      <td>0.0</td>\n",
       "      <td>0.0</td>\n",
       "      <td>0.0</td>\n",
       "      <td>-4.125589</td>\n",
       "      <td>-0.282568</td>\n",
       "    </tr>\n",
       "    <tr>\n",
       "      <th>1096</th>\n",
       "      <td>0.0</td>\n",
       "      <td>3.531296</td>\n",
       "      <td>1.165575</td>\n",
       "      <td>0.0</td>\n",
       "      <td>1.0</td>\n",
       "      <td>-1.565942</td>\n",
       "      <td>1.0</td>\n",
       "      <td>0.0</td>\n",
       "      <td>1.515606</td>\n",
       "      <td>0.0</td>\n",
       "      <td>-1.432923</td>\n",
       "      <td>0.0</td>\n",
       "      <td>0.0</td>\n",
       "      <td>0.0</td>\n",
       "      <td>-3.598476</td>\n",
       "      <td>-0.282568</td>\n",
       "    </tr>\n",
       "    <tr>\n",
       "      <th>235</th>\n",
       "      <td>0.0</td>\n",
       "      <td>-0.227538</td>\n",
       "      <td>-0.286824</td>\n",
       "      <td>0.0</td>\n",
       "      <td>0.0</td>\n",
       "      <td>0.146813</td>\n",
       "      <td>0.0</td>\n",
       "      <td>0.0</td>\n",
       "      <td>-0.095282</td>\n",
       "      <td>0.0</td>\n",
       "      <td>-0.914522</td>\n",
       "      <td>1.0</td>\n",
       "      <td>0.0</td>\n",
       "      <td>0.0</td>\n",
       "      <td>-0.115882</td>\n",
       "      <td>0.953249</td>\n",
       "    </tr>\n",
       "    <tr>\n",
       "      <th>1061</th>\n",
       "      <td>0.0</td>\n",
       "      <td>2.885616</td>\n",
       "      <td>3.067145</td>\n",
       "      <td>0.0</td>\n",
       "      <td>1.0</td>\n",
       "      <td>-1.384891</td>\n",
       "      <td>1.0</td>\n",
       "      <td>0.0</td>\n",
       "      <td>1.165952</td>\n",
       "      <td>0.0</td>\n",
       "      <td>-0.483450</td>\n",
       "      <td>0.0</td>\n",
       "      <td>0.0</td>\n",
       "      <td>0.0</td>\n",
       "      <td>-2.826624</td>\n",
       "      <td>0.020974</td>\n",
       "    </tr>\n",
       "  </tbody>\n",
       "</table>\n",
       "<p>1425 rows × 16 columns</p>\n",
       "</div>"
      ],
      "text/plain": [
       "      Килип1   ИндНор1   Creatin  ...  Хр.оч.инф2  Pсрлао(Адср)1        ПИ\n",
       "288      1.0 -0.260822 -0.165048  ...         1.0       0.103881  0.040012\n",
       "104      0.0 -0.571467 -0.165048  ...         0.0       0.192557  0.040012\n",
       "236      0.0  0.687757 -0.165048  ...         0.0       0.192557  0.020966\n",
       "1545     0.0  0.581559  0.376523  ...         0.0      -1.090116  1.811555\n",
       "623      0.0  1.081611 -0.286824  ...         0.0       0.192557  0.040012\n",
       "...      ...       ...       ...  ...         ...            ...       ...\n",
       "715      1.0 -0.260822 -0.165048  ...         0.0       0.500996  0.040012\n",
       "905      0.0  3.860780  1.165575  ...         0.0      -4.125589 -0.282568\n",
       "1096     0.0  3.531296  1.165575  ...         0.0      -3.598476 -0.282568\n",
       "235      0.0 -0.227538 -0.286824  ...         0.0      -0.115882  0.953249\n",
       "1061     0.0  2.885616  3.067145  ...         0.0      -2.826624  0.020974\n",
       "\n",
       "[1425 rows x 16 columns]"
      ]
     },
     "execution_count": 61,
     "metadata": {
      "tags": []
     },
     "output_type": "execute_result"
    }
   ],
   "source": [
    "X_train_oversample"
   ]
  },
  {
   "cell_type": "code",
   "execution_count": 62,
   "metadata": {
    "id": "JUyP7XO3JwVW"
   },
   "outputs": [],
   "source": [
    "X_train_oversample = np.array(X_train_oversample)\n",
    "X_test_oversample = np.array(X_test_oversample)\n",
    "y_train_oversample = np.array(y_train_oversample).reshape(-1)\n",
    "y_test_oversample = np.array(y_test_oversample).reshape(-1)"
   ]
  },
  {
   "cell_type": "code",
   "execution_count": 63,
   "metadata": {
    "colab": {
     "base_uri": "https://localhost:8080/"
    },
    "id": "vHM71aXOLq-z",
    "outputId": "a8751af9-7bf8-467e-c8ef-e509428c3bff"
   },
   "outputs": [
    {
     "name": "stdout",
     "output_type": "stream",
     "text": [
      "(1425, 16)\n",
      "(357, 16)\n",
      "(1425,)\n",
      "(357,)\n"
     ]
    }
   ],
   "source": [
    "print(X_train_oversample.shape)\n",
    "print(X_test_oversample.shape)\n",
    "print(y_train_oversample.shape)\n",
    "print(y_test_oversample.shape)"
   ]
  },
  {
   "cell_type": "code",
   "execution_count": 64,
   "metadata": {
    "id": "CNdIv5VcJzQB"
   },
   "outputs": [],
   "source": [
    "import torch.nn as nn\n",
    "from torchvision import models\n",
    "\n",
    "model_res = models.resnet18(pretrained = True)\n",
    "num_features = model_res.fc.in_features\n",
    "model_res.fc = nn.Linear(num_features, 2)"
   ]
  },
  {
   "cell_type": "code",
   "execution_count": 65,
   "metadata": {
    "id": "yr3oUNl6AiTP"
   },
   "outputs": [],
   "source": [
    "def data_to_image(data):\n",
    "    data_images = []\n",
    "    font = ImageFont.truetype(\"arial.ttf\", size=20)\n",
    "    for dat in data:\n",
    "        background = np.array([[0 for _ in range(255)] for _ in range(255)], dtype='uint8')\n",
    "        image = Image.fromarray(background)\n",
    "        draw = ImageDraw.Draw(image) \n",
    "        draw.text((30, 35), str(int(dat[0])), fill='white', font=font)\n",
    "        draw.text((30, 75), str(round(dat[1], 2)), fill='white', font=font)\n",
    "        draw.text((30, 135), str(round(dat[2], 2)), fill='white', font=font)\n",
    "        draw.text((30, 190), str(int(dat[3])), fill='white', font=font)\n",
    "        draw.text((90, 35), str(int(dat[4])), fill='white', font=font)\n",
    "        draw.text((82, 75), str(round(dat[5], 2)), fill='white', font=font)\n",
    "        draw.text((90, 135), str(int(dat[6])), fill='white', font=font)\n",
    "        draw.text((90, 190), str(int(dat[7])), fill='white', font=font)\n",
    "        draw.text((135, 35), str(round(dat[8], 2)), fill='white', font=font)\n",
    "        draw.text((140, 80), str(int(dat[9])), fill='white', font=font)\n",
    "        draw.text((135, 135), str(round(dat[10], 2)), fill='white', font=font)\n",
    "        draw.text((135, 190), str(int(dat[11])), fill='white', font=font)\n",
    "        draw.text((200, 35), str(int(dat[12])), fill='white', font=font)\n",
    "        draw.text((200, 75), str(int(dat[13])), fill='white', font=font)\n",
    "        draw.text((190, 135), str(round(dat[14], 2)), fill='white', font=font)\n",
    "        draw.text((190, 190), str(round(dat[15], 2)), fill='white', font=font)\n",
    "        rgb = [np.array(image, dtype='uint8') for _ in range(3)]\n",
    "        data_images.append(rgb)\n",
    "    return np.array(data_images) / 255"
   ]
  },
  {
   "cell_type": "code",
   "execution_count": 66,
   "metadata": {
    "colab": {
     "base_uri": "https://localhost:8080/",
     "height": 319
    },
    "id": "cIayjuNEAjwM",
    "outputId": "4a97300a-5092-4e42-af1c-335753be8e4a"
   },
   "outputs": [
    {
     "name": "stdout",
     "output_type": "stream",
     "text": [
      "(1425, 3, 255, 255)\n",
      "(357, 3, 255, 255)\n"
     ]
    },
    {
     "data": {
      "text/plain": [
       "<matplotlib.image.AxesImage at 0x7f090b3bdd90>"
      ]
     },
     "execution_count": 66,
     "metadata": {
      "tags": []
     },
     "output_type": "execute_result"
    },
    {
     "data": {
      "image/png": "[encoded data removed]",
      "text/plain": [
       "<Figure size 432x288 with 1 Axes>"
      ]
     },
     "metadata": {
      "image/png": {
       "height": 251,
       "width": 263
      },
      "needs_background": "light",
      "tags": []
     },
     "output_type": "display_data"
    }
   ],
   "source": [
    "from PIL import Image, ImageDraw, ImageFont\n",
    "\n",
    "train_images_over = data_to_image(X_train_oversample)\n",
    "val_images_over = data_to_image(X_test_oversample)\n",
    "\n",
    "print(train_images_over.shape)\n",
    "print(val_images_over.shape)\n",
    "plt.grid()\n",
    "plt.imshow(train_images_over[9][0, :, :])"
   ]
  },
  {
   "cell_type": "code",
   "execution_count": 67,
   "metadata": {
    "id": "dzFOEUPIAmBe"
   },
   "outputs": [],
   "source": [
    "X_train_over = torch.from_numpy(train_images_over).float()\n",
    "y_train_over = torch.from_numpy(y_train_oversample).long()\n",
    "X_val_over = torch.from_numpy(val_images_over).float()\n",
    "y_val_over = torch.from_numpy(y_test_oversample).long()\n",
    "\n",
    "train_dataset_over = TensorDataset(X_train_over, y_train_over)\n",
    "val_dataset_over = TensorDataset(X_val_over, y_val_over)\n",
    "\n",
    "dataloaders_over = {'train': DataLoader(train_dataset_over, batch_size=16, shuffle=False),\n",
    "              'val': DataLoader(val_dataset_over)}\n",
    "\n",
    "dataset_sizes_over = {'train': len(X_train_over),\n",
    "                'val': len(X_val_over)}"
   ]
  },
  {
   "cell_type": "code",
   "execution_count": 68,
   "metadata": {
    "colab": {
     "base_uri": "https://localhost:8080/"
    },
    "id": "5Se9IMA-NBUy",
    "outputId": "8d91d21a-4b0b-4440-b43d-80d4e7e555db"
   },
   "outputs": [
    {
     "name": "stdout",
     "output_type": "stream",
     "text": [
      "torch.Size([1425, 3, 255, 255])\n",
      "torch.Size([357, 3, 255, 255])\n",
      "torch.Size([1425])\n",
      "torch.Size([357])\n"
     ]
    }
   ],
   "source": [
    "print(X_train_over.shape)\n",
    "print(X_val_over.shape)\n",
    "print(y_train_over.shape)\n",
    "print(y_val_over.shape)"
   ]
  },
  {
   "cell_type": "code",
   "execution_count": 69,
   "metadata": {
    "id": "NkPzQ0uOAnYi"
   },
   "outputs": [],
   "source": [
    "model_over = model_res.to(device)\n",
    "\n",
    "criterion = nn.CrossEntropyLoss()\n",
    "optimizer = optim.Adam(model_over.parameters())"
   ]
  },
  {
   "cell_type": "code",
   "execution_count": 71,
   "metadata": {
    "colab": {
     "base_uri": "https://localhost:8080/"
    },
    "id": "3CrvBVomAo3b",
    "outputId": "f5416c87-55eb-4516-82e2-24f49cb8a1f2"
   },
   "outputs": [
    {
     "name": "stdout",
     "output_type": "stream",
     "text": [
      "EPOCH 1 / 10: \n",
      "----------\n",
      "val Loss: 0.3420 Acc:  0.8711\n",
      "EPOCH 2 / 10: \n",
      "----------\n",
      "val Loss: 0.1540 Acc:  0.9328\n",
      "EPOCH 3 / 10: \n",
      "----------\n",
      "val Loss: 0.1072 Acc:  0.9664\n",
      "EPOCH 4 / 10: \n",
      "----------\n",
      "val Loss: 0.0950 Acc:  0.9636\n",
      "EPOCH 5 / 10: \n",
      "----------\n",
      "val Loss: 0.1019 Acc:  0.9636\n",
      "EPOCH 6 / 10: \n",
      "----------\n",
      "val Loss: 0.1485 Acc:  0.9524\n",
      "EPOCH 7 / 10: \n",
      "----------\n",
      "val Loss: 0.1086 Acc:  0.9664\n",
      "EPOCH 8 / 10: \n",
      "----------\n",
      "val Loss: 0.1438 Acc:  0.9580\n",
      "EPOCH 9 / 10: \n",
      "----------\n",
      "val Loss: 0.1513 Acc:  0.9524\n",
      "EPOCH 10 / 10: \n",
      "----------\n",
      "val Loss: 0.1528 Acc:  0.9468\n",
      "Training COMPLETED: 6m 22s\n",
      "BEST VALIDATION ACCURACY: 0.966387\n"
     ]
    }
   ],
   "source": [
    "best_model_over = train_model(model_over, dataloaders_over, dataset_sizes_over, criterion, optimizer, device, epochs = 10)"
   ]
  },
  {
   "cell_type": "code",
   "execution_count": 81,
   "metadata": {
    "id": "91NzW2TKSBZg"
   },
   "outputs": [],
   "source": [
    "X_val = pd.read_csv('X_val.csv', index_col = 'Unnamed: 0')\n",
    "y_val = pd.read_csv('y_val.csv', index_col = 'Unnamed: 0')"
   ]
  },
  {
   "cell_type": "code",
   "execution_count": 85,
   "metadata": {
    "id": "PCK0DXi5KB4z"
   },
   "outputs": [],
   "source": [
    "y_pred_val_over = []\n",
    "X_val = np.array(X_val)\n",
    "y_val = np.array(y_val).reshape(-1)\n",
    "\n",
    "X_val_img = data_to_image(X_val)\n",
    "\n",
    "X_val = torch.from_numpy(X_val_img).float()\n",
    "y_val = torch.from_numpy(y_val).long()\n",
    "\n",
    "val_dataset = TensorDataset(X_val, y_val)\n",
    "\n",
    "dataloaders = {'val': DataLoader(val_dataset)}\n",
    "\n",
    "dataset_sizes_over = {'val': len(X_val)}\n",
    "\n",
    "for inputs, labels in dataloaders['val']:\n",
    "  inputs = inputs.to(device)\n",
    "  outputs = best_model_over(inputs)          \n",
    "  _, preds = torch.max(outputs, 1)\n",
    "  y_pred_val_over.append(preds)"
   ]
  },
  {
   "cell_type": "code",
   "execution_count": 95,
   "metadata": {
    "id": "FMIRPtLfp1md"
   },
   "outputs": [],
   "source": [
    "preds = list(map(int, np.array(y_pred_val_over)))"
   ]
  },
  {
   "cell_type": "code",
   "execution_count": 99,
   "metadata": {
    "colab": {
     "base_uri": "https://localhost:8080/"
    },
    "id": "GTiQ-4ISqJbq",
    "outputId": "8a3cf200-8fae-4ccb-da87-bd810951493c"
   },
   "outputs": [
    {
     "name": "stdout",
     "output_type": "stream",
     "text": [
      "0.9\n",
      "0.9\n"
     ]
    }
   ],
   "source": [
    "from sklearn.metrics import accuracy_score\n",
    "from sklearn.metrics import f1_score\n",
    "print(accuracy_score(preds, y_val))\n",
    "print(f1_score(preds, y_val))"
   ]
  },
  {
   "cell_type": "code",
   "execution_count": 100,
   "metadata": {
    "id": "YKk9gElbDYWS"
   },
   "outputs": [],
   "source": [
    "import pandas as pd\n",
    "X_train_undersample = pd.read_csv('X_train_undersample.csv', index_col = 'Unnamed: 0')\n",
    "X_test_undersample = pd.read_csv('X_test_undersample.csv', index_col = 'Unnamed: 0')\n",
    "y_train_undersample = pd.read_csv('y_train_undersample.csv', index_col = 'Unnamed: 0')\n",
    "y_test_undersample = pd.read_csv('y_test_undersample.csv', index_col = 'Unnamed: 0')"
   ]
  },
  {
   "cell_type": "code",
   "execution_count": 101,
   "metadata": {
    "id": "3Pc5E7ZyY0sP"
   },
   "outputs": [],
   "source": [
    "X_train_undersample = np.array(X_train_undersample)\n",
    "X_test_undersample = np.array(X_test_undersample)\n",
    "y_train_undersample = np.array(y_train_undersample).reshape(-1)\n",
    "y_test_undersample = np.array(y_test_undersample).reshape(-1)"
   ]
  },
  {
   "cell_type": "code",
   "execution_count": 103,
   "metadata": {
    "colab": {
     "base_uri": "https://localhost:8080/"
    },
    "id": "YetpqSULY8wI",
    "outputId": "e73f45ed-efd1-4d0c-e872-aee708977a53"
   },
   "outputs": [
    {
     "name": "stdout",
     "output_type": "stream",
     "text": [
      "(174, 16)\n",
      "(44, 16)\n",
      "(174,)\n",
      "(44,)\n"
     ]
    }
   ],
   "source": [
    "print(X_train_undersample.shape)\n",
    "print(X_test_undersample.shape)\n",
    "print(y_train_undersample.shape)\n",
    "print(y_test_undersample.shape)"
   ]
  },
  {
   "cell_type": "code",
   "execution_count": 104,
   "metadata": {
    "colab": {
     "base_uri": "https://localhost:8080/",
     "height": 319
    },
    "id": "3kf26a_CY-be",
    "outputId": "0bcfc416-cc5f-4222-aa21-1d737c45661e"
   },
   "outputs": [
    {
     "name": "stdout",
     "output_type": "stream",
     "text": [
      "(174, 3, 255, 255)\n",
      "(44, 3, 255, 255)\n"
     ]
    },
    {
     "data": {
      "text/plain": [
       "<matplotlib.image.AxesImage at 0x7f0906443990>"
      ]
     },
     "execution_count": 104,
     "metadata": {
      "tags": []
     },
     "output_type": "execute_result"
    },
    {
     "data": {
      "image/png": "[encoded data removed]",
      "text/plain": [
       "<Figure size 432x288 with 1 Axes>"
      ]
     },
     "metadata": {
      "image/png": {
       "height": 251,
       "width": 263
      },
      "needs_background": "light",
      "tags": []
     },
     "output_type": "display_data"
    }
   ],
   "source": [
    "from PIL import Image, ImageDraw, ImageFont\n",
    "\n",
    "train_images_under = data_to_image(X_train_undersample)\n",
    "val_images_under = data_to_image(X_test_undersample)\n",
    "\n",
    "print(train_images_under.shape)\n",
    "print(val_images_under.shape)\n",
    "plt.grid()\n",
    "plt.imshow(train_images_under[9][0, :, :])"
   ]
  },
  {
   "cell_type": "code",
   "execution_count": 105,
   "metadata": {
    "id": "IsKITWX3ZMLC"
   },
   "outputs": [],
   "source": [
    "X_train_under = torch.from_numpy(train_images_under).float()\n",
    "y_train_under = torch.from_numpy(y_train_undersample).long()\n",
    "X_val_under = torch.from_numpy(val_images_under).float()\n",
    "y_val_under = torch.from_numpy(y_test_undersample).long()\n",
    "\n",
    "train_dataset_under = TensorDataset(X_train_under, y_train_under)\n",
    "val_dataset_under = TensorDataset(X_val_under, y_val_under)\n",
    "\n",
    "dataloaders_under = {'train': DataLoader(train_dataset_under, batch_size=16, shuffle=False),\n",
    "              'val': DataLoader(val_dataset_under)}\n",
    "\n",
    "dataset_sizes_under = {'train': len(X_train_under),\n",
    "                'val': len(X_val_under)}"
   ]
  },
  {
   "cell_type": "code",
   "execution_count": 106,
   "metadata": {
    "colab": {
     "base_uri": "https://localhost:8080/"
    },
    "id": "vmaUuwIRZqF1",
    "outputId": "ee829ae9-a47a-4f70-95ff-786787dcd0a8"
   },
   "outputs": [
    {
     "name": "stdout",
     "output_type": "stream",
     "text": [
      "torch.Size([174, 3, 255, 255])\n",
      "torch.Size([44, 3, 255, 255])\n",
      "torch.Size([174])\n",
      "torch.Size([44])\n"
     ]
    }
   ],
   "source": [
    "print(X_train_under.shape)\n",
    "print(X_val_under.shape)\n",
    "print(y_train_under.shape)\n",
    "print(y_val_under.shape)"
   ]
  },
  {
   "cell_type": "code",
   "execution_count": 107,
   "metadata": {
    "id": "mToHWCTQZvnu"
   },
   "outputs": [],
   "source": [
    "model_under = model_res.to(device)\n",
    "\n",
    "criterion = nn.CrossEntropyLoss()\n",
    "optimizer = optim.Adam(model_under.parameters())"
   ]
  },
  {
   "cell_type": "code",
   "execution_count": 108,
   "metadata": {
    "colab": {
     "base_uri": "https://localhost:8080/"
    },
    "id": "DNAdQVwRZ10K",
    "outputId": "5955a391-497f-41cb-db0f-aaca7742360a"
   },
   "outputs": [
    {
     "name": "stdout",
     "output_type": "stream",
     "text": [
      "EPOCH 1 / 10: \n",
      "----------\n",
      "val Loss: 0.5152 Acc:  0.7727\n",
      "EPOCH 2 / 10: \n",
      "----------\n",
      "val Loss: 1.0685 Acc:  0.8182\n",
      "EPOCH 3 / 10: \n",
      "----------\n",
      "val Loss: 1.6632 Acc:  0.8182\n",
      "EPOCH 4 / 10: \n",
      "----------\n",
      "val Loss: 0.6515 Acc:  0.8182\n",
      "EPOCH 5 / 10: \n",
      "----------\n",
      "val Loss: 0.4395 Acc:  0.8864\n",
      "EPOCH 6 / 10: \n",
      "----------\n",
      "val Loss: 0.6241 Acc:  0.8409\n",
      "EPOCH 7 / 10: \n",
      "----------\n",
      "val Loss: 0.7593 Acc:  0.8636\n",
      "EPOCH 8 / 10: \n",
      "----------\n",
      "val Loss: 0.9602 Acc:  0.7955\n",
      "EPOCH 9 / 10: \n",
      "----------\n",
      "val Loss: 0.9036 Acc:  0.8182\n",
      "EPOCH 10 / 10: \n",
      "----------\n",
      "val Loss: 0.8796 Acc:  0.8409\n",
      "Training COMPLETED: 0m 47s\n",
      "BEST VALIDATION ACCURACY: 0.886364\n"
     ]
    }
   ],
   "source": [
    "best_model_under = train_model(model_under, dataloaders_under, dataset_sizes_under, criterion, optimizer, device, epochs = 10)"
   ]
  },
  {
   "cell_type": "code",
   "execution_count": 109,
   "metadata": {
    "id": "jr1AFpqhZ7zo"
   },
   "outputs": [],
   "source": [
    "X_val = pd.read_csv('X_val.csv', index_col = 'Unnamed: 0')\n",
    "y_val = pd.read_csv('y_val.csv', index_col = 'Unnamed: 0')"
   ]
  },
  {
   "cell_type": "code",
   "execution_count": 110,
   "metadata": {
    "id": "CGWDMwG2aieH"
   },
   "outputs": [],
   "source": [
    "y_pred_val_under = []\n",
    "X_val = np.array(X_val)\n",
    "y_val = np.array(y_val).reshape(-1)\n",
    "\n",
    "X_val_img = data_to_image(X_val)\n",
    "\n",
    "X_val = torch.from_numpy(X_val_img).float()\n",
    "y_val = torch.from_numpy(y_val).long()\n",
    "\n",
    "val_dataset = TensorDataset(X_val, y_val)\n",
    "\n",
    "dataloaders = {'val': DataLoader(val_dataset)}\n",
    "\n",
    "dataset_sizes_under = {'val': len(X_val)}\n",
    "\n",
    "for inputs, labels in dataloaders['val']:\n",
    "  inputs = inputs.to(device)\n",
    "  outputs = best_model_under(inputs)          \n",
    "  _, preds = torch.max(outputs, 1)\n",
    "  y_pred_val_under.append(preds)"
   ]
  },
  {
   "cell_type": "code",
   "execution_count": 111,
   "metadata": {
    "id": "L4zGhoBsar6T"
   },
   "outputs": [],
   "source": [
    "preds = list(map(int, np.array(y_pred_val_under)))"
   ]
  },
  {
   "cell_type": "code",
   "execution_count": 112,
   "metadata": {
    "colab": {
     "base_uri": "https://localhost:8080/"
    },
    "id": "usx4qYFfavrw",
    "outputId": "d9e9858b-19d2-4218-8fe6-89792413a34c"
   },
   "outputs": [
    {
     "name": "stdout",
     "output_type": "stream",
     "text": [
      "0.875\n",
      "0.8837209302325583\n"
     ]
    }
   ],
   "source": [
    "print(accuracy_score(preds, y_val))\n",
    "print(f1_score(preds, y_val))"
   ]
  },
  {
   "cell_type": "code",
   "execution_count": 113,
   "metadata": {
    "id": "sC0T6FTsa0RL"
   },
   "outputs": [],
   "source": [
    "X_train_nothing_changed = pd.read_csv('X_train_nothing.csv', index_col = 'Unnamed: 0')\n",
    "X_test_nothing_changed = pd.read_csv('X_test_nothing.csv', index_col = 'Unnamed: 0')\n",
    "y_train_nothing_changed = pd.read_csv('y_train_nothing.csv', index_col = 'Unnamed: 0')\n",
    "y_test_nothing_changed = pd.read_csv('y_test_nothing.csv', index_col = 'Unnamed: 0')"
   ]
  },
  {
   "cell_type": "code",
   "execution_count": 114,
   "metadata": {
    "id": "C-XPB7HwbK2k"
   },
   "outputs": [],
   "source": [
    "X_train_nothing_changed = np.array(X_train_nothing_changed)\n",
    "X_test_nothing_changed = np.array(X_test_nothing_changed)\n",
    "y_train_nothing_changed = np.array(y_train_nothing_changed).reshape(-1)\n",
    "y_test_nothing_changed = np.array(y_test_nothing_changed).reshape(-1)"
   ]
  },
  {
   "cell_type": "code",
   "execution_count": 115,
   "metadata": {
    "colab": {
     "base_uri": "https://localhost:8080/",
     "height": 319
    },
    "id": "rlLPJnyUbTcA",
    "outputId": "d1bcc20d-18ba-4340-e4d7-fa10a17502ac"
   },
   "outputs": [
    {
     "name": "stdout",
     "output_type": "stream",
     "text": [
      "(800, 3, 255, 255)\n",
      "(200, 3, 255, 255)\n"
     ]
    },
    {
     "data": {
      "text/plain": [
       "<matplotlib.image.AxesImage at 0x7f09061abf50>"
      ]
     },
     "execution_count": 115,
     "metadata": {
      "tags": []
     },
     "output_type": "execute_result"
    },
    {
     "data": {
      "image/png": "[encoded data removed]",
      "text/plain": [
       "<Figure size 432x288 with 1 Axes>"
      ]
     },
     "metadata": {
      "image/png": {
       "height": 251,
       "width": 263
      },
      "needs_background": "light",
      "tags": []
     },
     "output_type": "display_data"
    }
   ],
   "source": [
    "from PIL import Image, ImageDraw, ImageFont\n",
    "\n",
    "train_images_nothing = data_to_image(X_train_nothing_changed)\n",
    "val_images_nothing = data_to_image(X_test_nothing_changed)\n",
    "\n",
    "print(train_images_nothing.shape)\n",
    "print(val_images_nothing.shape)\n",
    "plt.grid()\n",
    "plt.imshow(train_images_nothing[9][0, :, :])"
   ]
  },
  {
   "cell_type": "code",
   "execution_count": 116,
   "metadata": {
    "id": "KJLRF9LsbfxX"
   },
   "outputs": [],
   "source": [
    "X_train_nothing = torch.from_numpy(train_images_nothing).float()\n",
    "y_train_nothing = torch.from_numpy(y_train_nothing_changed).long()\n",
    "X_val_nothing = torch.from_numpy(val_images_nothing).float()\n",
    "y_val_nothing = torch.from_numpy(y_test_nothing_changed).long()\n",
    "\n",
    "train_dataset_nothing = TensorDataset(X_train_nothing, y_train_nothing)\n",
    "val_dataset_nothing = TensorDataset(X_val_nothing, y_val_nothing)\n",
    "\n",
    "dataloaders_nothing = {'train': DataLoader(train_dataset_nothing, batch_size=16, shuffle=False),\n",
    "              'val': DataLoader(val_dataset_nothing)}\n",
    "\n",
    "dataset_sizes_nothing = {'train': len(X_train_nothing),\n",
    "                'val': len(X_val_nothing)}"
   ]
  },
  {
   "cell_type": "code",
   "execution_count": 117,
   "metadata": {
    "colab": {
     "base_uri": "https://localhost:8080/"
    },
    "id": "JaFU93oFb5GJ",
    "outputId": "2f978f34-2714-4f92-a9ea-e9938b68eae1"
   },
   "outputs": [
    {
     "name": "stdout",
     "output_type": "stream",
     "text": [
      "torch.Size([800, 3, 255, 255])\n",
      "torch.Size([200, 3, 255, 255])\n",
      "torch.Size([800])\n",
      "torch.Size([200])\n"
     ]
    }
   ],
   "source": [
    "print(X_train_nothing.shape)\n",
    "print(X_val_nothing.shape)\n",
    "print(y_train_nothing.shape)\n",
    "print(y_val_nothing.shape)"
   ]
  },
  {
   "cell_type": "code",
   "execution_count": 118,
   "metadata": {
    "id": "N6Jb-P8mcBDs"
   },
   "outputs": [],
   "source": [
    "model_nothing = model_res.to(device)\n",
    "\n",
    "criterion = nn.CrossEntropyLoss()\n",
    "optimizer = optim.Adam(model_nothing.parameters())"
   ]
  },
  {
   "cell_type": "code",
   "execution_count": 119,
   "metadata": {
    "colab": {
     "base_uri": "https://localhost:8080/"
    },
    "id": "jk6K9Zd7cGyc",
    "outputId": "f638b8c7-c59e-485e-d941-501e504c557c"
   },
   "outputs": [
    {
     "name": "stdout",
     "output_type": "stream",
     "text": [
      "EPOCH 1 / 10: \n",
      "----------\n",
      "val Loss: 0.0706 Acc:  0.9850\n",
      "EPOCH 2 / 10: \n",
      "----------\n",
      "val Loss: 0.1603 Acc:  0.9300\n",
      "EPOCH 3 / 10: \n",
      "----------\n",
      "val Loss: 0.0901 Acc:  0.9450\n",
      "EPOCH 4 / 10: \n",
      "----------\n",
      "val Loss: 0.0906 Acc:  0.9500\n",
      "EPOCH 5 / 10: \n",
      "----------\n",
      "val Loss: 0.1452 Acc:  0.9250\n",
      "EPOCH 6 / 10: \n",
      "----------\n",
      "val Loss: 0.0496 Acc:  0.9850\n",
      "EPOCH 7 / 10: \n",
      "----------\n",
      "val Loss: 0.1171 Acc:  0.9550\n",
      "EPOCH 8 / 10: \n",
      "----------\n",
      "val Loss: 0.0886 Acc:  0.9650\n",
      "EPOCH 9 / 10: \n",
      "----------\n",
      "val Loss: 0.1244 Acc:  0.9650\n",
      "EPOCH 10 / 10: \n",
      "----------\n",
      "val Loss: 0.1289 Acc:  0.9650\n",
      "Training COMPLETED: 3m 35s\n",
      "BEST VALIDATION ACCURACY: 0.985000\n"
     ]
    }
   ],
   "source": [
    "best_model_nothing = train_model(model_nothing, dataloaders_nothing, dataset_sizes_nothing, criterion, optimizer, device, epochs = 10)"
   ]
  },
  {
   "cell_type": "code",
   "execution_count": 120,
   "metadata": {
    "id": "FnunjG4scMdU"
   },
   "outputs": [],
   "source": [
    "X_val = pd.read_csv('X_val.csv', index_col = 'Unnamed: 0')\n",
    "y_val = pd.read_csv('y_val.csv', index_col = 'Unnamed: 0')"
   ]
  },
  {
   "cell_type": "code",
   "execution_count": 121,
   "metadata": {
    "id": "9c9ec2Bnc7Tg"
   },
   "outputs": [],
   "source": [
    "y_pred_val_nothing = []\n",
    "X_val = np.array(X_val)\n",
    "y_val = np.array(y_val).reshape(-1)\n",
    "\n",
    "X_val_img = data_to_image(X_val)\n",
    "\n",
    "X_val = torch.from_numpy(X_val_img).float()\n",
    "y_val = torch.from_numpy(y_val).long()\n",
    "\n",
    "val_dataset = TensorDataset(X_val, y_val)\n",
    "\n",
    "dataloaders = {'val': DataLoader(val_dataset)}\n",
    "\n",
    "dataset_sizes_nothing = {'val': len(X_val)}\n",
    "\n",
    "for inputs, labels in dataloaders['val']:\n",
    "  inputs = inputs.to(device)\n",
    "  outputs = best_model_nothing(inputs)          \n",
    "  _, preds = torch.max(outputs, 1)\n",
    "  y_pred_val_nothing.append(preds)"
   ]
  },
  {
   "cell_type": "code",
   "execution_count": 122,
   "metadata": {
    "id": "sDsNIb-SdEfz"
   },
   "outputs": [],
   "source": [
    "preds = list(map(int, np.array(y_pred_val_nothing)))"
   ]
  },
  {
   "cell_type": "code",
   "execution_count": 123,
   "metadata": {
    "colab": {
     "base_uri": "https://localhost:8080/"
    },
    "id": "w5C3aqcidPHr",
    "outputId": "06b5be6e-d23c-4e2f-9b56-51fbfaa01f86"
   },
   "outputs": [
    {
     "name": "stdout",
     "output_type": "stream",
     "text": [
      "0.925\n",
      "0.9189189189189189\n"
     ]
    }
   ],
   "source": [
    "print(accuracy_score(preds, y_val))\n",
    "print(f1_score(preds, y_val))"
   ]
  },
  {
   "cell_type": "code",
   "execution_count": null,
   "metadata": {
    "id": "5cIGkki9dRcZ"
   },
   "outputs": [],
   "source": []
  }
 ],
 "metadata": {
  "accelerator": "GPU",
  "colab": {
   "collapsed_sections": [],
   "name": "Untitled16.ipynb",
   "provenance": []
  },
  "kernelspec": {
   "display_name": "Python 3",
   "language": "python",
   "name": "python3"
  },
  "language_info": {
   "codemirror_mode": {
    "name": "ipython",
    "version": 3
   },
   "file_extension": ".py",
   "mimetype": "text/x-python",
   "name": "python",
   "nbconvert_exporter": "python",
   "pygments_lexer": "ipython3",
   "version": "3.8.5"
  }
 },
 "nbformat": 4,
 "nbformat_minor": 1
}
