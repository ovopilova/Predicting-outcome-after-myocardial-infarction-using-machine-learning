{
 "cells": [
  {
   "cell_type": "code",
   "execution_count": 1,
   "metadata": {
    "id": "vsYgcRW4AY_D"
   },
   "outputs": [],
   "source": [
    "import warnings\n",
    "import numpy as np\n",
    "import matplotlib.pyplot as plt\n",
    "\n",
    "from sklearn.model_selection import train_test_split\n",
    "\n",
    "import torch\n",
    "import torch.nn as nn\n",
    "import torch.optim as optim\n",
    "from torch.utils.data import DataLoader, TensorDataset\n",
    "\n",
    "\n",
    "torch.backends.cudnn.enabled = False\n",
    "device = torch.device('cuda' if torch.cuda.is_available() else 'cpu')\n",
    "\n",
    "%load_ext autoreload\n",
    "%autoreload 2\n",
    "%matplotlib inline\n",
    "warnings.filterwarnings(\"ignore\")\n",
    "%config InlineBackend.figure_format = 'retina'"
   ]
  },
  {
   "cell_type": "code",
   "execution_count": 2,
   "metadata": {
    "id": "kzTSnrppAdvZ"
   },
   "outputs": [],
   "source": [
    "import copy\n",
    "import time\n",
    "import torch.nn.functional as F\n",
    "import torch\n",
    "\n",
    "def train_model(model, dataloaders, dataset_sizes, criterion, optimizer, device, epochs=20):\n",
    "    start = time.time()\n",
    "    \n",
    "    best_model_weights = copy.deepcopy(model.state_dict())\n",
    "    best_acc = 0.0\n",
    "    \n",
    "    for epoch in range(epochs):\n",
    "        print(\"EPOCH {} / {}: \".format(epoch+1, epochs))\n",
    "        print(\"-\" * 10)\n",
    "        \n",
    "        for phase in ['train', 'val']:\n",
    "            if phase == 'train':\n",
    "                model.train()\n",
    "            else:\n",
    "                model.eval()\n",
    "            \n",
    "            batch_loss = 0.0\n",
    "            batch_corrects = 0\n",
    "            \n",
    "            for inputs, labels in dataloaders[phase]:\n",
    "                inputs = inputs.to(device)\n",
    "                labels = labels.to(device)\n",
    "                \n",
    "                optimizer.zero_grad()\n",
    "                \n",
    "                with torch.set_grad_enabled(phase =='train'):\n",
    "                    outputs = model(inputs)\n",
    "                    _, preds = torch.max(outputs, 1)\n",
    "                    loss = criterion(outputs, labels)\n",
    "                    #preds = torch.sigmoid(outputs)\n",
    "                    if phase == 'train':\n",
    "                        loss.backward()\n",
    "                        optimizer.step()\n",
    "                batch_loss += loss.item() * inputs.size(0)\n",
    "                batch_corrects += torch.sum(preds == labels.data)\n",
    "        \n",
    "        epoch_loss = batch_loss / dataset_sizes[phase]\n",
    "        epoch_acc = batch_corrects.double() / dataset_sizes[phase]\n",
    "        \n",
    "        print(\"{} Loss: {:.4f} Acc: {: .4f}\".format(phase, epoch_loss, epoch_acc))\n",
    "        \n",
    "        if phase == 'val' and epoch_acc > best_acc:\n",
    "            best_acc = epoch_acc\n",
    "            best_model_weights = copy.deepcopy(model.state_dict())\n",
    "            \n",
    "    end = time.time()\n",
    "    elapsed_time = end - start\n",
    "    print(\"Training COMPLETED: {:.0f}m {:.0f}s\".format(elapsed_time // 60, elapsed_time % 60))\n",
    "    print(\"BEST VALIDATION ACCURACY: {:4f}\".format(best_acc))\n",
    "    \n",
    "    model.load_state_dict(best_model_weights)\n",
    "    return model"
   ]
  },
  {
   "cell_type": "code",
   "execution_count": 4,
   "metadata": {
    "id": "uBPhp4r-Jg_b"
   },
   "outputs": [],
   "source": [
    "import pandas as pd\n",
    "X_train_oversample = pd.read_csv('X_train_oversample.csv', index_col = 'Unnamed: 0')\n",
    "X_test_oversample = pd.read_csv('X_test_oversample.csv', index_col = 'Unnamed: 0')\n",
    "y_train_oversample = pd.read_csv('y_train_oversample.csv', index_col = 'Unnamed: 0')\n",
    "y_test_oversample = pd.read_csv('y_test_oversample.csv', index_col = 'Unnamed: 0')"
   ]
  },
  {
   "cell_type": "code",
   "execution_count": 5,
   "metadata": {
    "colab": {
     "base_uri": "https://localhost:8080/",
     "height": 439
    },
    "id": "kFsqNIuhUs5S",
    "outputId": "c05faabf-673b-4518-d8e9-7869ab91c1c2"
   },
   "outputs": [
    {
     "data": {
      "text/html": [
       "<div>\n",
       "<style scoped>\n",
       "    .dataframe tbody tr th:only-of-type {\n",
       "        vertical-align: middle;\n",
       "    }\n",
       "\n",
       "    .dataframe tbody tr th {\n",
       "        vertical-align: top;\n",
       "    }\n",
       "\n",
       "    .dataframe thead th {\n",
       "        text-align: right;\n",
       "    }\n",
       "</style>\n",
       "<table border=\"1\" class=\"dataframe\">\n",
       "  <thead>\n",
       "    <tr style=\"text-align: right;\">\n",
       "      <th></th>\n",
       "      <th>Килип1</th>\n",
       "      <th>ИндНор1</th>\n",
       "      <th>Creatin</th>\n",
       "      <th>Тромболит3</th>\n",
       "      <th>Килип4</th>\n",
       "      <th>ФУ1</th>\n",
       "      <th>ГБ6</th>\n",
       "      <th>АКШ</th>\n",
       "      <th>Возраст</th>\n",
       "      <th>Килип3</th>\n",
       "      <th>Рла1</th>\n",
       "      <th>Килип2</th>\n",
       "      <th>Кл.вар.ИМ1</th>\n",
       "      <th>Хр.оч.инф2</th>\n",
       "      <th>Pсрлао(Адср)1</th>\n",
       "      <th>ПИ</th>\n",
       "    </tr>\n",
       "  </thead>\n",
       "  <tbody>\n",
       "    <tr>\n",
       "      <th>288</th>\n",
       "      <td>1.0</td>\n",
       "      <td>-0.260822</td>\n",
       "      <td>-0.165048</td>\n",
       "      <td>0.0</td>\n",
       "      <td>0.0</td>\n",
       "      <td>0.117626</td>\n",
       "      <td>0.0</td>\n",
       "      <td>0.0</td>\n",
       "      <td>-0.789860</td>\n",
       "      <td>0.0</td>\n",
       "      <td>-0.088020</td>\n",
       "      <td>0.0</td>\n",
       "      <td>1.0</td>\n",
       "      <td>1.0</td>\n",
       "      <td>0.103881</td>\n",
       "      <td>0.040012</td>\n",
       "    </tr>\n",
       "    <tr>\n",
       "      <th>104</th>\n",
       "      <td>0.0</td>\n",
       "      <td>-0.571467</td>\n",
       "      <td>-0.165048</td>\n",
       "      <td>0.0</td>\n",
       "      <td>0.0</td>\n",
       "      <td>-0.730974</td>\n",
       "      <td>0.0</td>\n",
       "      <td>0.0</td>\n",
       "      <td>-0.172457</td>\n",
       "      <td>0.0</td>\n",
       "      <td>-0.092465</td>\n",
       "      <td>1.0</td>\n",
       "      <td>1.0</td>\n",
       "      <td>0.0</td>\n",
       "      <td>0.192557</td>\n",
       "      <td>0.040012</td>\n",
       "    </tr>\n",
       "    <tr>\n",
       "      <th>236</th>\n",
       "      <td>0.0</td>\n",
       "      <td>0.687757</td>\n",
       "      <td>-0.165048</td>\n",
       "      <td>0.0</td>\n",
       "      <td>0.0</td>\n",
       "      <td>0.146813</td>\n",
       "      <td>0.0</td>\n",
       "      <td>0.0</td>\n",
       "      <td>0.522121</td>\n",
       "      <td>1.0</td>\n",
       "      <td>0.481789</td>\n",
       "      <td>0.0</td>\n",
       "      <td>0.0</td>\n",
       "      <td>0.0</td>\n",
       "      <td>0.192557</td>\n",
       "      <td>0.020966</td>\n",
       "    </tr>\n",
       "    <tr>\n",
       "      <th>1545</th>\n",
       "      <td>0.0</td>\n",
       "      <td>0.581559</td>\n",
       "      <td>0.376523</td>\n",
       "      <td>0.0</td>\n",
       "      <td>0.0</td>\n",
       "      <td>0.505264</td>\n",
       "      <td>0.0</td>\n",
       "      <td>0.0</td>\n",
       "      <td>0.804804</td>\n",
       "      <td>1.0</td>\n",
       "      <td>-0.499022</td>\n",
       "      <td>0.0</td>\n",
       "      <td>0.0</td>\n",
       "      <td>0.0</td>\n",
       "      <td>-1.090116</td>\n",
       "      <td>1.811555</td>\n",
       "    </tr>\n",
       "    <tr>\n",
       "      <th>623</th>\n",
       "      <td>0.0</td>\n",
       "      <td>1.081611</td>\n",
       "      <td>-0.286824</td>\n",
       "      <td>0.0</td>\n",
       "      <td>1.0</td>\n",
       "      <td>-1.672989</td>\n",
       "      <td>0.0</td>\n",
       "      <td>0.0</td>\n",
       "      <td>-0.172457</td>\n",
       "      <td>0.0</td>\n",
       "      <td>1.064745</td>\n",
       "      <td>0.0</td>\n",
       "      <td>1.0</td>\n",
       "      <td>0.0</td>\n",
       "      <td>0.192557</td>\n",
       "      <td>0.040012</td>\n",
       "    </tr>\n",
       "    <tr>\n",
       "      <th>...</th>\n",
       "      <td>...</td>\n",
       "      <td>...</td>\n",
       "      <td>...</td>\n",
       "      <td>...</td>\n",
       "      <td>...</td>\n",
       "      <td>...</td>\n",
       "      <td>...</td>\n",
       "      <td>...</td>\n",
       "      <td>...</td>\n",
       "      <td>...</td>\n",
       "      <td>...</td>\n",
       "      <td>...</td>\n",
       "      <td>...</td>\n",
       "      <td>...</td>\n",
       "      <td>...</td>\n",
       "      <td>...</td>\n",
       "    </tr>\n",
       "    <tr>\n",
       "      <th>715</th>\n",
       "      <td>1.0</td>\n",
       "      <td>-0.260822</td>\n",
       "      <td>-0.165048</td>\n",
       "      <td>0.0</td>\n",
       "      <td>0.0</td>\n",
       "      <td>-0.388423</td>\n",
       "      <td>0.0</td>\n",
       "      <td>0.0</td>\n",
       "      <td>-0.172457</td>\n",
       "      <td>0.0</td>\n",
       "      <td>-0.660211</td>\n",
       "      <td>0.0</td>\n",
       "      <td>1.0</td>\n",
       "      <td>0.0</td>\n",
       "      <td>0.500996</td>\n",
       "      <td>0.040012</td>\n",
       "    </tr>\n",
       "    <tr>\n",
       "      <th>905</th>\n",
       "      <td>0.0</td>\n",
       "      <td>3.860780</td>\n",
       "      <td>1.165575</td>\n",
       "      <td>0.0</td>\n",
       "      <td>1.0</td>\n",
       "      <td>-1.458895</td>\n",
       "      <td>1.0</td>\n",
       "      <td>0.0</td>\n",
       "      <td>0.753647</td>\n",
       "      <td>0.0</td>\n",
       "      <td>-1.017734</td>\n",
       "      <td>0.0</td>\n",
       "      <td>0.0</td>\n",
       "      <td>0.0</td>\n",
       "      <td>-4.125589</td>\n",
       "      <td>-0.282568</td>\n",
       "    </tr>\n",
       "    <tr>\n",
       "      <th>1096</th>\n",
       "      <td>0.0</td>\n",
       "      <td>3.531296</td>\n",
       "      <td>1.165575</td>\n",
       "      <td>0.0</td>\n",
       "      <td>1.0</td>\n",
       "      <td>-1.565942</td>\n",
       "      <td>1.0</td>\n",
       "      <td>0.0</td>\n",
       "      <td>1.515606</td>\n",
       "      <td>0.0</td>\n",
       "      <td>-1.432923</td>\n",
       "      <td>0.0</td>\n",
       "      <td>0.0</td>\n",
       "      <td>0.0</td>\n",
       "      <td>-3.598476</td>\n",
       "      <td>-0.282568</td>\n",
       "    </tr>\n",
       "    <tr>\n",
       "      <th>235</th>\n",
       "      <td>0.0</td>\n",
       "      <td>-0.227538</td>\n",
       "      <td>-0.286824</td>\n",
       "      <td>0.0</td>\n",
       "      <td>0.0</td>\n",
       "      <td>0.146813</td>\n",
       "      <td>0.0</td>\n",
       "      <td>0.0</td>\n",
       "      <td>-0.095282</td>\n",
       "      <td>0.0</td>\n",
       "      <td>-0.914522</td>\n",
       "      <td>1.0</td>\n",
       "      <td>0.0</td>\n",
       "      <td>0.0</td>\n",
       "      <td>-0.115882</td>\n",
       "      <td>0.953249</td>\n",
       "    </tr>\n",
       "    <tr>\n",
       "      <th>1061</th>\n",
       "      <td>0.0</td>\n",
       "      <td>2.885616</td>\n",
       "      <td>3.067145</td>\n",
       "      <td>0.0</td>\n",
       "      <td>1.0</td>\n",
       "      <td>-1.384891</td>\n",
       "      <td>1.0</td>\n",
       "      <td>0.0</td>\n",
       "      <td>1.165952</td>\n",
       "      <td>0.0</td>\n",
       "      <td>-0.483450</td>\n",
       "      <td>0.0</td>\n",
       "      <td>0.0</td>\n",
       "      <td>0.0</td>\n",
       "      <td>-2.826624</td>\n",
       "      <td>0.020974</td>\n",
       "    </tr>\n",
       "  </tbody>\n",
       "</table>\n",
       "<p>1425 rows × 16 columns</p>\n",
       "</div>"
      ],
      "text/plain": [
       "      Килип1   ИндНор1   Creatin  ...  Хр.оч.инф2  Pсрлао(Адср)1        ПИ\n",
       "288      1.0 -0.260822 -0.165048  ...         1.0       0.103881  0.040012\n",
       "104      0.0 -0.571467 -0.165048  ...         0.0       0.192557  0.040012\n",
       "236      0.0  0.687757 -0.165048  ...         0.0       0.192557  0.020966\n",
       "1545     0.0  0.581559  0.376523  ...         0.0      -1.090116  1.811555\n",
       "623      0.0  1.081611 -0.286824  ...         0.0       0.192557  0.040012\n",
       "...      ...       ...       ...  ...         ...            ...       ...\n",
       "715      1.0 -0.260822 -0.165048  ...         0.0       0.500996  0.040012\n",
       "905      0.0  3.860780  1.165575  ...         0.0      -4.125589 -0.282568\n",
       "1096     0.0  3.531296  1.165575  ...         0.0      -3.598476 -0.282568\n",
       "235      0.0 -0.227538 -0.286824  ...         0.0      -0.115882  0.953249\n",
       "1061     0.0  2.885616  3.067145  ...         0.0      -2.826624  0.020974\n",
       "\n",
       "[1425 rows x 16 columns]"
      ]
     },
     "execution_count": 5,
     "metadata": {
      "tags": []
     },
     "output_type": "execute_result"
    }
   ],
   "source": [
    "X_train_oversample"
   ]
  },
  {
   "cell_type": "code",
   "execution_count": 6,
   "metadata": {
    "id": "JUyP7XO3JwVW"
   },
   "outputs": [],
   "source": [
    "X_train_oversample = np.array(X_train_oversample)\n",
    "X_test_oversample = np.array(X_test_oversample)\n",
    "y_train_oversample = np.array(y_train_oversample).reshape(-1)\n",
    "y_test_oversample = np.array(y_test_oversample).reshape(-1)"
   ]
  },
  {
   "cell_type": "code",
   "execution_count": 7,
   "metadata": {
    "colab": {
     "base_uri": "https://localhost:8080/"
    },
    "id": "vHM71aXOLq-z",
    "outputId": "c5b7c8d5-6585-4e12-8e78-ea70f681189f"
   },
   "outputs": [
    {
     "name": "stdout",
     "output_type": "stream",
     "text": [
      "(1425, 16)\n",
      "(357, 16)\n",
      "(1425,)\n",
      "(357,)\n"
     ]
    }
   ],
   "source": [
    "print(X_train_oversample.shape)\n",
    "print(X_test_oversample.shape)\n",
    "print(y_train_oversample.shape)\n",
    "print(y_test_oversample.shape)"
   ]
  },
  {
   "cell_type": "code",
   "execution_count": 8,
   "metadata": {
    "colab": {
     "base_uri": "https://localhost:8080/",
     "height": 103,
     "referenced_widgets": [
      "172a4a0e5220479cbc85287cbcc0e53e",
      "e166c4fbfe8142a5aac5693dae823b1c",
      "48ed6ba748c84a3b8790d587ad031ba7",
      "f326e7c0f45f4d239d2b734a738ca3e2",
      "343e7932d92548dc8cb97b98a5c5b76a",
      "5a5b999fdce344e694ac0100ad4b5a4e",
      "223115e184f24f69997d4abd11843e7e",
      "69d25f75b18a42a1b761818c6efaec6d"
     ]
    },
    "id": "CNdIv5VcJzQB",
    "outputId": "289a9c5d-7e8a-437d-fa12-84f63580837d"
   },
   "outputs": [
    {
     "name": "stderr",
     "output_type": "stream",
     "text": [
      "Downloading: \"https://download.pytorch.org/models/resnet18-5c106cde.pth\" to /root/.cache/torch/hub/checkpoints/resnet18-5c106cde.pth\n"
     ]
    },
    {
     "data": {
      "application/vnd.jupyter.widget-view+json": {
       "model_id": "172a4a0e5220479cbc85287cbcc0e53e",
       "version_major": 2,
       "version_minor": 0
      },
      "text/plain": [
       "HBox(children=(FloatProgress(value=0.0, max=46827520.0), HTML(value='')))"
      ]
     },
     "metadata": {
      "tags": []
     },
     "output_type": "display_data"
    },
    {
     "name": "stdout",
     "output_type": "stream",
     "text": [
      "\n"
     ]
    }
   ],
   "source": [
    "import torch.nn as nn\n",
    "from torchvision import models\n",
    "\n",
    "model_res = models.resnet18(pretrained = True)\n",
    "num_features = model_res.fc.in_features\n",
    "model_res.fc = nn.Linear(num_features, 2)"
   ]
  },
  {
   "cell_type": "code",
   "execution_count": 12,
   "metadata": {
    "id": "yr3oUNl6AiTP"
   },
   "outputs": [],
   "source": [
    "def data_to_image(data):\n",
    "    data_images = []\n",
    "    font = ImageFont.truetype(\"arial.ttf\", size=20)\n",
    "    for dat in data:\n",
    "        background = np.array([[0 for _ in range(255)] for _ in range(255)], dtype='uint8')\n",
    "        image = Image.fromarray(background)\n",
    "        draw = ImageDraw.Draw(image) \n",
    "        draw.text((70, 10), str(int(dat[0])), fill='white', font=font)\n",
    "        draw.text((70, 40), str(round(dat[1], 2)), fill='white', font=font)\n",
    "        draw.text((70, 70), str(round(dat[2], 2)), fill='white', font=font)\n",
    "        draw.text((70, 100), str(int(dat[3])), fill='white', font=font)\n",
    "        draw.text((70, 130), str(int(dat[4])), fill='white', font=font)\n",
    "        draw.text((70, 160), str(round(dat[5], 2)), fill='white', font=font)\n",
    "        draw.text((70, 190), str(int(dat[6])), fill='white', font=font)\n",
    "        draw.text((70, 220), str(int(dat[7])), fill='white', font=font)\n",
    "        draw.text((170, 10), str(round(dat[8], 2)), fill='white', font=font)\n",
    "        draw.text((170, 40), str(int(dat[9])), fill='white', font=font)\n",
    "        draw.text((170, 70), str(round(dat[10], 2)), fill='white', font=font)\n",
    "        draw.text((170, 100), str(int(dat[11])), fill='white', font=font)\n",
    "        draw.text((170, 130), str(int(dat[12])), fill='white', font=font)\n",
    "        draw.text((170, 160), str(int(dat[13])), fill='white', font=font)\n",
    "        draw.text((170, 190), str(round(dat[14], 2)), fill='white', font=font)\n",
    "        draw.text((170, 220), str(round(dat[15], 2)), fill='white', font=font)\n",
    "        rgb = [np.array(image, dtype='uint8') for _ in range(3)]\n",
    "        data_images.append(rgb)\n",
    "    return np.array(data_images) / 255"
   ]
  },
  {
   "cell_type": "code",
   "execution_count": 13,
   "metadata": {
    "colab": {
     "base_uri": "https://localhost:8080/",
     "height": 319
    },
    "id": "cIayjuNEAjwM",
    "outputId": "68ac254b-5df2-4446-84c1-ddfd7cea63b4"
   },
   "outputs": [
    {
     "name": "stdout",
     "output_type": "stream",
     "text": [
      "(1425, 3, 255, 255)\n",
      "(357, 3, 255, 255)\n"
     ]
    },
    {
     "data": {
      "text/plain": [
       "<matplotlib.image.AxesImage at 0x7f5be5b95a50>"
      ]
     },
     "execution_count": 13,
     "metadata": {
      "tags": []
     },
     "output_type": "execute_result"
    },
    {
     "data": {
      "image/png": "[encoded data removed]",
      "text/plain": [
       "<Figure size 432x288 with 1 Axes>"
      ]
     },
     "metadata": {
      "image/png": {
       "height": 251,
       "width": 263
      },
      "needs_background": "light",
      "tags": []
     },
     "output_type": "display_data"
    }
   ],
   "source": [
    "from PIL import Image, ImageDraw, ImageFont\n",
    "\n",
    "train_images_over = data_to_image(X_train_oversample)\n",
    "val_images_over = data_to_image(X_test_oversample)\n",
    "\n",
    "print(train_images_over.shape)\n",
    "print(val_images_over.shape)\n",
    "plt.grid()\n",
    "plt.imshow(train_images_over[9][0, :, :])"
   ]
  },
  {
   "cell_type": "code",
   "execution_count": 14,
   "metadata": {
    "id": "dzFOEUPIAmBe"
   },
   "outputs": [],
   "source": [
    "X_train_over = torch.from_numpy(train_images_over).float()\n",
    "y_train_over = torch.from_numpy(y_train_oversample).long()\n",
    "X_val_over = torch.from_numpy(val_images_over).float()\n",
    "y_val_over = torch.from_numpy(y_test_oversample).long()\n",
    "\n",
    "train_dataset_over = TensorDataset(X_train_over, y_train_over)\n",
    "val_dataset_over = TensorDataset(X_val_over, y_val_over)\n",
    "\n",
    "dataloaders_over = {'train': DataLoader(train_dataset_over, batch_size=16, shuffle=False),\n",
    "              'val': DataLoader(val_dataset_over)}\n",
    "\n",
    "dataset_sizes_over = {'train': len(X_train_over),\n",
    "                'val': len(X_val_over)}"
   ]
  },
  {
   "cell_type": "code",
   "execution_count": 15,
   "metadata": {
    "colab": {
     "base_uri": "https://localhost:8080/"
    },
    "id": "5Se9IMA-NBUy",
    "outputId": "8b5f01be-c28e-40e6-8ec8-5ed0158f9464"
   },
   "outputs": [
    {
     "name": "stdout",
     "output_type": "stream",
     "text": [
      "torch.Size([1425, 3, 255, 255])\n",
      "torch.Size([357, 3, 255, 255])\n",
      "torch.Size([1425])\n",
      "torch.Size([357])\n"
     ]
    }
   ],
   "source": [
    "print(X_train_over.shape)\n",
    "print(X_val_over.shape)\n",
    "print(y_train_over.shape)\n",
    "print(y_val_over.shape)"
   ]
  },
  {
   "cell_type": "code",
   "execution_count": 16,
   "metadata": {
    "id": "NkPzQ0uOAnYi"
   },
   "outputs": [],
   "source": [
    "model_over = model_res.to(device)\n",
    "\n",
    "criterion = nn.CrossEntropyLoss()\n",
    "optimizer = optim.Adam(model_over.parameters())"
   ]
  },
  {
   "cell_type": "code",
   "execution_count": 17,
   "metadata": {
    "colab": {
     "base_uri": "https://localhost:8080/"
    },
    "id": "3CrvBVomAo3b",
    "outputId": "40fcc4ba-b5a2-43b9-9d50-3488d1b394c6"
   },
   "outputs": [
    {
     "name": "stdout",
     "output_type": "stream",
     "text": [
      "EPOCH 1 / 10: \n",
      "----------\n",
      "val Loss: 0.1755 Acc:  0.9272\n",
      "EPOCH 2 / 10: \n",
      "----------\n",
      "val Loss: 0.1113 Acc:  0.9524\n",
      "EPOCH 3 / 10: \n",
      "----------\n",
      "val Loss: 0.1230 Acc:  0.9636\n",
      "EPOCH 4 / 10: \n",
      "----------\n",
      "val Loss: 0.2078 Acc:  0.9272\n",
      "EPOCH 5 / 10: \n",
      "----------\n",
      "val Loss: 0.1181 Acc:  0.9664\n",
      "EPOCH 6 / 10: \n",
      "----------\n",
      "val Loss: 0.0776 Acc:  0.9748\n",
      "EPOCH 7 / 10: \n",
      "----------\n",
      "val Loss: 0.0829 Acc:  0.9720\n",
      "EPOCH 8 / 10: \n",
      "----------\n",
      "val Loss: 0.0974 Acc:  0.9608\n",
      "EPOCH 9 / 10: \n",
      "----------\n",
      "val Loss: 0.1698 Acc:  0.9524\n",
      "EPOCH 10 / 10: \n",
      "----------\n",
      "val Loss: 0.1748 Acc:  0.9580\n",
      "Training COMPLETED: 6m 23s\n",
      "BEST VALIDATION ACCURACY: 0.974790\n"
     ]
    }
   ],
   "source": [
    "best_model_over = train_model(model_over, dataloaders_over, dataset_sizes_over, criterion, optimizer, device, epochs = 10)"
   ]
  },
  {
   "cell_type": "code",
   "execution_count": 18,
   "metadata": {
    "id": "91NzW2TKSBZg"
   },
   "outputs": [],
   "source": [
    "X_val = pd.read_csv('X_val.csv', index_col = 'Unnamed: 0')\n",
    "y_val = pd.read_csv('y_val.csv', index_col = 'Unnamed: 0')"
   ]
  },
  {
   "cell_type": "code",
   "execution_count": 19,
   "metadata": {
    "id": "PCK0DXi5KB4z"
   },
   "outputs": [],
   "source": [
    "y_pred_val_over = []\n",
    "X_val = np.array(X_val)\n",
    "y_val = np.array(y_val).reshape(-1)\n",
    "\n",
    "X_val_img = data_to_image(X_val)\n",
    "\n",
    "X_val = torch.from_numpy(X_val_img).float()\n",
    "y_val = torch.from_numpy(y_val).long()\n",
    "\n",
    "val_dataset = TensorDataset(X_val, y_val)\n",
    "\n",
    "dataloaders = {'val': DataLoader(val_dataset)}\n",
    "\n",
    "dataset_sizes_over = {'val': len(X_val)}\n",
    "\n",
    "for inputs, labels in dataloaders['val']:\n",
    "  inputs = inputs.to(device)\n",
    "  outputs = best_model_over(inputs)          \n",
    "  _, preds = torch.max(outputs, 1)\n",
    "  y_pred_val_over.append(preds)"
   ]
  },
  {
   "cell_type": "code",
   "execution_count": 20,
   "metadata": {
    "id": "FMIRPtLfp1md"
   },
   "outputs": [],
   "source": [
    "preds = list(map(int, np.array(y_pred_val_over)))"
   ]
  },
  {
   "cell_type": "code",
   "execution_count": 21,
   "metadata": {
    "colab": {
     "base_uri": "https://localhost:8080/"
    },
    "id": "GTiQ-4ISqJbq",
    "outputId": "6591a627-2561-42ae-f17e-10bc049e1cd7"
   },
   "outputs": [
    {
     "name": "stdout",
     "output_type": "stream",
     "text": [
      "0.95\n",
      "0.9500000000000001\n"
     ]
    }
   ],
   "source": [
    "from sklearn.metrics import accuracy_score\n",
    "from sklearn.metrics import f1_score\n",
    "print(accuracy_score(preds, y_val))\n",
    "print(f1_score(preds, y_val))"
   ]
  },
  {
   "cell_type": "code",
   "execution_count": 22,
   "metadata": {
    "id": "YKk9gElbDYWS"
   },
   "outputs": [],
   "source": [
    "import pandas as pd\n",
    "X_train_undersample = pd.read_csv('X_train_undersample.csv', index_col = 'Unnamed: 0')\n",
    "X_test_undersample = pd.read_csv('X_test_undersample.csv', index_col = 'Unnamed: 0')\n",
    "y_train_undersample = pd.read_csv('y_train_undersample.csv', index_col = 'Unnamed: 0')\n",
    "y_test_undersample = pd.read_csv('y_test_undersample.csv', index_col = 'Unnamed: 0')"
   ]
  },
  {
   "cell_type": "code",
   "execution_count": 23,
   "metadata": {
    "id": "3Pc5E7ZyY0sP"
   },
   "outputs": [],
   "source": [
    "X_train_undersample = np.array(X_train_undersample)\n",
    "X_test_undersample = np.array(X_test_undersample)\n",
    "y_train_undersample = np.array(y_train_undersample).reshape(-1)\n",
    "y_test_undersample = np.array(y_test_undersample).reshape(-1)"
   ]
  },
  {
   "cell_type": "code",
   "execution_count": 24,
   "metadata": {
    "colab": {
     "base_uri": "https://localhost:8080/"
    },
    "id": "YetpqSULY8wI",
    "outputId": "a254688d-d8c7-415c-9b79-59256dde4f31"
   },
   "outputs": [
    {
     "name": "stdout",
     "output_type": "stream",
     "text": [
      "(174, 16)\n",
      "(44, 16)\n",
      "(174,)\n",
      "(44,)\n"
     ]
    }
   ],
   "source": [
    "print(X_train_undersample.shape)\n",
    "print(X_test_undersample.shape)\n",
    "print(y_train_undersample.shape)\n",
    "print(y_test_undersample.shape)"
   ]
  },
  {
   "cell_type": "code",
   "execution_count": 25,
   "metadata": {
    "colab": {
     "base_uri": "https://localhost:8080/",
     "height": 319
    },
    "id": "3kf26a_CY-be",
    "outputId": "a76b4004-c811-48fe-9054-d74690e052b2"
   },
   "outputs": [
    {
     "name": "stdout",
     "output_type": "stream",
     "text": [
      "(174, 3, 255, 255)\n",
      "(44, 3, 255, 255)\n"
     ]
    },
    {
     "data": {
      "text/plain": [
       "<matplotlib.image.AxesImage at 0x7f5be5b4f2d0>"
      ]
     },
     "execution_count": 25,
     "metadata": {
      "tags": []
     },
     "output_type": "execute_result"
    },
    {
     "data": {
      "image/png": "[encoded data removed]",
      "text/plain": [
       "<Figure size 432x288 with 1 Axes>"
      ]
     },
     "metadata": {
      "image/png": {
       "height": 251,
       "width": 263
      },
      "needs_background": "light",
      "tags": []
     },
     "output_type": "display_data"
    }
   ],
   "source": [
    "from PIL import Image, ImageDraw, ImageFont\n",
    "\n",
    "train_images_under = data_to_image(X_train_undersample)\n",
    "val_images_under = data_to_image(X_test_undersample)\n",
    "\n",
    "print(train_images_under.shape)\n",
    "print(val_images_under.shape)\n",
    "plt.grid()\n",
    "plt.imshow(train_images_under[9][0, :, :])"
   ]
  },
  {
   "cell_type": "code",
   "execution_count": 26,
   "metadata": {
    "id": "IsKITWX3ZMLC"
   },
   "outputs": [],
   "source": [
    "X_train_under = torch.from_numpy(train_images_under).float()\n",
    "y_train_under = torch.from_numpy(y_train_undersample).long()\n",
    "X_val_under = torch.from_numpy(val_images_under).float()\n",
    "y_val_under = torch.from_numpy(y_test_undersample).long()\n",
    "\n",
    "train_dataset_under = TensorDataset(X_train_under, y_train_under)\n",
    "val_dataset_under = TensorDataset(X_val_under, y_val_under)\n",
    "\n",
    "dataloaders_under = {'train': DataLoader(train_dataset_under, batch_size=16, shuffle=False),\n",
    "              'val': DataLoader(val_dataset_under)}\n",
    "\n",
    "dataset_sizes_under = {'train': len(X_train_under),\n",
    "                'val': len(X_val_under)}"
   ]
  },
  {
   "cell_type": "code",
   "execution_count": 27,
   "metadata": {
    "colab": {
     "base_uri": "https://localhost:8080/"
    },
    "id": "vmaUuwIRZqF1",
    "outputId": "9094bcd7-1bdd-43df-ef99-c4f4dda62da5"
   },
   "outputs": [
    {
     "name": "stdout",
     "output_type": "stream",
     "text": [
      "torch.Size([174, 3, 255, 255])\n",
      "torch.Size([44, 3, 255, 255])\n",
      "torch.Size([174])\n",
      "torch.Size([44])\n"
     ]
    }
   ],
   "source": [
    "print(X_train_under.shape)\n",
    "print(X_val_under.shape)\n",
    "print(y_train_under.shape)\n",
    "print(y_val_under.shape)"
   ]
  },
  {
   "cell_type": "code",
   "execution_count": 28,
   "metadata": {
    "id": "mToHWCTQZvnu"
   },
   "outputs": [],
   "source": [
    "model_under = model_res.to(device)\n",
    "\n",
    "criterion = nn.CrossEntropyLoss()\n",
    "optimizer = optim.Adam(model_under.parameters())"
   ]
  },
  {
   "cell_type": "code",
   "execution_count": 29,
   "metadata": {
    "colab": {
     "base_uri": "https://localhost:8080/"
    },
    "id": "DNAdQVwRZ10K",
    "outputId": "aca7d589-16b9-445c-831c-2efa85b22768"
   },
   "outputs": [
    {
     "name": "stdout",
     "output_type": "stream",
     "text": [
      "EPOCH 1 / 10: \n",
      "----------\n",
      "val Loss: 3.2859 Acc:  0.6591\n",
      "EPOCH 2 / 10: \n",
      "----------\n",
      "val Loss: 0.2434 Acc:  0.9318\n",
      "EPOCH 3 / 10: \n",
      "----------\n",
      "val Loss: 0.3223 Acc:  0.8636\n",
      "EPOCH 4 / 10: \n",
      "----------\n",
      "val Loss: 0.2887 Acc:  0.8864\n",
      "EPOCH 5 / 10: \n",
      "----------\n",
      "val Loss: 0.2544 Acc:  0.9318\n",
      "EPOCH 6 / 10: \n",
      "----------\n",
      "val Loss: 0.2589 Acc:  0.9318\n",
      "EPOCH 7 / 10: \n",
      "----------\n",
      "val Loss: 0.2903 Acc:  0.9091\n",
      "EPOCH 8 / 10: \n",
      "----------\n",
      "val Loss: 0.3162 Acc:  0.9091\n",
      "EPOCH 9 / 10: \n",
      "----------\n",
      "val Loss: 0.3341 Acc:  0.9091\n",
      "EPOCH 10 / 10: \n",
      "----------\n",
      "val Loss: 0.3478 Acc:  0.9091\n",
      "Training COMPLETED: 0m 47s\n",
      "BEST VALIDATION ACCURACY: 0.931818\n"
     ]
    }
   ],
   "source": [
    "best_model_under = train_model(model_under, dataloaders_under, dataset_sizes_under, criterion, optimizer, device, epochs = 10)"
   ]
  },
  {
   "cell_type": "code",
   "execution_count": 30,
   "metadata": {
    "id": "jr1AFpqhZ7zo"
   },
   "outputs": [],
   "source": [
    "X_val = pd.read_csv('X_val.csv', index_col = 'Unnamed: 0')\n",
    "y_val = pd.read_csv('y_val.csv', index_col = 'Unnamed: 0')"
   ]
  },
  {
   "cell_type": "code",
   "execution_count": 31,
   "metadata": {
    "id": "CGWDMwG2aieH"
   },
   "outputs": [],
   "source": [
    "y_pred_val_under = []\n",
    "X_val = np.array(X_val)\n",
    "y_val = np.array(y_val).reshape(-1)\n",
    "\n",
    "X_val_img = data_to_image(X_val)\n",
    "\n",
    "X_val = torch.from_numpy(X_val_img).float()\n",
    "y_val = torch.from_numpy(y_val).long()\n",
    "\n",
    "val_dataset = TensorDataset(X_val, y_val)\n",
    "\n",
    "dataloaders = {'val': DataLoader(val_dataset)}\n",
    "\n",
    "dataset_sizes_under = {'val': len(X_val)}\n",
    "\n",
    "for inputs, labels in dataloaders['val']:\n",
    "  inputs = inputs.to(device)\n",
    "  outputs = best_model_under(inputs)          \n",
    "  _, preds = torch.max(outputs, 1)\n",
    "  y_pred_val_under.append(preds)"
   ]
  },
  {
   "cell_type": "code",
   "execution_count": 32,
   "metadata": {
    "id": "L4zGhoBsar6T"
   },
   "outputs": [],
   "source": [
    "preds = list(map(int, np.array(y_pred_val_under)))"
   ]
  },
  {
   "cell_type": "code",
   "execution_count": 33,
   "metadata": {
    "colab": {
     "base_uri": "https://localhost:8080/"
    },
    "id": "usx4qYFfavrw",
    "outputId": "e84e20aa-e737-4f13-addc-f5fab862e181"
   },
   "outputs": [
    {
     "name": "stdout",
     "output_type": "stream",
     "text": [
      "0.9\n",
      "0.9\n"
     ]
    }
   ],
   "source": [
    "print(accuracy_score(preds, y_val))\n",
    "print(f1_score(preds, y_val))"
   ]
  },
  {
   "cell_type": "code",
   "execution_count": 47,
   "metadata": {
    "id": "sC0T6FTsa0RL"
   },
   "outputs": [],
   "source": [
    "X_train_nothing_changed = pd.read_csv('X_train_nothing.csv', index_col = 'Unnamed: 0')\n",
    "X_test_nothing_changed = pd.read_csv('X_test_nothing.csv', index_col = 'Unnamed: 0')\n",
    "y_train_nothing_changed = pd.read_csv('y_train_nothing.csv', index_col = 'Unnamed: 0')\n",
    "y_test_nothing_changed = pd.read_csv('y_test_nothing.csv', index_col = 'Unnamed: 0')"
   ]
  },
  {
   "cell_type": "code",
   "execution_count": 48,
   "metadata": {
    "id": "C-XPB7HwbK2k"
   },
   "outputs": [],
   "source": [
    "X_train_nothing_changed = np.array(X_train_nothing_changed)\n",
    "X_test_nothing_changed = np.array(X_test_nothing_changed)\n",
    "y_train_nothing_changed = np.array(y_train_nothing_changed).reshape(-1)\n",
    "y_test_nothing_changed = np.array(y_test_nothing_changed).reshape(-1)"
   ]
  },
  {
   "cell_type": "code",
   "execution_count": 49,
   "metadata": {
    "colab": {
     "base_uri": "https://localhost:8080/",
     "height": 319
    },
    "id": "rlLPJnyUbTcA",
    "outputId": "e525bd9e-eb3b-4f5e-e095-e1766c4d5f5d"
   },
   "outputs": [
    {
     "name": "stdout",
     "output_type": "stream",
     "text": [
      "(800, 3, 255, 255)\n",
      "(200, 3, 255, 255)\n"
     ]
    },
    {
     "data": {
      "text/plain": [
       "<matplotlib.image.AxesImage at 0x7f5be51fc110>"
      ]
     },
     "execution_count": 49,
     "metadata": {
      "tags": []
     },
     "output_type": "execute_result"
    },
    {
     "data": {
      "image/png": "[encoded data removed]",
      "text/plain": [
       "<Figure size 432x288 with 1 Axes>"
      ]
     },
     "metadata": {
      "image/png": {
       "height": 251,
       "width": 263
      },
      "needs_background": "light",
      "tags": []
     },
     "output_type": "display_data"
    }
   ],
   "source": [
    "from PIL import Image, ImageDraw, ImageFont\n",
    "\n",
    "train_images_nothing = data_to_image(X_train_nothing_changed)\n",
    "val_images_nothing = data_to_image(X_test_nothing_changed)\n",
    "\n",
    "print(train_images_nothing.shape)\n",
    "print(val_images_nothing.shape)\n",
    "plt.grid()\n",
    "plt.imshow(train_images_nothing[9][0, :, :])"
   ]
  },
  {
   "cell_type": "code",
   "execution_count": 50,
   "metadata": {
    "id": "KJLRF9LsbfxX"
   },
   "outputs": [],
   "source": [
    "X_train_nothing = torch.from_numpy(train_images_nothing).float()\n",
    "y_train_nothing = torch.from_numpy(y_train_nothing_changed).long()\n",
    "X_val_nothing = torch.from_numpy(val_images_nothing).float()\n",
    "y_val_nothing = torch.from_numpy(y_test_nothing_changed).long()\n",
    "\n",
    "train_dataset_nothing = TensorDataset(X_train_nothing, y_train_nothing)\n",
    "val_dataset_nothing = TensorDataset(X_val_nothing, y_val_nothing)\n",
    "\n",
    "dataloaders_nothing = {'train': DataLoader(train_dataset_nothing, batch_size=16, shuffle=False),\n",
    "              'val': DataLoader(val_dataset_nothing)}\n",
    "\n",
    "dataset_sizes_nothing = {'train': len(X_train_nothing),\n",
    "                'val': len(X_val_nothing)}"
   ]
  },
  {
   "cell_type": "code",
   "execution_count": 51,
   "metadata": {
    "colab": {
     "base_uri": "https://localhost:8080/"
    },
    "id": "JaFU93oFb5GJ",
    "outputId": "a6a7390f-2a1b-4f65-8ca0-1897edd481c1"
   },
   "outputs": [
    {
     "name": "stdout",
     "output_type": "stream",
     "text": [
      "torch.Size([800, 3, 255, 255])\n",
      "torch.Size([200, 3, 255, 255])\n",
      "torch.Size([800])\n",
      "torch.Size([200])\n"
     ]
    }
   ],
   "source": [
    "print(X_train_nothing.shape)\n",
    "print(X_val_nothing.shape)\n",
    "print(y_train_nothing.shape)\n",
    "print(y_val_nothing.shape)"
   ]
  },
  {
   "cell_type": "code",
   "execution_count": 52,
   "metadata": {
    "id": "N6Jb-P8mcBDs"
   },
   "outputs": [],
   "source": [
    "model_nothing = model_res.to(device)\n",
    "\n",
    "criterion = nn.CrossEntropyLoss()\n",
    "optimizer = optim.Adam(model_nothing.parameters())"
   ]
  },
  {
   "cell_type": "code",
   "execution_count": 53,
   "metadata": {
    "colab": {
     "base_uri": "https://localhost:8080/"
    },
    "id": "jk6K9Zd7cGyc",
    "outputId": "8276dc78-892d-49f7-f8b0-976eb6b5341c"
   },
   "outputs": [
    {
     "name": "stdout",
     "output_type": "stream",
     "text": [
      "EPOCH 1 / 10: \n",
      "----------\n",
      "val Loss: 0.7932 Acc:  0.8050\n",
      "EPOCH 2 / 10: \n",
      "----------\n",
      "val Loss: 0.1243 Acc:  0.9650\n",
      "EPOCH 3 / 10: \n",
      "----------\n",
      "val Loss: 0.1920 Acc:  0.9350\n",
      "EPOCH 4 / 10: \n",
      "----------\n",
      "val Loss: 0.1406 Acc:  0.9500\n",
      "EPOCH 5 / 10: \n",
      "----------\n",
      "val Loss: 0.1496 Acc:  0.9700\n",
      "EPOCH 6 / 10: \n",
      "----------\n",
      "val Loss: 0.2007 Acc:  0.9400\n",
      "EPOCH 7 / 10: \n",
      "----------\n",
      "val Loss: 0.2424 Acc:  0.9600\n",
      "EPOCH 8 / 10: \n",
      "----------\n",
      "val Loss: 0.1679 Acc:  0.9600\n",
      "EPOCH 9 / 10: \n",
      "----------\n",
      "val Loss: 0.2047 Acc:  0.9550\n",
      "EPOCH 10 / 10: \n",
      "----------\n",
      "val Loss: 0.4658 Acc:  0.9100\n",
      "Training COMPLETED: 3m 34s\n",
      "BEST VALIDATION ACCURACY: 0.970000\n"
     ]
    }
   ],
   "source": [
    "best_model_nothing = train_model(model_nothing, dataloaders_nothing, dataset_sizes_nothing, criterion, optimizer, device, epochs = 10)"
   ]
  },
  {
   "cell_type": "code",
   "execution_count": 54,
   "metadata": {
    "id": "FnunjG4scMdU"
   },
   "outputs": [],
   "source": [
    "X_val = pd.read_csv('X_val.csv', index_col = 'Unnamed: 0')\n",
    "y_val = pd.read_csv('y_val.csv', index_col = 'Unnamed: 0')"
   ]
  },
  {
   "cell_type": "code",
   "execution_count": 55,
   "metadata": {
    "id": "9c9ec2Bnc7Tg"
   },
   "outputs": [],
   "source": [
    "y_pred_val_nothing = []\n",
    "X_val = np.array(X_val)\n",
    "y_val = np.array(y_val).reshape(-1)\n",
    "\n",
    "X_val_img = data_to_image(X_val)\n",
    "\n",
    "X_val = torch.from_numpy(X_val_img).float()\n",
    "y_val = torch.from_numpy(y_val).long()\n",
    "\n",
    "val_dataset = TensorDataset(X_val, y_val)\n",
    "\n",
    "dataloaders = {'val': DataLoader(val_dataset)}\n",
    "\n",
    "dataset_sizes_nothing = {'val': len(X_val)}\n",
    "\n",
    "for inputs, labels in dataloaders['val']:\n",
    "  inputs = inputs.to(device)\n",
    "  outputs = best_model_nothing(inputs)          \n",
    "  _, preds = torch.max(outputs, 1)\n",
    "  y_pred_val_nothing.append(preds)"
   ]
  },
  {
   "cell_type": "code",
   "execution_count": 56,
   "metadata": {
    "id": "sDsNIb-SdEfz"
   },
   "outputs": [],
   "source": [
    "preds = list(map(int, np.array(y_pred_val_nothing)))"
   ]
  },
  {
   "cell_type": "code",
   "execution_count": 57,
   "metadata": {
    "colab": {
     "base_uri": "https://localhost:8080/"
    },
    "id": "w5C3aqcidPHr",
    "outputId": "b048cacf-7680-4a3d-fac3-bd911f83b388"
   },
   "outputs": [
    {
     "name": "stdout",
     "output_type": "stream",
     "text": [
      "0.925\n",
      "0.9230769230769231\n"
     ]
    }
   ],
   "source": [
    "print(accuracy_score(preds, y_val))\n",
    "print(f1_score(preds, y_val))"
   ]
  },
  {
   "cell_type": "code",
   "execution_count": null,
   "metadata": {
    "id": "5cIGkki9dRcZ"
   },
   "outputs": [],
   "source": []
  }
 ],
 "metadata": {
  "accelerator": "GPU",
  "colab": {
   "collapsed_sections": [],
   "name": "Untitled16.ipynb",
   "provenance": []
  },
  "kernelspec": {
   "display_name": "Python 3",
   "language": "python",
   "name": "python3"
  },
  "language_info": {
   "codemirror_mode": {
    "name": "ipython",
    "version": 3
   },
   "file_extension": ".py",
   "mimetype": "text/x-python",
   "name": "python",
   "nbconvert_exporter": "python",
   "pygments_lexer": "ipython3",
   "version": "3.8.5"
  },
  "widgets": {
   "application/vnd.jupyter.widget-state+json": {
    "172a4a0e5220479cbc85287cbcc0e53e": {
     "model_module": "@jupyter-widgets/controls",
     "model_name": "HBoxModel",
     "state": {
      "_dom_classes": [],
      "_model_module": "@jupyter-widgets/controls",
      "_model_module_version": "1.5.0",
      "_model_name": "HBoxModel",
      "_view_count": null,
      "_view_module": "@jupyter-widgets/controls",
      "_view_module_version": "1.5.0",
      "_view_name": "HBoxView",
      "box_style": "",
      "children": [
       "IPY_MODEL_48ed6ba748c84a3b8790d587ad031ba7",
       "IPY_MODEL_f326e7c0f45f4d239d2b734a738ca3e2"
      ],
      "layout": "IPY_MODEL_e166c4fbfe8142a5aac5693dae823b1c"
     }
    },
    "223115e184f24f69997d4abd11843e7e": {
     "model_module": "@jupyter-widgets/controls",
     "model_name": "DescriptionStyleModel",
     "state": {
      "_model_module": "@jupyter-widgets/controls",
      "_model_module_version": "1.5.0",
      "_model_name": "DescriptionStyleModel",
      "_view_count": null,
      "_view_module": "@jupyter-widgets/base",
      "_view_module_version": "1.2.0",
      "_view_name": "StyleView",
      "description_width": ""
     }
    },
    "343e7932d92548dc8cb97b98a5c5b76a": {
     "model_module": "@jupyter-widgets/controls",
     "model_name": "ProgressStyleModel",
     "state": {
      "_model_module": "@jupyter-widgets/controls",
      "_model_module_version": "1.5.0",
      "_model_name": "ProgressStyleModel",
      "_view_count": null,
      "_view_module": "@jupyter-widgets/base",
      "_view_module_version": "1.2.0",
      "_view_name": "StyleView",
      "bar_color": null,
      "description_width": "initial"
     }
    },
    "48ed6ba748c84a3b8790d587ad031ba7": {
     "model_module": "@jupyter-widgets/controls",
     "model_name": "FloatProgressModel",
     "state": {
      "_dom_classes": [],
      "_model_module": "@jupyter-widgets/controls",
      "_model_module_version": "1.5.0",
      "_model_name": "FloatProgressModel",
      "_view_count": null,
      "_view_module": "@jupyter-widgets/controls",
      "_view_module_version": "1.5.0",
      "_view_name": "ProgressView",
      "bar_style": "success",
      "description": "100%",
      "description_tooltip": null,
      "layout": "IPY_MODEL_5a5b999fdce344e694ac0100ad4b5a4e",
      "max": 46827520,
      "min": 0,
      "orientation": "horizontal",
      "style": "IPY_MODEL_343e7932d92548dc8cb97b98a5c5b76a",
      "value": 46827520
     }
    },
    "5a5b999fdce344e694ac0100ad4b5a4e": {
     "model_module": "@jupyter-widgets/base",
     "model_name": "LayoutModel",
     "state": {
      "_model_module": "@jupyter-widgets/base",
      "_model_module_version": "1.2.0",
      "_model_name": "LayoutModel",
      "_view_count": null,
      "_view_module": "@jupyter-widgets/base",
      "_view_module_version": "1.2.0",
      "_view_name": "LayoutView",
      "align_content": null,
      "align_items": null,
      "align_self": null,
      "border": null,
      "bottom": null,
      "display": null,
      "flex": null,
      "flex_flow": null,
      "grid_area": null,
      "grid_auto_columns": null,
      "grid_auto_flow": null,
      "grid_auto_rows": null,
      "grid_column": null,
      "grid_gap": null,
      "grid_row": null,
      "grid_template_areas": null,
      "grid_template_columns": null,
      "grid_template_rows": null,
      "height": null,
      "justify_content": null,
      "justify_items": null,
      "left": null,
      "margin": null,
      "max_height": null,
      "max_width": null,
      "min_height": null,
      "min_width": null,
      "object_fit": null,
      "object_position": null,
      "order": null,
      "overflow": null,
      "overflow_x": null,
      "overflow_y": null,
      "padding": null,
      "right": null,
      "top": null,
      "visibility": null,
      "width": null
     }
    },
    "69d25f75b18a42a1b761818c6efaec6d": {
     "model_module": "@jupyter-widgets/base",
     "model_name": "LayoutModel",
     "state": {
      "_model_module": "@jupyter-widgets/base",
      "_model_module_version": "1.2.0",
      "_model_name": "LayoutModel",
      "_view_count": null,
      "_view_module": "@jupyter-widgets/base",
      "_view_module_version": "1.2.0",
      "_view_name": "LayoutView",
      "align_content": null,
      "align_items": null,
      "align_self": null,
      "border": null,
      "bottom": null,
      "display": null,
      "flex": null,
      "flex_flow": null,
      "grid_area": null,
      "grid_auto_columns": null,
      "grid_auto_flow": null,
      "grid_auto_rows": null,
      "grid_column": null,
      "grid_gap": null,
      "grid_row": null,
      "grid_template_areas": null,
      "grid_template_columns": null,
      "grid_template_rows": null,
      "height": null,
      "justify_content": null,
      "justify_items": null,
      "left": null,
      "margin": null,
      "max_height": null,
      "max_width": null,
      "min_height": null,
      "min_width": null,
      "object_fit": null,
      "object_position": null,
      "order": null,
      "overflow": null,
      "overflow_x": null,
      "overflow_y": null,
      "padding": null,
      "right": null,
      "top": null,
      "visibility": null,
      "width": null
     }
    },
    "e166c4fbfe8142a5aac5693dae823b1c": {
     "model_module": "@jupyter-widgets/base",
     "model_name": "LayoutModel",
     "state": {
      "_model_module": "@jupyter-widgets/base",
      "_model_module_version": "1.2.0",
      "_model_name": "LayoutModel",
      "_view_count": null,
      "_view_module": "@jupyter-widgets/base",
      "_view_module_version": "1.2.0",
      "_view_name": "LayoutView",
      "align_content": null,
      "align_items": null,
      "align_self": null,
      "border": null,
      "bottom": null,
      "display": null,
      "flex": null,
      "flex_flow": null,
      "grid_area": null,
      "grid_auto_columns": null,
      "grid_auto_flow": null,
      "grid_auto_rows": null,
      "grid_column": null,
      "grid_gap": null,
      "grid_row": null,
      "grid_template_areas": null,
      "grid_template_columns": null,
      "grid_template_rows": null,
      "height": null,
      "justify_content": null,
      "justify_items": null,
      "left": null,
      "margin": null,
      "max_height": null,
      "max_width": null,
      "min_height": null,
      "min_width": null,
      "object_fit": null,
      "object_position": null,
      "order": null,
      "overflow": null,
      "overflow_x": null,
      "overflow_y": null,
      "padding": null,
      "right": null,
      "top": null,
      "visibility": null,
      "width": null
     }
    },
    "f326e7c0f45f4d239d2b734a738ca3e2": {
     "model_module": "@jupyter-widgets/controls",
     "model_name": "HTMLModel",
     "state": {
      "_dom_classes": [],
      "_model_module": "@jupyter-widgets/controls",
      "_model_module_version": "1.5.0",
      "_model_name": "HTMLModel",
      "_view_count": null,
      "_view_module": "@jupyter-widgets/controls",
      "_view_module_version": "1.5.0",
      "_view_name": "HTMLView",
      "description": "",
      "description_tooltip": null,
      "layout": "IPY_MODEL_69d25f75b18a42a1b761818c6efaec6d",
      "placeholder": "​",
      "style": "IPY_MODEL_223115e184f24f69997d4abd11843e7e",
      "value": " 44.7M/44.7M [03:40&lt;00:00, 212kB/s]"
     }
    }
   }
  }
 },
 "nbformat": 4,
 "nbformat_minor": 1
}
