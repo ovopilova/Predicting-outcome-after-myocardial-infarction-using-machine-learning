{
 "cells": [
  {
   "cell_type": "code",
   "execution_count": 4,
   "metadata": {},
   "outputs": [
    {
     "name": "stdout",
     "output_type": "stream",
     "text": [
      "The autoreload extension is already loaded. To reload it, use:\n",
      "  %reload_ext autoreload\n"
     ]
    }
   ],
   "source": [
    "import os\n",
    "from sklearn.datasets import fetch_covtype\n",
    "import random\n",
    "import numpy as np\n",
    "import pandas as pd\n",
    "import lightgbm as lgb\n",
    "from sklearn.metrics import accuracy_score, f1_score\n",
    "%load_ext autoreload\n",
    "%autoreload 2"
   ]
  },
  {
   "cell_type": "code",
   "execution_count": 5,
   "metadata": {},
   "outputs": [
    {
     "name": "stdout",
     "output_type": "stream",
     "text": [
      "The autoreload extension is already loaded. To reload it, use:\n",
      "  %reload_ext autoreload\n"
     ]
    }
   ],
   "source": [
    "from sklearn.datasets import make_classification\n",
    "from sklearn.model_selection import train_test_split\n",
    "import random\n",
    "import numpy as np\n",
    "import pandas as pd\n",
    "import lightgbm as lgb\n",
    "from sklearn.metrics import accuracy_score, f1_score\n",
    "import os\n",
    "%load_ext autoreload\n",
    "%autoreload 2"
   ]
  },
  {
   "cell_type": "code",
   "execution_count": 6,
   "metadata": {},
   "outputs": [],
   "source": [
    "def print_metrics(y_true, y_pred, tag):\n",
    "    if isinstance(y_true, pd.DataFrame) or isinstance(y_true, pd.Series):\n",
    "        y_true = y_true.values\n",
    "    if isinstance(y_pred, pd.DataFrame) or isinstance(y_pred, pd.Series):\n",
    "        y_pred = y_pred.values\n",
    "    if y_true.ndim>1:\n",
    "        y_true=y_true.ravel()\n",
    "    if y_pred.ndim>1:\n",
    "        y_pred=y_pred.ravel()\n",
    "    val_acc = accuracy_score(y_true, y_pred)\n",
    "    val_f1 = f1_score(y_true, y_pred)\n",
    "    print(f\"{tag} Acc: {val_acc} | {tag} F1: {val_f1}\")"
   ]
  },
  {
   "cell_type": "code",
   "execution_count": 7,
   "metadata": {},
   "outputs": [],
   "source": [
    "X_train = pd.read_csv('X_train_oversample.csv', index_col = ['Unnamed: 0'])\n",
    "y_train = pd.read_csv('y_train_oversample.csv', index_col = ['Unnamed: 0'])\n",
    "X_test = pd.read_csv('X_test_oversample.csv', index_col = ['Unnamed: 0'])\n",
    "y_test = pd.read_csv('y_test_oversample.csv', index_col = ['Unnamed: 0'])"
   ]
  },
  {
   "cell_type": "code",
   "execution_count": 8,
   "metadata": {},
   "outputs": [],
   "source": [
    "X_train['target'] = y_train\n",
    "X_test['target'] = y_test"
   ]
  },
  {
   "cell_type": "code",
   "execution_count": 9,
   "metadata": {},
   "outputs": [
    {
     "data": {
      "text/html": [
       "<div>\n",
       "<style scoped>\n",
       "    .dataframe tbody tr th:only-of-type {\n",
       "        vertical-align: middle;\n",
       "    }\n",
       "\n",
       "    .dataframe tbody tr th {\n",
       "        vertical-align: top;\n",
       "    }\n",
       "\n",
       "    .dataframe thead th {\n",
       "        text-align: right;\n",
       "    }\n",
       "</style>\n",
       "<table border=\"1\" class=\"dataframe\">\n",
       "  <thead>\n",
       "    <tr style=\"text-align: right;\">\n",
       "      <th></th>\n",
       "      <th>Килип1</th>\n",
       "      <th>ИндНор1</th>\n",
       "      <th>Creatin</th>\n",
       "      <th>Тромболит3</th>\n",
       "      <th>Килип4</th>\n",
       "      <th>ФУ1</th>\n",
       "      <th>ГБ6</th>\n",
       "      <th>АКШ</th>\n",
       "      <th>Возраст</th>\n",
       "      <th>Килип3</th>\n",
       "      <th>Рла1</th>\n",
       "      <th>Килип2</th>\n",
       "      <th>Кл.вар.ИМ1</th>\n",
       "      <th>Хр.оч.инф2</th>\n",
       "      <th>Pсрлао(Адср)1</th>\n",
       "      <th>ПИ</th>\n",
       "      <th>target</th>\n",
       "    </tr>\n",
       "  </thead>\n",
       "  <tbody>\n",
       "    <tr>\n",
       "      <th>288</th>\n",
       "      <td>1.0</td>\n",
       "      <td>-0.260822</td>\n",
       "      <td>-0.165048</td>\n",
       "      <td>0.0</td>\n",
       "      <td>0.0</td>\n",
       "      <td>0.117626</td>\n",
       "      <td>0.0</td>\n",
       "      <td>0.0</td>\n",
       "      <td>-0.789860</td>\n",
       "      <td>0.0</td>\n",
       "      <td>-0.088020</td>\n",
       "      <td>0.0</td>\n",
       "      <td>1.0</td>\n",
       "      <td>1.0</td>\n",
       "      <td>0.103881</td>\n",
       "      <td>0.040012</td>\n",
       "      <td>0</td>\n",
       "    </tr>\n",
       "    <tr>\n",
       "      <th>104</th>\n",
       "      <td>0.0</td>\n",
       "      <td>-0.571467</td>\n",
       "      <td>-0.165048</td>\n",
       "      <td>0.0</td>\n",
       "      <td>0.0</td>\n",
       "      <td>-0.730974</td>\n",
       "      <td>0.0</td>\n",
       "      <td>0.0</td>\n",
       "      <td>-0.172457</td>\n",
       "      <td>0.0</td>\n",
       "      <td>-0.092465</td>\n",
       "      <td>1.0</td>\n",
       "      <td>1.0</td>\n",
       "      <td>0.0</td>\n",
       "      <td>0.192557</td>\n",
       "      <td>0.040012</td>\n",
       "      <td>0</td>\n",
       "    </tr>\n",
       "    <tr>\n",
       "      <th>236</th>\n",
       "      <td>0.0</td>\n",
       "      <td>0.687757</td>\n",
       "      <td>-0.165048</td>\n",
       "      <td>0.0</td>\n",
       "      <td>0.0</td>\n",
       "      <td>0.146813</td>\n",
       "      <td>0.0</td>\n",
       "      <td>0.0</td>\n",
       "      <td>0.522121</td>\n",
       "      <td>1.0</td>\n",
       "      <td>0.481789</td>\n",
       "      <td>0.0</td>\n",
       "      <td>0.0</td>\n",
       "      <td>0.0</td>\n",
       "      <td>0.192557</td>\n",
       "      <td>0.020966</td>\n",
       "      <td>0</td>\n",
       "    </tr>\n",
       "    <tr>\n",
       "      <th>1545</th>\n",
       "      <td>0.0</td>\n",
       "      <td>0.581559</td>\n",
       "      <td>0.376523</td>\n",
       "      <td>0.0</td>\n",
       "      <td>0.0</td>\n",
       "      <td>0.505264</td>\n",
       "      <td>0.0</td>\n",
       "      <td>0.0</td>\n",
       "      <td>0.804804</td>\n",
       "      <td>1.0</td>\n",
       "      <td>-0.499022</td>\n",
       "      <td>0.0</td>\n",
       "      <td>0.0</td>\n",
       "      <td>0.0</td>\n",
       "      <td>-1.090116</td>\n",
       "      <td>1.811555</td>\n",
       "      <td>1</td>\n",
       "    </tr>\n",
       "    <tr>\n",
       "      <th>623</th>\n",
       "      <td>0.0</td>\n",
       "      <td>1.081611</td>\n",
       "      <td>-0.286824</td>\n",
       "      <td>0.0</td>\n",
       "      <td>1.0</td>\n",
       "      <td>-1.672989</td>\n",
       "      <td>0.0</td>\n",
       "      <td>0.0</td>\n",
       "      <td>-0.172457</td>\n",
       "      <td>0.0</td>\n",
       "      <td>1.064745</td>\n",
       "      <td>0.0</td>\n",
       "      <td>1.0</td>\n",
       "      <td>0.0</td>\n",
       "      <td>0.192557</td>\n",
       "      <td>0.040012</td>\n",
       "      <td>0</td>\n",
       "    </tr>\n",
       "    <tr>\n",
       "      <th>...</th>\n",
       "      <td>...</td>\n",
       "      <td>...</td>\n",
       "      <td>...</td>\n",
       "      <td>...</td>\n",
       "      <td>...</td>\n",
       "      <td>...</td>\n",
       "      <td>...</td>\n",
       "      <td>...</td>\n",
       "      <td>...</td>\n",
       "      <td>...</td>\n",
       "      <td>...</td>\n",
       "      <td>...</td>\n",
       "      <td>...</td>\n",
       "      <td>...</td>\n",
       "      <td>...</td>\n",
       "      <td>...</td>\n",
       "      <td>...</td>\n",
       "    </tr>\n",
       "    <tr>\n",
       "      <th>715</th>\n",
       "      <td>1.0</td>\n",
       "      <td>-0.260822</td>\n",
       "      <td>-0.165048</td>\n",
       "      <td>0.0</td>\n",
       "      <td>0.0</td>\n",
       "      <td>-0.388423</td>\n",
       "      <td>0.0</td>\n",
       "      <td>0.0</td>\n",
       "      <td>-0.172457</td>\n",
       "      <td>0.0</td>\n",
       "      <td>-0.660211</td>\n",
       "      <td>0.0</td>\n",
       "      <td>1.0</td>\n",
       "      <td>0.0</td>\n",
       "      <td>0.500996</td>\n",
       "      <td>0.040012</td>\n",
       "      <td>0</td>\n",
       "    </tr>\n",
       "    <tr>\n",
       "      <th>905</th>\n",
       "      <td>0.0</td>\n",
       "      <td>3.860780</td>\n",
       "      <td>1.165575</td>\n",
       "      <td>0.0</td>\n",
       "      <td>1.0</td>\n",
       "      <td>-1.458895</td>\n",
       "      <td>1.0</td>\n",
       "      <td>0.0</td>\n",
       "      <td>0.753647</td>\n",
       "      <td>0.0</td>\n",
       "      <td>-1.017734</td>\n",
       "      <td>0.0</td>\n",
       "      <td>0.0</td>\n",
       "      <td>0.0</td>\n",
       "      <td>-4.125589</td>\n",
       "      <td>-0.282568</td>\n",
       "      <td>1</td>\n",
       "    </tr>\n",
       "    <tr>\n",
       "      <th>1096</th>\n",
       "      <td>0.0</td>\n",
       "      <td>3.531296</td>\n",
       "      <td>1.165575</td>\n",
       "      <td>0.0</td>\n",
       "      <td>1.0</td>\n",
       "      <td>-1.565942</td>\n",
       "      <td>1.0</td>\n",
       "      <td>0.0</td>\n",
       "      <td>1.515606</td>\n",
       "      <td>0.0</td>\n",
       "      <td>-1.432923</td>\n",
       "      <td>0.0</td>\n",
       "      <td>0.0</td>\n",
       "      <td>0.0</td>\n",
       "      <td>-3.598476</td>\n",
       "      <td>-0.282568</td>\n",
       "      <td>1</td>\n",
       "    </tr>\n",
       "    <tr>\n",
       "      <th>235</th>\n",
       "      <td>0.0</td>\n",
       "      <td>-0.227538</td>\n",
       "      <td>-0.286824</td>\n",
       "      <td>0.0</td>\n",
       "      <td>0.0</td>\n",
       "      <td>0.146813</td>\n",
       "      <td>0.0</td>\n",
       "      <td>0.0</td>\n",
       "      <td>-0.095282</td>\n",
       "      <td>0.0</td>\n",
       "      <td>-0.914522</td>\n",
       "      <td>1.0</td>\n",
       "      <td>0.0</td>\n",
       "      <td>0.0</td>\n",
       "      <td>-0.115882</td>\n",
       "      <td>0.953249</td>\n",
       "      <td>0</td>\n",
       "    </tr>\n",
       "    <tr>\n",
       "      <th>1061</th>\n",
       "      <td>0.0</td>\n",
       "      <td>2.885616</td>\n",
       "      <td>3.067145</td>\n",
       "      <td>0.0</td>\n",
       "      <td>1.0</td>\n",
       "      <td>-1.384891</td>\n",
       "      <td>1.0</td>\n",
       "      <td>0.0</td>\n",
       "      <td>1.165952</td>\n",
       "      <td>0.0</td>\n",
       "      <td>-0.483450</td>\n",
       "      <td>0.0</td>\n",
       "      <td>0.0</td>\n",
       "      <td>0.0</td>\n",
       "      <td>-2.826624</td>\n",
       "      <td>0.020974</td>\n",
       "      <td>1</td>\n",
       "    </tr>\n",
       "  </tbody>\n",
       "</table>\n",
       "<p>1425 rows × 17 columns</p>\n",
       "</div>"
      ],
      "text/plain": [
       "      Килип1   ИндНор1   Creatin  Тромболит3  Килип4       ФУ1  ГБ6  АКШ  \\\n",
       "288      1.0 -0.260822 -0.165048         0.0     0.0  0.117626  0.0  0.0   \n",
       "104      0.0 -0.571467 -0.165048         0.0     0.0 -0.730974  0.0  0.0   \n",
       "236      0.0  0.687757 -0.165048         0.0     0.0  0.146813  0.0  0.0   \n",
       "1545     0.0  0.581559  0.376523         0.0     0.0  0.505264  0.0  0.0   \n",
       "623      0.0  1.081611 -0.286824         0.0     1.0 -1.672989  0.0  0.0   \n",
       "...      ...       ...       ...         ...     ...       ...  ...  ...   \n",
       "715      1.0 -0.260822 -0.165048         0.0     0.0 -0.388423  0.0  0.0   \n",
       "905      0.0  3.860780  1.165575         0.0     1.0 -1.458895  1.0  0.0   \n",
       "1096     0.0  3.531296  1.165575         0.0     1.0 -1.565942  1.0  0.0   \n",
       "235      0.0 -0.227538 -0.286824         0.0     0.0  0.146813  0.0  0.0   \n",
       "1061     0.0  2.885616  3.067145         0.0     1.0 -1.384891  1.0  0.0   \n",
       "\n",
       "       Возраст  Килип3      Рла1  Килип2  Кл.вар.ИМ1  Хр.оч.инф2  \\\n",
       "288  -0.789860     0.0 -0.088020     0.0         1.0         1.0   \n",
       "104  -0.172457     0.0 -0.092465     1.0         1.0         0.0   \n",
       "236   0.522121     1.0  0.481789     0.0         0.0         0.0   \n",
       "1545  0.804804     1.0 -0.499022     0.0         0.0         0.0   \n",
       "623  -0.172457     0.0  1.064745     0.0         1.0         0.0   \n",
       "...        ...     ...       ...     ...         ...         ...   \n",
       "715  -0.172457     0.0 -0.660211     0.0         1.0         0.0   \n",
       "905   0.753647     0.0 -1.017734     0.0         0.0         0.0   \n",
       "1096  1.515606     0.0 -1.432923     0.0         0.0         0.0   \n",
       "235  -0.095282     0.0 -0.914522     1.0         0.0         0.0   \n",
       "1061  1.165952     0.0 -0.483450     0.0         0.0         0.0   \n",
       "\n",
       "      Pсрлао(Адср)1        ПИ  target  \n",
       "288        0.103881  0.040012       0  \n",
       "104        0.192557  0.040012       0  \n",
       "236        0.192557  0.020966       0  \n",
       "1545      -1.090116  1.811555       1  \n",
       "623        0.192557  0.040012       0  \n",
       "...             ...       ...     ...  \n",
       "715        0.500996  0.040012       0  \n",
       "905       -4.125589 -0.282568       1  \n",
       "1096      -3.598476 -0.282568       1  \n",
       "235       -0.115882  0.953249       0  \n",
       "1061      -2.826624  0.020974       1  \n",
       "\n",
       "[1425 rows x 17 columns]"
      ]
     },
     "execution_count": 9,
     "metadata": {},
     "output_type": "execute_result"
    }
   ],
   "source": [
    "X_train"
   ]
  },
  {
   "cell_type": "code",
   "execution_count": 10,
   "metadata": {},
   "outputs": [],
   "source": [
    "cat_col_names = ['Килип1', 'Килип4', 'Тромболит3', 'ГБ6', 'АКШ', 'Килип3', 'Килип2', 'Кл.вар.ИМ1', 'Хр.оч.инф2']\n",
    "num_col_names = ['Creatin', 'ФУ1', 'ИндНор1', 'Возраст', 'Pсрлао(Адср)1', 'ПИ', 'Рла1']"
   ]
  },
  {
   "cell_type": "code",
   "execution_count": 11,
   "metadata": {},
   "outputs": [],
   "source": [
    "from pytorch_tabular import TabularModel\n",
    "from pytorch_tabular.models import CategoryEmbeddingModelConfig, NodeConfig, TabNetModelConfig\n",
    "from pytorch_tabular.config import DataConfig, OptimizerConfig, TrainerConfig, ExperimentConfig"
   ]
  },
  {
   "cell_type": "code",
   "execution_count": 12,
   "metadata": {},
   "outputs": [],
   "source": [
    "data_config = DataConfig(\n",
    "    target=['target'],\n",
    "    continuous_cols=num_col_names,\n",
    "    categorical_cols=cat_col_names,\n",
    "    continuous_feature_transform = \"quantile_normal\"\n",
    ")\n",
    "\n",
    "trainer_config = TrainerConfig(\n",
    "    auto_lr_find = False,\n",
    "    batch_size = 16,\n",
    "    max_epochs = 10,\n",
    "    gpus = 0,\n",
    "    gradient_clip_val = 10,\n",
    "    load_best = True\n",
    ")\n",
    "\n",
    "model_config = NodeConfig(\n",
    "    task = \"classification\",\n",
    "    num_layers = 2,\n",
    "    num_trees = 1024,\n",
    "    learning_rate = 0.1,\n",
    "    embed_categorical = False,\n",
    "    metrics = [\"accuracy\"],\n",
    ")\n",
    "\n",
    "tabular_model = TabularModel(\n",
    "    data_config = data_config,\n",
    "    model_config = model_config,\n",
    "    optimizer_config = OptimizerConfig(),\n",
    "    trainer_config = trainer_config,\n",
    ")"
   ]
  },
  {
   "cell_type": "code",
   "execution_count": 13,
   "metadata": {},
   "outputs": [
    {
     "name": "stderr",
     "output_type": "stream",
     "text": [
      "C:\\Users\\olyav\\AppData\\Roaming\\Python\\Python38\\site-packages\\category_encoders\\utils.py:21: FutureWarning: is_categorical is deprecated and will be removed in a future version.  Use is_categorical_dtype instead\n",
      "  elif pd.api.types.is_categorical(cols):\n",
      "C:\\ProgramData\\Anaconda3\\lib\\site-packages\\pytorch_lightning\\utilities\\distributed.py:45: UserWarning: Checkpoint directory saved_models exists and is not empty. With save_top_k=1, all files in this directory will be deleted when a checkpoint is saved!\n",
      "  warnings.warn(*args, **kwargs)\n",
      "GPU available: False, used: False\n",
      "TPU available: False, using: 0 TPU cores\n",
      "GPU available: False, used: False\n",
      "TPU available: False, using: 0 TPU cores\n",
      "\n",
      "  | Name            | Type             | Params\n",
      "-----------------------------------------------------\n",
      "0 | backbone        | NODEBackbone     | 32.3 M\n",
      "1 | output_response | Lambda           | 0     \n",
      "2 | loss            | CrossEntropyLoss | 0     \n"
     ]
    },
    {
     "data": {
      "application/vnd.jupyter.widget-view+json": {
       "model_id": "",
       "version_major": 2,
       "version_minor": 0
      },
      "text/plain": [
       "HBox(children=(HTML(value='Validation sanity check'), FloatProgress(value=1.0, bar_style='info', layout=Layout…"
      ]
     },
     "metadata": {},
     "output_type": "display_data"
    },
    {
     "data": {
      "application/vnd.jupyter.widget-view+json": {
       "model_id": "4cd921eb42a14e35aa4c5ce21488a544",
       "version_major": 2,
       "version_minor": 0
      },
      "text/plain": [
       "HBox(children=(HTML(value='Training'), FloatProgress(value=1.0, bar_style='info', layout=Layout(flex='2'), max…"
      ]
     },
     "metadata": {},
     "output_type": "display_data"
    },
    {
     "data": {
      "application/vnd.jupyter.widget-view+json": {
       "model_id": "",
       "version_major": 2,
       "version_minor": 0
      },
      "text/plain": [
       "HBox(children=(HTML(value='Validating'), FloatProgress(value=1.0, bar_style='info', layout=Layout(flex='2'), m…"
      ]
     },
     "metadata": {},
     "output_type": "display_data"
    },
    {
     "data": {
      "application/vnd.jupyter.widget-view+json": {
       "model_id": "",
       "version_major": 2,
       "version_minor": 0
      },
      "text/plain": [
       "HBox(children=(HTML(value='Validating'), FloatProgress(value=1.0, bar_style='info', layout=Layout(flex='2'), m…"
      ]
     },
     "metadata": {},
     "output_type": "display_data"
    },
    {
     "data": {
      "application/vnd.jupyter.widget-view+json": {
       "model_id": "",
       "version_major": 2,
       "version_minor": 0
      },
      "text/plain": [
       "HBox(children=(HTML(value='Validating'), FloatProgress(value=1.0, bar_style='info', layout=Layout(flex='2'), m…"
      ]
     },
     "metadata": {},
     "output_type": "display_data"
    },
    {
     "data": {
      "application/vnd.jupyter.widget-view+json": {
       "model_id": "",
       "version_major": 2,
       "version_minor": 0
      },
      "text/plain": [
       "HBox(children=(HTML(value='Validating'), FloatProgress(value=1.0, bar_style='info', layout=Layout(flex='2'), m…"
      ]
     },
     "metadata": {},
     "output_type": "display_data"
    },
    {
     "data": {
      "application/vnd.jupyter.widget-view+json": {
       "model_id": "",
       "version_major": 2,
       "version_minor": 0
      },
      "text/plain": [
       "HBox(children=(HTML(value='Validating'), FloatProgress(value=1.0, bar_style='info', layout=Layout(flex='2'), m…"
      ]
     },
     "metadata": {},
     "output_type": "display_data"
    },
    {
     "data": {
      "application/vnd.jupyter.widget-view+json": {
       "model_id": "",
       "version_major": 2,
       "version_minor": 0
      },
      "text/plain": [
       "HBox(children=(HTML(value='Validating'), FloatProgress(value=1.0, bar_style='info', layout=Layout(flex='2'), m…"
      ]
     },
     "metadata": {},
     "output_type": "display_data"
    },
    {
     "data": {
      "application/vnd.jupyter.widget-view+json": {
       "model_id": "",
       "version_major": 2,
       "version_minor": 0
      },
      "text/plain": [
       "HBox(children=(HTML(value='Validating'), FloatProgress(value=1.0, bar_style='info', layout=Layout(flex='2'), m…"
      ]
     },
     "metadata": {},
     "output_type": "display_data"
    },
    {
     "data": {
      "application/vnd.jupyter.widget-view+json": {
       "model_id": "",
       "version_major": 2,
       "version_minor": 0
      },
      "text/plain": [
       "HBox(children=(HTML(value='Validating'), FloatProgress(value=1.0, bar_style='info', layout=Layout(flex='2'), m…"
      ]
     },
     "metadata": {},
     "output_type": "display_data"
    },
    {
     "data": {
      "application/vnd.jupyter.widget-view+json": {
       "model_id": "",
       "version_major": 2,
       "version_minor": 0
      },
      "text/plain": [
       "HBox(children=(HTML(value='Validating'), FloatProgress(value=1.0, bar_style='info', layout=Layout(flex='2'), m…"
      ]
     },
     "metadata": {},
     "output_type": "display_data"
    },
    {
     "data": {
      "application/vnd.jupyter.widget-view+json": {
       "model_id": "",
       "version_major": 2,
       "version_minor": 0
      },
      "text/plain": [
       "HBox(children=(HTML(value='Validating'), FloatProgress(value=1.0, bar_style='info', layout=Layout(flex='2'), m…"
      ]
     },
     "metadata": {},
     "output_type": "display_data"
    },
    {
     "name": "stdout",
     "output_type": "stream",
     "text": [
      "\n"
     ]
    }
   ],
   "source": [
    "tabular_model.fit(train = X_train, test = X_test)"
   ]
  },
  {
   "cell_type": "code",
   "execution_count": 47,
   "metadata": {},
   "outputs": [
    {
     "data": {
      "application/vnd.jupyter.widget-view+json": {
       "model_id": "a0cac14ae1744d0ebc01991f2e48c797",
       "version_major": 2,
       "version_minor": 0
      },
      "text/plain": [
       "HBox(children=(HTML(value='Generating Predictions...'), FloatProgress(value=0.0, max=23.0), HTML(value='')))"
      ]
     },
     "metadata": {},
     "output_type": "display_data"
    },
    {
     "name": "stdout",
     "output_type": "stream",
     "text": [
      "\n"
     ]
    },
    {
     "data": {
      "text/html": [
       "<div>\n",
       "<style scoped>\n",
       "    .dataframe tbody tr th:only-of-type {\n",
       "        vertical-align: middle;\n",
       "    }\n",
       "\n",
       "    .dataframe tbody tr th {\n",
       "        vertical-align: top;\n",
       "    }\n",
       "\n",
       "    .dataframe thead th {\n",
       "        text-align: right;\n",
       "    }\n",
       "</style>\n",
       "<table border=\"1\" class=\"dataframe\">\n",
       "  <thead>\n",
       "    <tr style=\"text-align: right;\">\n",
       "      <th></th>\n",
       "      <th>Килип1</th>\n",
       "      <th>ИндНор1</th>\n",
       "      <th>Creatin</th>\n",
       "      <th>Тромболит3</th>\n",
       "      <th>Килип4</th>\n",
       "      <th>ФУ1</th>\n",
       "      <th>ГБ6</th>\n",
       "      <th>АКШ</th>\n",
       "      <th>Возраст</th>\n",
       "      <th>Килип3</th>\n",
       "      <th>Рла1</th>\n",
       "      <th>Килип2</th>\n",
       "      <th>Кл.вар.ИМ1</th>\n",
       "      <th>Хр.оч.инф2</th>\n",
       "      <th>Pсрлао(Адср)1</th>\n",
       "      <th>ПИ</th>\n",
       "      <th>target</th>\n",
       "      <th>0_probability</th>\n",
       "      <th>1_probability</th>\n",
       "      <th>prediction</th>\n",
       "    </tr>\n",
       "  </thead>\n",
       "  <tbody>\n",
       "    <tr>\n",
       "      <th>1547</th>\n",
       "      <td>0.0</td>\n",
       "      <td>1.515061</td>\n",
       "      <td>-0.160335</td>\n",
       "      <td>0.0</td>\n",
       "      <td>0.0</td>\n",
       "      <td>2.153459</td>\n",
       "      <td>0.0</td>\n",
       "      <td>0.0</td>\n",
       "      <td>1.622223</td>\n",
       "      <td>1.0</td>\n",
       "      <td>0.020983</td>\n",
       "      <td>0.0</td>\n",
       "      <td>0.0</td>\n",
       "      <td>0.0</td>\n",
       "      <td>-1.094124</td>\n",
       "      <td>-0.036206</td>\n",
       "      <td>1</td>\n",
       "      <td>0.063941</td>\n",
       "      <td>0.936059</td>\n",
       "      <td>1</td>\n",
       "    </tr>\n",
       "    <tr>\n",
       "      <th>1171</th>\n",
       "      <td>0.0</td>\n",
       "      <td>0.629372</td>\n",
       "      <td>1.165575</td>\n",
       "      <td>1.0</td>\n",
       "      <td>1.0</td>\n",
       "      <td>-0.830675</td>\n",
       "      <td>0.0</td>\n",
       "      <td>1.0</td>\n",
       "      <td>-0.018123</td>\n",
       "      <td>0.0</td>\n",
       "      <td>0.621597</td>\n",
       "      <td>0.0</td>\n",
       "      <td>1.0</td>\n",
       "      <td>0.0</td>\n",
       "      <td>-0.733607</td>\n",
       "      <td>-0.282568</td>\n",
       "      <td>1</td>\n",
       "      <td>0.001398</td>\n",
       "      <td>0.998602</td>\n",
       "      <td>1</td>\n",
       "    </tr>\n",
       "    <tr>\n",
       "      <th>302</th>\n",
       "      <td>0.0</td>\n",
       "      <td>1.087158</td>\n",
       "      <td>0.562594</td>\n",
       "      <td>0.0</td>\n",
       "      <td>0.0</td>\n",
       "      <td>-1.351848</td>\n",
       "      <td>1.0</td>\n",
       "      <td>0.0</td>\n",
       "      <td>1.062349</td>\n",
       "      <td>0.0</td>\n",
       "      <td>0.080177</td>\n",
       "      <td>1.0</td>\n",
       "      <td>0.0</td>\n",
       "      <td>0.0</td>\n",
       "      <td>1.117874</td>\n",
       "      <td>-0.807730</td>\n",
       "      <td>0</td>\n",
       "      <td>0.288220</td>\n",
       "      <td>0.711780</td>\n",
       "      <td>1</td>\n",
       "    </tr>\n",
       "    <tr>\n",
       "      <th>108</th>\n",
       "      <td>0.0</td>\n",
       "      <td>0.415942</td>\n",
       "      <td>-0.853102</td>\n",
       "      <td>0.0</td>\n",
       "      <td>0.0</td>\n",
       "      <td>-0.495470</td>\n",
       "      <td>0.0</td>\n",
       "      <td>0.0</td>\n",
       "      <td>-1.175737</td>\n",
       "      <td>1.0</td>\n",
       "      <td>2.334086</td>\n",
       "      <td>0.0</td>\n",
       "      <td>0.0</td>\n",
       "      <td>0.0</td>\n",
       "      <td>-0.578541</td>\n",
       "      <td>0.040012</td>\n",
       "      <td>0</td>\n",
       "      <td>0.982532</td>\n",
       "      <td>0.017468</td>\n",
       "      <td>0</td>\n",
       "    </tr>\n",
       "    <tr>\n",
       "      <th>916</th>\n",
       "      <td>0.0</td>\n",
       "      <td>0.904099</td>\n",
       "      <td>1.165575</td>\n",
       "      <td>0.0</td>\n",
       "      <td>0.0</td>\n",
       "      <td>-1.244801</td>\n",
       "      <td>1.0</td>\n",
       "      <td>0.0</td>\n",
       "      <td>1.139524</td>\n",
       "      <td>1.0</td>\n",
       "      <td>0.732290</td>\n",
       "      <td>0.0</td>\n",
       "      <td>0.0</td>\n",
       "      <td>0.0</td>\n",
       "      <td>-0.424321</td>\n",
       "      <td>-0.282568</td>\n",
       "      <td>1</td>\n",
       "      <td>0.001002</td>\n",
       "      <td>0.998998</td>\n",
       "      <td>1</td>\n",
       "    </tr>\n",
       "  </tbody>\n",
       "</table>\n",
       "</div>"
      ],
      "text/plain": [
       "      Килип1   ИндНор1   Creatin  Тромболит3  Килип4       ФУ1  ГБ6  АКШ  \\\n",
       "1547     0.0  1.515061 -0.160335         0.0     0.0  2.153459  0.0  0.0   \n",
       "1171     0.0  0.629372  1.165575         1.0     1.0 -0.830675  0.0  1.0   \n",
       "302      0.0  1.087158  0.562594         0.0     0.0 -1.351848  1.0  0.0   \n",
       "108      0.0  0.415942 -0.853102         0.0     0.0 -0.495470  0.0  0.0   \n",
       "916      0.0  0.904099  1.165575         0.0     0.0 -1.244801  1.0  0.0   \n",
       "\n",
       "       Возраст  Килип3      Рла1  Килип2  Кл.вар.ИМ1  Хр.оч.инф2  \\\n",
       "1547  1.622223     1.0  0.020983     0.0         0.0         0.0   \n",
       "1171 -0.018123     0.0  0.621597     0.0         1.0         0.0   \n",
       "302   1.062349     0.0  0.080177     1.0         0.0         0.0   \n",
       "108  -1.175737     1.0  2.334086     0.0         0.0         0.0   \n",
       "916   1.139524     1.0  0.732290     0.0         0.0         0.0   \n",
       "\n",
       "      Pсрлао(Адср)1        ПИ  target  0_probability  1_probability  \\\n",
       "1547      -1.094124 -0.036206       1       0.063941       0.936059   \n",
       "1171      -0.733607 -0.282568       1       0.001398       0.998602   \n",
       "302        1.117874 -0.807730       0       0.288220       0.711780   \n",
       "108       -0.578541  0.040012       0       0.982532       0.017468   \n",
       "916       -0.424321 -0.282568       1       0.001002       0.998998   \n",
       "\n",
       "      prediction  \n",
       "1547           1  \n",
       "1171           1  \n",
       "302            1  \n",
       "108            0  \n",
       "916            1  "
      ]
     },
     "execution_count": 47,
     "metadata": {},
     "output_type": "execute_result"
    }
   ],
   "source": [
    "pred_df = tabular_model.predict(X_test)\n",
    "pred_df.head()"
   ]
  },
  {
   "cell_type": "code",
   "execution_count": 48,
   "metadata": {},
   "outputs": [
    {
     "name": "stdout",
     "output_type": "stream",
     "text": [
      "Holdout Acc: 0.9467787114845938 | Holdout F1: 0.9501312335958005\n"
     ]
    }
   ],
   "source": [
    "print_metrics(X_test['target'], pred_df[\"prediction\"], tag=\"Holdout\")"
   ]
  },
  {
   "cell_type": "code",
   "execution_count": 49,
   "metadata": {},
   "outputs": [],
   "source": [
    "X_val = pd.read_csv('X_val.csv', index_col = 'Unnamed: 0')\n",
    "y_val = pd.read_csv('y_val.csv', index_col = 'Unnamed: 0')"
   ]
  },
  {
   "cell_type": "code",
   "execution_count": 50,
   "metadata": {},
   "outputs": [],
   "source": [
    "X_val['target'] = y_val"
   ]
  },
  {
   "cell_type": "code",
   "execution_count": 95,
   "metadata": {},
   "outputs": [
    {
     "data": {
      "application/vnd.jupyter.widget-view+json": {
       "model_id": "30ecff6ba6174164ae94e063a0c8a249",
       "version_major": 2,
       "version_minor": 0
      },
      "text/plain": [
       "HBox(children=(HTML(value='Generating Predictions...'), FloatProgress(value=0.0, max=3.0), HTML(value='')))"
      ]
     },
     "metadata": {},
     "output_type": "display_data"
    },
    {
     "name": "stdout",
     "output_type": "stream",
     "text": [
      "\n"
     ]
    }
   ],
   "source": [
    "pred_df = tabular_model.predict(X_val)"
   ]
  },
  {
   "cell_type": "code",
   "execution_count": 97,
   "metadata": {},
   "outputs": [
    {
     "name": "stdout",
     "output_type": "stream",
     "text": [
      "Holdout Acc: 0.9473684210526315 | Holdout F1: 0.9500000000000001\n"
     ]
    }
   ],
   "source": [
    "print_metrics(X_val['target'], pred_df[\"prediction\"], tag=\"Holdout\")"
   ]
  },
  {
   "cell_type": "code",
   "execution_count": 20,
   "metadata": {},
   "outputs": [],
   "source": [
    "data_config = DataConfig(\n",
    "    target=['target'],\n",
    "    continuous_cols=num_col_names,\n",
    "    categorical_cols=cat_col_names,\n",
    "    continuous_feature_transform = \"quantile_normal\"\n",
    ")\n",
    "\n",
    "trainer_config = TrainerConfig(\n",
    "    auto_lr_find = False,\n",
    "    batch_size = 16,\n",
    "    max_epochs = 10,\n",
    "    gpus = 0,\n",
    "    gradient_clip_val = 10,\n",
    "    load_best = True\n",
    ")\n",
    "\n",
    "model_config = NodeConfig(\n",
    "    task = \"classification\",\n",
    "    num_layers = 3,\n",
    "    num_trees = 1024,\n",
    "    learning_rate = 0.1,\n",
    "    embed_categorical = False,\n",
    "    metrics = [\"accuracy\"],\n",
    ")\n",
    "\n",
    "tabular_model2 = TabularModel(\n",
    "    data_config = data_config,\n",
    "    model_config = model_config,\n",
    "    optimizer_config = OptimizerConfig(),\n",
    "    trainer_config = trainer_config,\n",
    ")"
   ]
  },
  {
   "cell_type": "code",
   "execution_count": 21,
   "metadata": {},
   "outputs": [
    {
     "name": "stderr",
     "output_type": "stream",
     "text": [
      "C:\\Users\\olyav\\AppData\\Roaming\\Python\\Python38\\site-packages\\category_encoders\\utils.py:21: FutureWarning: is_categorical is deprecated and will be removed in a future version.  Use is_categorical_dtype instead\n",
      "  elif pd.api.types.is_categorical(cols):\n",
      "C:\\ProgramData\\Anaconda3\\lib\\site-packages\\pytorch_lightning\\utilities\\distributed.py:45: UserWarning: Checkpoint directory saved_models exists and is not empty. With save_top_k=1, all files in this directory will be deleted when a checkpoint is saved!\n",
      "  warnings.warn(*args, **kwargs)\n",
      "GPU available: False, used: False\n",
      "TPU available: False, using: 0 TPU cores\n",
      "GPU available: False, used: False\n",
      "TPU available: False, using: 0 TPU cores\n",
      "\n",
      "  | Name            | Type             | Params\n",
      "-----------------------------------------------------\n",
      "0 | backbone        | NODEBackbone     | 95.7 M\n",
      "1 | output_response | Lambda           | 0     \n",
      "2 | loss            | CrossEntropyLoss | 0     \n"
     ]
    },
    {
     "data": {
      "application/vnd.jupyter.widget-view+json": {
       "model_id": "",
       "version_major": 2,
       "version_minor": 0
      },
      "text/plain": [
       "HBox(children=(HTML(value='Validation sanity check'), FloatProgress(value=1.0, bar_style='info', layout=Layout…"
      ]
     },
     "metadata": {},
     "output_type": "display_data"
    },
    {
     "data": {
      "application/vnd.jupyter.widget-view+json": {
       "model_id": "2ef4cb976c3242e3aaf31d753cc2ad37",
       "version_major": 2,
       "version_minor": 0
      },
      "text/plain": [
       "HBox(children=(HTML(value='Training'), FloatProgress(value=1.0, bar_style='info', layout=Layout(flex='2'), max…"
      ]
     },
     "metadata": {},
     "output_type": "display_data"
    },
    {
     "data": {
      "application/vnd.jupyter.widget-view+json": {
       "model_id": "",
       "version_major": 2,
       "version_minor": 0
      },
      "text/plain": [
       "HBox(children=(HTML(value='Validating'), FloatProgress(value=1.0, bar_style='info', layout=Layout(flex='2'), m…"
      ]
     },
     "metadata": {},
     "output_type": "display_data"
    },
    {
     "data": {
      "application/vnd.jupyter.widget-view+json": {
       "model_id": "",
       "version_major": 2,
       "version_minor": 0
      },
      "text/plain": [
       "HBox(children=(HTML(value='Validating'), FloatProgress(value=1.0, bar_style='info', layout=Layout(flex='2'), m…"
      ]
     },
     "metadata": {},
     "output_type": "display_data"
    },
    {
     "data": {
      "application/vnd.jupyter.widget-view+json": {
       "model_id": "",
       "version_major": 2,
       "version_minor": 0
      },
      "text/plain": [
       "HBox(children=(HTML(value='Validating'), FloatProgress(value=1.0, bar_style='info', layout=Layout(flex='2'), m…"
      ]
     },
     "metadata": {},
     "output_type": "display_data"
    },
    {
     "data": {
      "application/vnd.jupyter.widget-view+json": {
       "model_id": "",
       "version_major": 2,
       "version_minor": 0
      },
      "text/plain": [
       "HBox(children=(HTML(value='Validating'), FloatProgress(value=1.0, bar_style='info', layout=Layout(flex='2'), m…"
      ]
     },
     "metadata": {},
     "output_type": "display_data"
    },
    {
     "data": {
      "application/vnd.jupyter.widget-view+json": {
       "model_id": "",
       "version_major": 2,
       "version_minor": 0
      },
      "text/plain": [
       "HBox(children=(HTML(value='Validating'), FloatProgress(value=1.0, bar_style='info', layout=Layout(flex='2'), m…"
      ]
     },
     "metadata": {},
     "output_type": "display_data"
    },
    {
     "data": {
      "application/vnd.jupyter.widget-view+json": {
       "model_id": "",
       "version_major": 2,
       "version_minor": 0
      },
      "text/plain": [
       "HBox(children=(HTML(value='Validating'), FloatProgress(value=1.0, bar_style='info', layout=Layout(flex='2'), m…"
      ]
     },
     "metadata": {},
     "output_type": "display_data"
    },
    {
     "data": {
      "application/vnd.jupyter.widget-view+json": {
       "model_id": "",
       "version_major": 2,
       "version_minor": 0
      },
      "text/plain": [
       "HBox(children=(HTML(value='Validating'), FloatProgress(value=1.0, bar_style='info', layout=Layout(flex='2'), m…"
      ]
     },
     "metadata": {},
     "output_type": "display_data"
    },
    {
     "data": {
      "application/vnd.jupyter.widget-view+json": {
       "model_id": "",
       "version_major": 2,
       "version_minor": 0
      },
      "text/plain": [
       "HBox(children=(HTML(value='Validating'), FloatProgress(value=1.0, bar_style='info', layout=Layout(flex='2'), m…"
      ]
     },
     "metadata": {},
     "output_type": "display_data"
    },
    {
     "data": {
      "application/vnd.jupyter.widget-view+json": {
       "model_id": "",
       "version_major": 2,
       "version_minor": 0
      },
      "text/plain": [
       "HBox(children=(HTML(value='Validating'), FloatProgress(value=1.0, bar_style='info', layout=Layout(flex='2'), m…"
      ]
     },
     "metadata": {},
     "output_type": "display_data"
    },
    {
     "data": {
      "application/vnd.jupyter.widget-view+json": {
       "model_id": "",
       "version_major": 2,
       "version_minor": 0
      },
      "text/plain": [
       "HBox(children=(HTML(value='Validating'), FloatProgress(value=1.0, bar_style='info', layout=Layout(flex='2'), m…"
      ]
     },
     "metadata": {},
     "output_type": "display_data"
    },
    {
     "name": "stdout",
     "output_type": "stream",
     "text": [
      "\n"
     ]
    }
   ],
   "source": [
    "tabular_model2.fit(train = X_train, test = X_test)"
   ]
  },
  {
   "cell_type": "code",
   "execution_count": 22,
   "metadata": {},
   "outputs": [
    {
     "data": {
      "application/vnd.jupyter.widget-view+json": {
       "model_id": "ab171df377fc4b178893b3c46772daf1",
       "version_major": 2,
       "version_minor": 0
      },
      "text/plain": [
       "HBox(children=(HTML(value='Generating Predictions...'), FloatProgress(value=0.0, max=23.0), HTML(value='')))"
      ]
     },
     "metadata": {},
     "output_type": "display_data"
    },
    {
     "name": "stdout",
     "output_type": "stream",
     "text": [
      "\n"
     ]
    },
    {
     "data": {
      "text/html": [
       "<div>\n",
       "<style scoped>\n",
       "    .dataframe tbody tr th:only-of-type {\n",
       "        vertical-align: middle;\n",
       "    }\n",
       "\n",
       "    .dataframe tbody tr th {\n",
       "        vertical-align: top;\n",
       "    }\n",
       "\n",
       "    .dataframe thead th {\n",
       "        text-align: right;\n",
       "    }\n",
       "</style>\n",
       "<table border=\"1\" class=\"dataframe\">\n",
       "  <thead>\n",
       "    <tr style=\"text-align: right;\">\n",
       "      <th></th>\n",
       "      <th>Килип1</th>\n",
       "      <th>ИндНор1</th>\n",
       "      <th>Creatin</th>\n",
       "      <th>Тромболит3</th>\n",
       "      <th>Килип4</th>\n",
       "      <th>ФУ1</th>\n",
       "      <th>ГБ6</th>\n",
       "      <th>АКШ</th>\n",
       "      <th>Возраст</th>\n",
       "      <th>Килип3</th>\n",
       "      <th>Рла1</th>\n",
       "      <th>Килип2</th>\n",
       "      <th>Кл.вар.ИМ1</th>\n",
       "      <th>Хр.оч.инф2</th>\n",
       "      <th>Pсрлао(Адср)1</th>\n",
       "      <th>ПИ</th>\n",
       "      <th>target</th>\n",
       "      <th>0_probability</th>\n",
       "      <th>1_probability</th>\n",
       "      <th>prediction</th>\n",
       "    </tr>\n",
       "  </thead>\n",
       "  <tbody>\n",
       "    <tr>\n",
       "      <th>1547</th>\n",
       "      <td>0.0</td>\n",
       "      <td>1.515061</td>\n",
       "      <td>-0.160335</td>\n",
       "      <td>0.0</td>\n",
       "      <td>0.0</td>\n",
       "      <td>2.153459</td>\n",
       "      <td>0.0</td>\n",
       "      <td>0.0</td>\n",
       "      <td>1.622223</td>\n",
       "      <td>1.0</td>\n",
       "      <td>0.020983</td>\n",
       "      <td>0.0</td>\n",
       "      <td>0.0</td>\n",
       "      <td>0.0</td>\n",
       "      <td>-1.094124</td>\n",
       "      <td>-0.036206</td>\n",
       "      <td>1</td>\n",
       "      <td>0.134824</td>\n",
       "      <td>0.865176</td>\n",
       "      <td>1</td>\n",
       "    </tr>\n",
       "    <tr>\n",
       "      <th>1171</th>\n",
       "      <td>0.0</td>\n",
       "      <td>0.629372</td>\n",
       "      <td>1.165575</td>\n",
       "      <td>1.0</td>\n",
       "      <td>1.0</td>\n",
       "      <td>-0.830675</td>\n",
       "      <td>0.0</td>\n",
       "      <td>1.0</td>\n",
       "      <td>-0.018123</td>\n",
       "      <td>0.0</td>\n",
       "      <td>0.621597</td>\n",
       "      <td>0.0</td>\n",
       "      <td>1.0</td>\n",
       "      <td>0.0</td>\n",
       "      <td>-0.733607</td>\n",
       "      <td>-0.282568</td>\n",
       "      <td>1</td>\n",
       "      <td>0.000780</td>\n",
       "      <td>0.999220</td>\n",
       "      <td>1</td>\n",
       "    </tr>\n",
       "    <tr>\n",
       "      <th>302</th>\n",
       "      <td>0.0</td>\n",
       "      <td>1.087158</td>\n",
       "      <td>0.562594</td>\n",
       "      <td>0.0</td>\n",
       "      <td>0.0</td>\n",
       "      <td>-1.351848</td>\n",
       "      <td>1.0</td>\n",
       "      <td>0.0</td>\n",
       "      <td>1.062349</td>\n",
       "      <td>0.0</td>\n",
       "      <td>0.080177</td>\n",
       "      <td>1.0</td>\n",
       "      <td>0.0</td>\n",
       "      <td>0.0</td>\n",
       "      <td>1.117874</td>\n",
       "      <td>-0.807730</td>\n",
       "      <td>0</td>\n",
       "      <td>0.398537</td>\n",
       "      <td>0.601463</td>\n",
       "      <td>1</td>\n",
       "    </tr>\n",
       "    <tr>\n",
       "      <th>108</th>\n",
       "      <td>0.0</td>\n",
       "      <td>0.415942</td>\n",
       "      <td>-0.853102</td>\n",
       "      <td>0.0</td>\n",
       "      <td>0.0</td>\n",
       "      <td>-0.495470</td>\n",
       "      <td>0.0</td>\n",
       "      <td>0.0</td>\n",
       "      <td>-1.175737</td>\n",
       "      <td>1.0</td>\n",
       "      <td>2.334086</td>\n",
       "      <td>0.0</td>\n",
       "      <td>0.0</td>\n",
       "      <td>0.0</td>\n",
       "      <td>-0.578541</td>\n",
       "      <td>0.040012</td>\n",
       "      <td>0</td>\n",
       "      <td>0.979921</td>\n",
       "      <td>0.020079</td>\n",
       "      <td>0</td>\n",
       "    </tr>\n",
       "    <tr>\n",
       "      <th>916</th>\n",
       "      <td>0.0</td>\n",
       "      <td>0.904099</td>\n",
       "      <td>1.165575</td>\n",
       "      <td>0.0</td>\n",
       "      <td>0.0</td>\n",
       "      <td>-1.244801</td>\n",
       "      <td>1.0</td>\n",
       "      <td>0.0</td>\n",
       "      <td>1.139524</td>\n",
       "      <td>1.0</td>\n",
       "      <td>0.732290</td>\n",
       "      <td>0.0</td>\n",
       "      <td>0.0</td>\n",
       "      <td>0.0</td>\n",
       "      <td>-0.424321</td>\n",
       "      <td>-0.282568</td>\n",
       "      <td>1</td>\n",
       "      <td>0.001541</td>\n",
       "      <td>0.998459</td>\n",
       "      <td>1</td>\n",
       "    </tr>\n",
       "  </tbody>\n",
       "</table>\n",
       "</div>"
      ],
      "text/plain": [
       "      Килип1   ИндНор1   Creatin  Тромболит3  Килип4       ФУ1  ГБ6  АКШ  \\\n",
       "1547     0.0  1.515061 -0.160335         0.0     0.0  2.153459  0.0  0.0   \n",
       "1171     0.0  0.629372  1.165575         1.0     1.0 -0.830675  0.0  1.0   \n",
       "302      0.0  1.087158  0.562594         0.0     0.0 -1.351848  1.0  0.0   \n",
       "108      0.0  0.415942 -0.853102         0.0     0.0 -0.495470  0.0  0.0   \n",
       "916      0.0  0.904099  1.165575         0.0     0.0 -1.244801  1.0  0.0   \n",
       "\n",
       "       Возраст  Килип3      Рла1  Килип2  Кл.вар.ИМ1  Хр.оч.инф2  \\\n",
       "1547  1.622223     1.0  0.020983     0.0         0.0         0.0   \n",
       "1171 -0.018123     0.0  0.621597     0.0         1.0         0.0   \n",
       "302   1.062349     0.0  0.080177     1.0         0.0         0.0   \n",
       "108  -1.175737     1.0  2.334086     0.0         0.0         0.0   \n",
       "916   1.139524     1.0  0.732290     0.0         0.0         0.0   \n",
       "\n",
       "      Pсрлао(Адср)1        ПИ  target  0_probability  1_probability  \\\n",
       "1547      -1.094124 -0.036206       1       0.134824       0.865176   \n",
       "1171      -0.733607 -0.282568       1       0.000780       0.999220   \n",
       "302        1.117874 -0.807730       0       0.398537       0.601463   \n",
       "108       -0.578541  0.040012       0       0.979921       0.020079   \n",
       "916       -0.424321 -0.282568       1       0.001541       0.998459   \n",
       "\n",
       "      prediction  \n",
       "1547           1  \n",
       "1171           1  \n",
       "302            1  \n",
       "108            0  \n",
       "916            1  "
      ]
     },
     "execution_count": 22,
     "metadata": {},
     "output_type": "execute_result"
    }
   ],
   "source": [
    "pred_df = tabular_model2.predict(X_test)\n",
    "pred_df.head()"
   ]
  },
  {
   "cell_type": "code",
   "execution_count": 23,
   "metadata": {},
   "outputs": [
    {
     "name": "stdout",
     "output_type": "stream",
     "text": [
      "Holdout Acc: 0.9243697478991597 | Holdout F1: 0.9268292682926829\n"
     ]
    }
   ],
   "source": [
    "print_metrics(X_test['target'], pred_df[\"prediction\"], tag=\"Holdout\")"
   ]
  },
  {
   "cell_type": "code",
   "execution_count": 83,
   "metadata": {},
   "outputs": [
    {
     "data": {
      "application/vnd.jupyter.widget-view+json": {
       "model_id": "6d77a2eb0b6745a0880bd9241a3e9157",
       "version_major": 2,
       "version_minor": 0
      },
      "text/plain": [
       "HBox(children=(HTML(value='Generating Predictions...'), FloatProgress(value=0.0, max=5.0), HTML(value='')))"
      ]
     },
     "metadata": {},
     "output_type": "display_data"
    },
    {
     "name": "stdout",
     "output_type": "stream",
     "text": [
      "\n",
      "Holdout Acc: 0.9487179487179487 | Holdout F1: 0.9473684210526316\n"
     ]
    }
   ],
   "source": [
    "pred_df = tabular_model2.predict(X_val)\n",
    "print_metrics(X_val['target'], pred_df[\"prediction\"], tag=\"Holdout\")"
   ]
  }
 ],
 "metadata": {
  "kernelspec": {
   "display_name": "Python 3",
   "language": "python",
   "name": "python3"
  },
  "language_info": {
   "codemirror_mode": {
    "name": "ipython",
    "version": 3
   },
   "file_extension": ".py",
   "mimetype": "text/x-python",
   "name": "python",
   "nbconvert_exporter": "python",
   "pygments_lexer": "ipython3",
   "version": "3.8.5"
  }
 },
 "nbformat": 4,
 "nbformat_minor": 4
}
